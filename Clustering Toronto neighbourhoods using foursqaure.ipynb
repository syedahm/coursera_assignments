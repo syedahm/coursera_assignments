{
 "cells": [
  {
   "cell_type": "markdown",
   "metadata": {},
   "source": [
    "## part 1) Scrape data off wikipedia"
   ]
  },
  {
   "cell_type": "code",
   "execution_count": 1,
   "metadata": {},
   "outputs": [],
   "source": [
    "import pandas as pd"
   ]
  },
  {
   "cell_type": "markdown",
   "metadata": {},
   "source": [
    "#### Read data from wikipedia table into pandas"
   ]
  },
  {
   "cell_type": "code",
   "execution_count": 2,
   "metadata": {},
   "outputs": [],
   "source": [
    "link = 'https://en.wikipedia.org/wiki/List_of_postal_codes_of_Canada:_M'"
   ]
  },
  {
   "cell_type": "code",
   "execution_count": 3,
   "metadata": {},
   "outputs": [],
   "source": [
    "table = pd.read_html(link)"
   ]
  },
  {
   "cell_type": "code",
   "execution_count": 4,
   "metadata": {},
   "outputs": [],
   "source": [
    "postal_code_data = table[0]"
   ]
  },
  {
   "cell_type": "code",
   "execution_count": 5,
   "metadata": {},
   "outputs": [
    {
     "data": {
      "text/html": [
       "<div>\n",
       "<style scoped>\n",
       "    .dataframe tbody tr th:only-of-type {\n",
       "        vertical-align: middle;\n",
       "    }\n",
       "\n",
       "    .dataframe tbody tr th {\n",
       "        vertical-align: top;\n",
       "    }\n",
       "\n",
       "    .dataframe thead th {\n",
       "        text-align: right;\n",
       "    }\n",
       "</style>\n",
       "<table border=\"1\" class=\"dataframe\">\n",
       "  <thead>\n",
       "    <tr style=\"text-align: right;\">\n",
       "      <th></th>\n",
       "      <th>0</th>\n",
       "      <th>1</th>\n",
       "      <th>2</th>\n",
       "    </tr>\n",
       "  </thead>\n",
       "  <tbody>\n",
       "    <tr>\n",
       "      <th>0</th>\n",
       "      <td>Postal Code</td>\n",
       "      <td>Borough</td>\n",
       "      <td>Neighborhood</td>\n",
       "    </tr>\n",
       "    <tr>\n",
       "      <th>1</th>\n",
       "      <td>M1A</td>\n",
       "      <td>Not assigned</td>\n",
       "      <td>NaN</td>\n",
       "    </tr>\n",
       "    <tr>\n",
       "      <th>2</th>\n",
       "      <td>M2A</td>\n",
       "      <td>Not assigned</td>\n",
       "      <td>NaN</td>\n",
       "    </tr>\n",
       "    <tr>\n",
       "      <th>3</th>\n",
       "      <td>M3A</td>\n",
       "      <td>North York</td>\n",
       "      <td>Parkwoods</td>\n",
       "    </tr>\n",
       "    <tr>\n",
       "      <th>4</th>\n",
       "      <td>M4A</td>\n",
       "      <td>North York</td>\n",
       "      <td>Victoria Village</td>\n",
       "    </tr>\n",
       "  </tbody>\n",
       "</table>\n",
       "</div>"
      ],
      "text/plain": [
       "             0             1                 2\n",
       "0  Postal Code       Borough      Neighborhood\n",
       "1          M1A  Not assigned               NaN\n",
       "2          M2A  Not assigned               NaN\n",
       "3          M3A    North York         Parkwoods\n",
       "4          M4A    North York  Victoria Village"
      ]
     },
     "execution_count": 5,
     "metadata": {},
     "output_type": "execute_result"
    }
   ],
   "source": [
    "postal_code_data.head()"
   ]
  },
  {
   "cell_type": "markdown",
   "metadata": {},
   "source": [
    "#### Reassign headers"
   ]
  },
  {
   "cell_type": "code",
   "execution_count": 6,
   "metadata": {},
   "outputs": [],
   "source": [
    "headers = postal_code_data.loc[0,:]"
   ]
  },
  {
   "cell_type": "code",
   "execution_count": 7,
   "metadata": {},
   "outputs": [],
   "source": [
    "postal_code_data = postal_code_data.loc[1:,:]"
   ]
  },
  {
   "cell_type": "code",
   "execution_count": 8,
   "metadata": {},
   "outputs": [],
   "source": [
    "postal_code_data.columns = headers"
   ]
  },
  {
   "cell_type": "code",
   "execution_count": 9,
   "metadata": {},
   "outputs": [
    {
     "data": {
      "text/html": [
       "<div>\n",
       "<style scoped>\n",
       "    .dataframe tbody tr th:only-of-type {\n",
       "        vertical-align: middle;\n",
       "    }\n",
       "\n",
       "    .dataframe tbody tr th {\n",
       "        vertical-align: top;\n",
       "    }\n",
       "\n",
       "    .dataframe thead th {\n",
       "        text-align: right;\n",
       "    }\n",
       "</style>\n",
       "<table border=\"1\" class=\"dataframe\">\n",
       "  <thead>\n",
       "    <tr style=\"text-align: right;\">\n",
       "      <th></th>\n",
       "      <th>Postal Code</th>\n",
       "      <th>Borough</th>\n",
       "      <th>Neighborhood</th>\n",
       "    </tr>\n",
       "  </thead>\n",
       "  <tbody>\n",
       "    <tr>\n",
       "      <th>1</th>\n",
       "      <td>M1A</td>\n",
       "      <td>Not assigned</td>\n",
       "      <td>NaN</td>\n",
       "    </tr>\n",
       "    <tr>\n",
       "      <th>2</th>\n",
       "      <td>M2A</td>\n",
       "      <td>Not assigned</td>\n",
       "      <td>NaN</td>\n",
       "    </tr>\n",
       "    <tr>\n",
       "      <th>3</th>\n",
       "      <td>M3A</td>\n",
       "      <td>North York</td>\n",
       "      <td>Parkwoods</td>\n",
       "    </tr>\n",
       "  </tbody>\n",
       "</table>\n",
       "</div>"
      ],
      "text/plain": [
       "0 Postal Code       Borough Neighborhood\n",
       "1         M1A  Not assigned          NaN\n",
       "2         M2A  Not assigned          NaN\n",
       "3         M3A    North York    Parkwoods"
      ]
     },
     "execution_count": 9,
     "metadata": {},
     "output_type": "execute_result"
    }
   ],
   "source": [
    "postal_code_data.head(3)"
   ]
  },
  {
   "cell_type": "markdown",
   "metadata": {},
   "source": [
    "#### Remove null boroughs"
   ]
  },
  {
   "cell_type": "code",
   "execution_count": 10,
   "metadata": {},
   "outputs": [],
   "source": [
    "postal_code_data_filtered = postal_code_data[postal_code_data['Borough'] != 'Not assigned']"
   ]
  },
  {
   "cell_type": "code",
   "execution_count": 11,
   "metadata": {},
   "outputs": [
    {
     "data": {
      "text/plain": [
       "(103, 3)"
      ]
     },
     "execution_count": 11,
     "metadata": {},
     "output_type": "execute_result"
    }
   ],
   "source": [
    "postal_code_data_filtered.shape"
   ]
  },
  {
   "cell_type": "markdown",
   "metadata": {},
   "source": [
    "#### Find duplicates"
   ]
  },
  {
   "cell_type": "code",
   "execution_count": 12,
   "metadata": {},
   "outputs": [],
   "source": [
    "duplicates = postal_code_data_filtered[postal_code_data_filtered.duplicated(subset='Postal Code', keep=False)]"
   ]
  },
  {
   "cell_type": "code",
   "execution_count": 13,
   "metadata": {},
   "outputs": [
    {
     "data": {
      "text/html": [
       "<div>\n",
       "<style scoped>\n",
       "    .dataframe tbody tr th:only-of-type {\n",
       "        vertical-align: middle;\n",
       "    }\n",
       "\n",
       "    .dataframe tbody tr th {\n",
       "        vertical-align: top;\n",
       "    }\n",
       "\n",
       "    .dataframe thead th {\n",
       "        text-align: right;\n",
       "    }\n",
       "</style>\n",
       "<table border=\"1\" class=\"dataframe\">\n",
       "  <thead>\n",
       "    <tr style=\"text-align: right;\">\n",
       "      <th></th>\n",
       "      <th>Postal Code</th>\n",
       "      <th>Borough</th>\n",
       "      <th>Neighborhood</th>\n",
       "    </tr>\n",
       "  </thead>\n",
       "  <tbody>\n",
       "  </tbody>\n",
       "</table>\n",
       "</div>"
      ],
      "text/plain": [
       "Empty DataFrame\n",
       "Columns: [Postal Code, Borough, Neighborhood]\n",
       "Index: []"
      ]
     },
     "execution_count": 13,
     "metadata": {},
     "output_type": "execute_result"
    }
   ],
   "source": [
    "duplicates"
   ]
  },
  {
   "cell_type": "code",
   "execution_count": 14,
   "metadata": {},
   "outputs": [
    {
     "data": {
      "text/html": [
       "<div>\n",
       "<style scoped>\n",
       "    .dataframe tbody tr th:only-of-type {\n",
       "        vertical-align: middle;\n",
       "    }\n",
       "\n",
       "    .dataframe tbody tr th {\n",
       "        vertical-align: top;\n",
       "    }\n",
       "\n",
       "    .dataframe thead th {\n",
       "        text-align: right;\n",
       "    }\n",
       "</style>\n",
       "<table border=\"1\" class=\"dataframe\">\n",
       "  <thead>\n",
       "    <tr style=\"text-align: right;\">\n",
       "      <th></th>\n",
       "      <th>Postal Code</th>\n",
       "      <th>Borough</th>\n",
       "      <th>Neighborhood</th>\n",
       "    </tr>\n",
       "  </thead>\n",
       "  <tbody>\n",
       "  </tbody>\n",
       "</table>\n",
       "</div>"
      ],
      "text/plain": [
       "Empty DataFrame\n",
       "Columns: [Postal Code, Borough, Neighborhood]\n",
       "Index: []"
      ]
     },
     "execution_count": 14,
     "metadata": {},
     "output_type": "execute_result"
    }
   ],
   "source": [
    "duplicates.sort_values(by='Postal Code')"
   ]
  },
  {
   "cell_type": "code",
   "execution_count": 15,
   "metadata": {},
   "outputs": [],
   "source": [
    "# joined = postal_code_data_filtered.groupby(['Postal Code', 'Borough'])['Neighborhood'].apply(list).apply(lambda x:', '.join(x)).to_frame().reset_index()"
   ]
  },
  {
   "cell_type": "markdown",
   "metadata": {},
   "source": [
    "No Duplicates found in the data"
   ]
  },
  {
   "cell_type": "markdown",
   "metadata": {},
   "source": [
    "#### Filling in not assigned neighbourhood data"
   ]
  },
  {
   "cell_type": "code",
   "execution_count": 16,
   "metadata": {},
   "outputs": [],
   "source": [
    "nulls = postal_code_data_filtered[postal_code_data_filtered['Neighborhood'] == 'Not assigned']"
   ]
  },
  {
   "cell_type": "code",
   "execution_count": 17,
   "metadata": {},
   "outputs": [
    {
     "data": {
      "text/html": [
       "<div>\n",
       "<style scoped>\n",
       "    .dataframe tbody tr th:only-of-type {\n",
       "        vertical-align: middle;\n",
       "    }\n",
       "\n",
       "    .dataframe tbody tr th {\n",
       "        vertical-align: top;\n",
       "    }\n",
       "\n",
       "    .dataframe thead th {\n",
       "        text-align: right;\n",
       "    }\n",
       "</style>\n",
       "<table border=\"1\" class=\"dataframe\">\n",
       "  <thead>\n",
       "    <tr style=\"text-align: right;\">\n",
       "      <th></th>\n",
       "      <th>Postal Code</th>\n",
       "      <th>Borough</th>\n",
       "      <th>Neighborhood</th>\n",
       "    </tr>\n",
       "  </thead>\n",
       "  <tbody>\n",
       "  </tbody>\n",
       "</table>\n",
       "</div>"
      ],
      "text/plain": [
       "Empty DataFrame\n",
       "Columns: [Postal Code, Borough, Neighborhood]\n",
       "Index: []"
      ]
     },
     "execution_count": 17,
     "metadata": {},
     "output_type": "execute_result"
    }
   ],
   "source": [
    "nulls"
   ]
  },
  {
   "cell_type": "markdown",
   "metadata": {},
   "source": [
    "No unassigned neighbourhoods found"
   ]
  },
  {
   "cell_type": "markdown",
   "metadata": {},
   "source": [
    "## part 2) get coordinates "
   ]
  },
  {
   "cell_type": "code",
   "execution_count": 19,
   "metadata": {},
   "outputs": [],
   "source": [
    "import geocoder # import geocoder"
   ]
  },
  {
   "cell_type": "code",
   "execution_count": 21,
   "metadata": {},
   "outputs": [],
   "source": [
    "# for code in postal_code_data_filtered['Postal Code']:\n",
    "#     # initialize your variable to None\n",
    "#     lat_lng_coords = None\n",
    "\n",
    "#     # loop until you get the coordinates\n",
    "#     while(lat_lng_coords is None):\n",
    "#       g = geocoder.google('{}, Toronto, Ontario'.format(code))\n",
    "#       lat_lng_coords = g.latlng\n",
    "\n",
    "#     latitude = lat_lng_coords[0]\n",
    "#     longitude = lat_lng_coords[1]\n",
    "    \n",
    "#     postal_code_data_filtered['lat'] = latitude\n",
    "#     postal_code_data_filtered['long'] = longitude"
   ]
  },
  {
   "cell_type": "code",
   "execution_count": 22,
   "metadata": {},
   "outputs": [],
   "source": [
    "g = geocoder.google('{}, Toronto, Ontario'.format('M3A'))"
   ]
  },
  {
   "cell_type": "code",
   "execution_count": 23,
   "metadata": {},
   "outputs": [
    {
     "data": {
      "text/plain": [
       "<[REQUEST_DENIED] Google - Geocode [empty]>"
      ]
     },
     "execution_count": 23,
     "metadata": {},
     "output_type": "execute_result"
    }
   ],
   "source": [
    "g"
   ]
  },
  {
   "cell_type": "markdown",
   "metadata": {},
   "source": [
    "using csv as geocode library does not provide data"
   ]
  },
  {
   "cell_type": "code",
   "execution_count": 24,
   "metadata": {},
   "outputs": [],
   "source": [
    "import requests, io"
   ]
  },
  {
   "cell_type": "code",
   "execution_count": 25,
   "metadata": {},
   "outputs": [],
   "source": [
    "url=\"http://cocl.us/Geospatial_data\"\n",
    "s=requests.get(url).content"
   ]
  },
  {
   "cell_type": "code",
   "execution_count": 26,
   "metadata": {},
   "outputs": [],
   "source": [
    "coordinates=pd.read_csv(io.StringIO(s.decode('utf-8')))"
   ]
  },
  {
   "cell_type": "code",
   "execution_count": 27,
   "metadata": {},
   "outputs": [
    {
     "data": {
      "text/html": [
       "<div>\n",
       "<style scoped>\n",
       "    .dataframe tbody tr th:only-of-type {\n",
       "        vertical-align: middle;\n",
       "    }\n",
       "\n",
       "    .dataframe tbody tr th {\n",
       "        vertical-align: top;\n",
       "    }\n",
       "\n",
       "    .dataframe thead th {\n",
       "        text-align: right;\n",
       "    }\n",
       "</style>\n",
       "<table border=\"1\" class=\"dataframe\">\n",
       "  <thead>\n",
       "    <tr style=\"text-align: right;\">\n",
       "      <th></th>\n",
       "      <th>Postal Code</th>\n",
       "      <th>Latitude</th>\n",
       "      <th>Longitude</th>\n",
       "    </tr>\n",
       "  </thead>\n",
       "  <tbody>\n",
       "    <tr>\n",
       "      <th>0</th>\n",
       "      <td>M1B</td>\n",
       "      <td>43.806686</td>\n",
       "      <td>-79.194353</td>\n",
       "    </tr>\n",
       "    <tr>\n",
       "      <th>1</th>\n",
       "      <td>M1C</td>\n",
       "      <td>43.784535</td>\n",
       "      <td>-79.160497</td>\n",
       "    </tr>\n",
       "  </tbody>\n",
       "</table>\n",
       "</div>"
      ],
      "text/plain": [
       "  Postal Code   Latitude  Longitude\n",
       "0         M1B  43.806686 -79.194353\n",
       "1         M1C  43.784535 -79.160497"
      ]
     },
     "execution_count": 27,
     "metadata": {},
     "output_type": "execute_result"
    }
   ],
   "source": [
    "coordinates.head(2)"
   ]
  },
  {
   "cell_type": "code",
   "execution_count": 28,
   "metadata": {},
   "outputs": [],
   "source": [
    "toronto_data = postal_code_data_filtered.merge(coordinates, on='Postal Code')"
   ]
  },
  {
   "cell_type": "code",
   "execution_count": 29,
   "metadata": {},
   "outputs": [
    {
     "data": {
      "text/html": [
       "<div>\n",
       "<style scoped>\n",
       "    .dataframe tbody tr th:only-of-type {\n",
       "        vertical-align: middle;\n",
       "    }\n",
       "\n",
       "    .dataframe tbody tr th {\n",
       "        vertical-align: top;\n",
       "    }\n",
       "\n",
       "    .dataframe thead th {\n",
       "        text-align: right;\n",
       "    }\n",
       "</style>\n",
       "<table border=\"1\" class=\"dataframe\">\n",
       "  <thead>\n",
       "    <tr style=\"text-align: right;\">\n",
       "      <th></th>\n",
       "      <th>Postal Code</th>\n",
       "      <th>Borough</th>\n",
       "      <th>Neighborhood</th>\n",
       "      <th>Latitude</th>\n",
       "      <th>Longitude</th>\n",
       "    </tr>\n",
       "  </thead>\n",
       "  <tbody>\n",
       "    <tr>\n",
       "      <th>0</th>\n",
       "      <td>M3A</td>\n",
       "      <td>North York</td>\n",
       "      <td>Parkwoods</td>\n",
       "      <td>43.753259</td>\n",
       "      <td>-79.329656</td>\n",
       "    </tr>\n",
       "    <tr>\n",
       "      <th>1</th>\n",
       "      <td>M4A</td>\n",
       "      <td>North York</td>\n",
       "      <td>Victoria Village</td>\n",
       "      <td>43.725882</td>\n",
       "      <td>-79.315572</td>\n",
       "    </tr>\n",
       "    <tr>\n",
       "      <th>2</th>\n",
       "      <td>M5A</td>\n",
       "      <td>Downtown Toronto</td>\n",
       "      <td>Regent Park, Harbourfront</td>\n",
       "      <td>43.654260</td>\n",
       "      <td>-79.360636</td>\n",
       "    </tr>\n",
       "    <tr>\n",
       "      <th>3</th>\n",
       "      <td>M6A</td>\n",
       "      <td>North York</td>\n",
       "      <td>Lawrence Manor, Lawrence Heights</td>\n",
       "      <td>43.718518</td>\n",
       "      <td>-79.464763</td>\n",
       "    </tr>\n",
       "    <tr>\n",
       "      <th>4</th>\n",
       "      <td>M7A</td>\n",
       "      <td>Downtown Toronto</td>\n",
       "      <td>Queen's Park, Ontario Provincial Government</td>\n",
       "      <td>43.662301</td>\n",
       "      <td>-79.389494</td>\n",
       "    </tr>\n",
       "  </tbody>\n",
       "</table>\n",
       "</div>"
      ],
      "text/plain": [
       "  Postal Code           Borough                                 Neighborhood  \\\n",
       "0         M3A        North York                                    Parkwoods   \n",
       "1         M4A        North York                             Victoria Village   \n",
       "2         M5A  Downtown Toronto                    Regent Park, Harbourfront   \n",
       "3         M6A        North York             Lawrence Manor, Lawrence Heights   \n",
       "4         M7A  Downtown Toronto  Queen's Park, Ontario Provincial Government   \n",
       "\n",
       "    Latitude  Longitude  \n",
       "0  43.753259 -79.329656  \n",
       "1  43.725882 -79.315572  \n",
       "2  43.654260 -79.360636  \n",
       "3  43.718518 -79.464763  \n",
       "4  43.662301 -79.389494  "
      ]
     },
     "execution_count": 29,
     "metadata": {},
     "output_type": "execute_result"
    }
   ],
   "source": [
    "toronto_data.head(5)"
   ]
  },
  {
   "cell_type": "code",
   "execution_count": null,
   "metadata": {},
   "outputs": [],
   "source": []
  },
  {
   "cell_type": "markdown",
   "metadata": {},
   "source": [
    "## Part 3) Retrieving location data from foursquare & clustering"
   ]
  },
  {
   "cell_type": "code",
   "execution_count": 30,
   "metadata": {},
   "outputs": [],
   "source": [
    "import folium\n",
    "import numpy as np\n",
    "from sklearn.cluster import KMeans\n",
    "import matplotlib.cm as cm\n",
    "import matplotlib.colors as colors\n",
    "import os"
   ]
  },
  {
   "cell_type": "code",
   "execution_count": 36,
   "metadata": {},
   "outputs": [],
   "source": [
    "CLIENT_ID = os.environ.get('FOURSQUARE_ID')\n",
    "CLIENT_SECRET = os.environ.get('FOURSQUARE_SECRET')\n",
    "\n",
    "VERSION = '20180605' # Foursquare API version\n",
    "LIMIT = 100"
   ]
  },
  {
   "cell_type": "markdown",
   "metadata": {},
   "source": [
    "Creating a folium map to view toronto's neighbourhoods visually"
   ]
  },
  {
   "cell_type": "code",
   "execution_count": 37,
   "metadata": {},
   "outputs": [],
   "source": [
    "latitude = 43.6532\n",
    "longitude = -79.3832"
   ]
  },
  {
   "cell_type": "code",
   "execution_count": 38,
   "metadata": {},
   "outputs": [
    {
     "data": {
      "text/html": [
       "<div style=\"width:100%;\"><div style=\"position:relative;width:100%;height:0;padding-bottom:60%;\"><span style=\"color:#565656\">Make this Notebook Trusted to load map: File -> Trust Notebook</span><iframe src=\"about:blank\" style=\"position:absolute;width:100%;height:100%;left:0;top:0;border:none !important;\" data-html=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 onload=\"this.contentDocument.open();this.contentDocument.write(atob(this.getAttribute('data-html')));this.contentDocument.close();\" allowfullscreen webkitallowfullscreen mozallowfullscreen></iframe></div></div>"
      ],
      "text/plain": [
       "<folium.folium.Map at 0x24866492710>"
      ]
     },
     "execution_count": 38,
     "metadata": {},
     "output_type": "execute_result"
    }
   ],
   "source": [
    "# create map of Manhattan using latitude and longitude values\n",
    "map_toronto = folium.Map(location=[latitude, longitude], zoom_start=11)\n",
    "\n",
    "# add markers to map\n",
    "for lat, lng, label in zip(toronto_data['Latitude'], toronto_data['Longitude'], toronto_data['Neighborhood']):\n",
    "    label = folium.Popup(label, parse_html=True)\n",
    "    folium.CircleMarker(\n",
    "        [lat, lng],\n",
    "        radius=5,\n",
    "        popup=label,\n",
    "        color='blue',\n",
    "        fill=True,\n",
    "        fill_color='#3186cc',\n",
    "        fill_opacity=0.7,\n",
    "        parse_html=False).add_to(map_toronto)  \n",
    "    \n",
    "map_toronto"
   ]
  },
  {
   "cell_type": "markdown",
   "metadata": {},
   "source": [
    "Retrieve data on local venues in toronto using foursquare"
   ]
  },
  {
   "cell_type": "code",
   "execution_count": 39,
   "metadata": {},
   "outputs": [],
   "source": [
    "def getNearbyVenues(names, latitudes, longitudes, radius=500):\n",
    "    \n",
    "    venues_list=[]\n",
    "    for name, lat, lng in zip(names, latitudes, longitudes):\n",
    "        print(name)\n",
    "            \n",
    "        # create the API request URL\n",
    "        url = 'https://api.foursquare.com/v2/venues/explore?&client_id={}&client_secret={}&v={}&ll={},{}&radius={}&limit={}'.format(\n",
    "            CLIENT_ID, \n",
    "            CLIENT_SECRET, \n",
    "            VERSION, \n",
    "            lat, \n",
    "            lng, \n",
    "            radius, \n",
    "            LIMIT)\n",
    "            \n",
    "        # make the GET request\n",
    "        results = requests.get(url).json()[\"response\"]['groups'][0]['items']\n",
    "        \n",
    "        # return only relevant information for each nearby venue\n",
    "        venues_list.append([(\n",
    "            name, \n",
    "            lat, \n",
    "            lng, \n",
    "            v['venue']['name'], \n",
    "            v['venue']['location']['lat'], \n",
    "            v['venue']['location']['lng'],  \n",
    "            v['venue']['categories'][0]['name']) for v in results])\n",
    "\n",
    "    nearby_venues = pd.DataFrame([item for venue_list in venues_list for item in venue_list])\n",
    "    nearby_venues.columns = ['Neighborhood', \n",
    "                  'Latitude', \n",
    "                  'Longitude', \n",
    "                  'Venue', \n",
    "                  'Venue Latitude', \n",
    "                  'Venue Longitude', \n",
    "                  'Venue Category']\n",
    "    \n",
    "    return(nearby_venues)"
   ]
  },
  {
   "cell_type": "code",
   "execution_count": 40,
   "metadata": {
    "scrolled": true
   },
   "outputs": [
    {
     "name": "stdout",
     "output_type": "stream",
     "text": [
      "Parkwoods\n",
      "Victoria Village\n",
      "Regent Park, Harbourfront\n",
      "Lawrence Manor, Lawrence Heights\n",
      "Queen's Park, Ontario Provincial Government\n",
      "Islington Avenue\n",
      "Malvern, Rouge\n",
      "Don Mills\n",
      "Parkview Hill, Woodbine Gardens\n",
      "Garden District, Ryerson\n",
      "Glencairn\n",
      "West Deane Park, Princess Gardens, Martin Grove, Islington, Cloverdale\n",
      "Rouge Hill, Port Union, Highland Creek\n",
      "Don Mills\n",
      "Woodbine Heights\n",
      "St. James Town\n",
      "Humewood-Cedarvale\n",
      "Eringate, Bloordale Gardens, Old Burnhamthorpe, Markland Wood\n",
      "Guildwood, Morningside, West Hill\n",
      "The Beaches\n",
      "Berczy Park\n",
      "Caledonia-Fairbanks\n",
      "Woburn\n",
      "Leaside\n",
      "Central Bay Street\n",
      "Christie\n",
      "Cedarbrae\n",
      "Hillcrest Village\n",
      "Bathurst Manor, Wilson Heights, Downsview North\n",
      "Thorncliffe Park\n",
      "Richmond, Adelaide, King\n",
      "Dufferin, Dovercourt Village\n",
      "Scarborough Village\n",
      "Fairview, Henry Farm, Oriole\n",
      "Northwood Park, York University\n",
      "East Toronto\n",
      "Harbourfront East, Union Station, Toronto Islands\n",
      "Little Portugal, Trinity\n",
      "Kennedy Park, Ionview, East Birchmount Park\n",
      "Bayview Village\n",
      "Downsview\n",
      "The Danforth West, Riverdale\n",
      "Toronto Dominion Centre, Design Exchange\n",
      "Brockton, Parkdale Village, Exhibition Place\n",
      "Golden Mile, Clairlea, Oakridge\n",
      "York Mills, Silver Hills\n",
      "Downsview\n",
      "India Bazaar, The Beaches West\n",
      "Commerce Court, Victoria Hotel\n",
      "North Park, Maple Leaf Park, Upwood Park\n",
      "Humber Summit\n",
      "Cliffside, Cliffcrest, Scarborough Village West\n",
      "Willowdale, Newtonbrook\n",
      "Downsview\n",
      "Studio District\n",
      "Bedford Park, Lawrence Manor East\n",
      "Del Ray, Mount Dennis, Keelsdale and Silverthorn\n",
      "Humberlea, Emery\n",
      "Birch Cliff, Cliffside West\n",
      "Willowdale\n",
      "Downsview\n",
      "Lawrence Park\n",
      "Roselawn\n",
      "Runnymede, The Junction North\n",
      "Weston\n",
      "Dorset Park, Wexford Heights, Scarborough Town Centre\n",
      "York Mills West\n",
      "Davisville North\n",
      "Forest Hill North & West\n",
      "High Park, The Junction South\n",
      "Westmount\n",
      "Wexford, Maryvale\n",
      "Willowdale\n",
      "North Toronto West\n",
      "The Annex, North Midtown, Yorkville\n",
      "Parkdale, Roncesvalles\n",
      "Canada Post Gateway Processing Centre\n",
      "Kingsview Village, St. Phillips, Martin Grove Gardens, Richview Gardens\n",
      "Agincourt\n",
      "Davisville\n",
      "University of Toronto, Harbord\n",
      "Runnymede, Swansea\n",
      "Clarks Corners, Tam O'Shanter, Sullivan\n",
      "Moore Park, Summerhill East\n",
      "Kensington Market, Chinatown, Grange Park\n",
      "Milliken, Agincourt North, Steeles East, L'Amoreaux East\n",
      "Summerhill West, Rathnelly, South Hill, Forest Hill SE, Deer Park\n",
      "CN Tower, King and Spadina, Railway Lands, Harbourfront West, Bathurst Quay, South Niagara, Island airport\n",
      "New Toronto, Mimico South, Humber Bay Shores\n",
      "South Steeles, Silverstone, Humbergate, Jamestown, Mount Olive, Beaumond Heights, Thistletown, Albion Gardens\n",
      "Steeles West, L'Amoreaux West\n",
      "Rosedale\n",
      "Stn A PO Boxes\n",
      "Alderwood, Long Branch\n",
      "Northwest\n",
      "Upper Rouge\n",
      "St. James Town, Cabbagetown\n",
      "First Canadian Place, Underground city\n",
      "The Kingsway, Montgomery Road, Old Mill North\n",
      "Church and Wellesley\n",
      "Business reply mail Processing Centre\n",
      "Old Mill South, King's Mill Park, Sunnylea, Humber Bay, Mimico NE, The Queensway East, Royal York South East, Kingsway Park South East\n",
      "Mimico NW, The Queensway West, South of Bloor, Kingsway Park South West, Royal York South West\n"
     ]
    }
   ],
   "source": [
    "toronto_venues = getNearbyVenues(names=toronto_data['Neighborhood'],\n",
    "                                   latitudes=toronto_data['Latitude'],\n",
    "                                   longitudes=toronto_data['Longitude']\n",
    "                                  )"
   ]
  },
  {
   "cell_type": "code",
   "execution_count": 41,
   "metadata": {},
   "outputs": [
    {
     "data": {
      "text/html": [
       "<div>\n",
       "<style scoped>\n",
       "    .dataframe tbody tr th:only-of-type {\n",
       "        vertical-align: middle;\n",
       "    }\n",
       "\n",
       "    .dataframe tbody tr th {\n",
       "        vertical-align: top;\n",
       "    }\n",
       "\n",
       "    .dataframe thead th {\n",
       "        text-align: right;\n",
       "    }\n",
       "</style>\n",
       "<table border=\"1\" class=\"dataframe\">\n",
       "  <thead>\n",
       "    <tr style=\"text-align: right;\">\n",
       "      <th></th>\n",
       "      <th>Neighborhood</th>\n",
       "      <th>Latitude</th>\n",
       "      <th>Longitude</th>\n",
       "      <th>Venue</th>\n",
       "      <th>Venue Latitude</th>\n",
       "      <th>Venue Longitude</th>\n",
       "      <th>Venue Category</th>\n",
       "    </tr>\n",
       "  </thead>\n",
       "  <tbody>\n",
       "    <tr>\n",
       "      <th>0</th>\n",
       "      <td>Parkwoods</td>\n",
       "      <td>43.753259</td>\n",
       "      <td>-79.329656</td>\n",
       "      <td>Brookbanks Park</td>\n",
       "      <td>43.751976</td>\n",
       "      <td>-79.332140</td>\n",
       "      <td>Park</td>\n",
       "    </tr>\n",
       "    <tr>\n",
       "      <th>1</th>\n",
       "      <td>Parkwoods</td>\n",
       "      <td>43.753259</td>\n",
       "      <td>-79.329656</td>\n",
       "      <td>KFC</td>\n",
       "      <td>43.754387</td>\n",
       "      <td>-79.333021</td>\n",
       "      <td>Fast Food Restaurant</td>\n",
       "    </tr>\n",
       "    <tr>\n",
       "      <th>2</th>\n",
       "      <td>Parkwoods</td>\n",
       "      <td>43.753259</td>\n",
       "      <td>-79.329656</td>\n",
       "      <td>Variety Store</td>\n",
       "      <td>43.751974</td>\n",
       "      <td>-79.333114</td>\n",
       "      <td>Food &amp; Drink Shop</td>\n",
       "    </tr>\n",
       "    <tr>\n",
       "      <th>3</th>\n",
       "      <td>Victoria Village</td>\n",
       "      <td>43.725882</td>\n",
       "      <td>-79.315572</td>\n",
       "      <td>Victoria Village Arena</td>\n",
       "      <td>43.723481</td>\n",
       "      <td>-79.315635</td>\n",
       "      <td>Hockey Arena</td>\n",
       "    </tr>\n",
       "    <tr>\n",
       "      <th>4</th>\n",
       "      <td>Victoria Village</td>\n",
       "      <td>43.725882</td>\n",
       "      <td>-79.315572</td>\n",
       "      <td>Tim Hortons</td>\n",
       "      <td>43.725517</td>\n",
       "      <td>-79.313103</td>\n",
       "      <td>Coffee Shop</td>\n",
       "    </tr>\n",
       "  </tbody>\n",
       "</table>\n",
       "</div>"
      ],
      "text/plain": [
       "       Neighborhood   Latitude  Longitude                   Venue  \\\n",
       "0         Parkwoods  43.753259 -79.329656         Brookbanks Park   \n",
       "1         Parkwoods  43.753259 -79.329656                     KFC   \n",
       "2         Parkwoods  43.753259 -79.329656           Variety Store   \n",
       "3  Victoria Village  43.725882 -79.315572  Victoria Village Arena   \n",
       "4  Victoria Village  43.725882 -79.315572             Tim Hortons   \n",
       "\n",
       "   Venue Latitude  Venue Longitude        Venue Category  \n",
       "0       43.751976       -79.332140                  Park  \n",
       "1       43.754387       -79.333021  Fast Food Restaurant  \n",
       "2       43.751974       -79.333114     Food & Drink Shop  \n",
       "3       43.723481       -79.315635          Hockey Arena  \n",
       "4       43.725517       -79.313103           Coffee Shop  "
      ]
     },
     "execution_count": 41,
     "metadata": {},
     "output_type": "execute_result"
    }
   ],
   "source": [
    "toronto_venues.head()"
   ]
  },
  {
   "cell_type": "code",
   "execution_count": 42,
   "metadata": {},
   "outputs": [
    {
     "data": {
      "text/plain": [
       "(2115, 7)"
      ]
     },
     "execution_count": 42,
     "metadata": {},
     "output_type": "execute_result"
    }
   ],
   "source": [
    "toronto_venues.shape"
   ]
  },
  {
   "cell_type": "markdown",
   "metadata": {},
   "source": [
    "#### Trying to get neighbourhood column to begining of df"
   ]
  },
  {
   "cell_type": "code",
   "execution_count": 47,
   "metadata": {},
   "outputs": [],
   "source": [
    "# # one hot encoding\n",
    "# toronto_onehot = pd.get_dummies(toronto_venues[['Venue Category']], prefix=\"\", prefix_sep=\"\")\n",
    "# toronto_onehot.shape"
   ]
  },
  {
   "cell_type": "code",
   "execution_count": 48,
   "metadata": {},
   "outputs": [],
   "source": [
    "# # add neighborhood column back to dataframe\n",
    "# toronto_onehot['Neighborhood'] = toronto_venues['Neighborhood'] \n",
    "\n",
    "# # move neighborhood column to the first column\n",
    "# fixed_columns = ['Neighborhood'] + list(toronto_onehot.columns)\n",
    "# toronto_onehot = toronto_onehot[fixed_columns]\n",
    "\n",
    "# toronto_onehot.shape"
   ]
  },
  {
   "cell_type": "code",
   "execution_count": 49,
   "metadata": {},
   "outputs": [],
   "source": [
    "# fixed_columns = [toronto_onehot.columns[-1]] + list(toronto_onehot.columns[:-1])"
   ]
  },
  {
   "cell_type": "code",
   "execution_count": 50,
   "metadata": {},
   "outputs": [],
   "source": [
    "# fixed_columns"
   ]
  },
  {
   "cell_type": "markdown",
   "metadata": {},
   "source": [
    "### get dummy variables for clustering"
   ]
  },
  {
   "cell_type": "code",
   "execution_count": 51,
   "metadata": {},
   "outputs": [
    {
     "data": {
      "text/html": [
       "<div>\n",
       "<style scoped>\n",
       "    .dataframe tbody tr th:only-of-type {\n",
       "        vertical-align: middle;\n",
       "    }\n",
       "\n",
       "    .dataframe tbody tr th {\n",
       "        vertical-align: top;\n",
       "    }\n",
       "\n",
       "    .dataframe thead th {\n",
       "        text-align: right;\n",
       "    }\n",
       "</style>\n",
       "<table border=\"1\" class=\"dataframe\">\n",
       "  <thead>\n",
       "    <tr style=\"text-align: right;\">\n",
       "      <th></th>\n",
       "      <th>Yoga Studio</th>\n",
       "      <th>Accessories Store</th>\n",
       "      <th>Afghan Restaurant</th>\n",
       "      <th>Airport</th>\n",
       "      <th>Airport Food Court</th>\n",
       "      <th>Airport Gate</th>\n",
       "      <th>Airport Lounge</th>\n",
       "      <th>Airport Service</th>\n",
       "      <th>Airport Terminal</th>\n",
       "      <th>American Restaurant</th>\n",
       "      <th>...</th>\n",
       "      <th>Trail</th>\n",
       "      <th>Train Station</th>\n",
       "      <th>Vegetarian / Vegan Restaurant</th>\n",
       "      <th>Video Game Store</th>\n",
       "      <th>Video Store</th>\n",
       "      <th>Vietnamese Restaurant</th>\n",
       "      <th>Warehouse Store</th>\n",
       "      <th>Wine Bar</th>\n",
       "      <th>Wings Joint</th>\n",
       "      <th>Women's Store</th>\n",
       "    </tr>\n",
       "  </thead>\n",
       "  <tbody>\n",
       "    <tr>\n",
       "      <th>0</th>\n",
       "      <td>0</td>\n",
       "      <td>0</td>\n",
       "      <td>0</td>\n",
       "      <td>0</td>\n",
       "      <td>0</td>\n",
       "      <td>0</td>\n",
       "      <td>0</td>\n",
       "      <td>0</td>\n",
       "      <td>0</td>\n",
       "      <td>0</td>\n",
       "      <td>...</td>\n",
       "      <td>0</td>\n",
       "      <td>0</td>\n",
       "      <td>0</td>\n",
       "      <td>0</td>\n",
       "      <td>0</td>\n",
       "      <td>0</td>\n",
       "      <td>0</td>\n",
       "      <td>0</td>\n",
       "      <td>0</td>\n",
       "      <td>0</td>\n",
       "    </tr>\n",
       "    <tr>\n",
       "      <th>1</th>\n",
       "      <td>0</td>\n",
       "      <td>0</td>\n",
       "      <td>0</td>\n",
       "      <td>0</td>\n",
       "      <td>0</td>\n",
       "      <td>0</td>\n",
       "      <td>0</td>\n",
       "      <td>0</td>\n",
       "      <td>0</td>\n",
       "      <td>0</td>\n",
       "      <td>...</td>\n",
       "      <td>0</td>\n",
       "      <td>0</td>\n",
       "      <td>0</td>\n",
       "      <td>0</td>\n",
       "      <td>0</td>\n",
       "      <td>0</td>\n",
       "      <td>0</td>\n",
       "      <td>0</td>\n",
       "      <td>0</td>\n",
       "      <td>0</td>\n",
       "    </tr>\n",
       "    <tr>\n",
       "      <th>2</th>\n",
       "      <td>0</td>\n",
       "      <td>0</td>\n",
       "      <td>0</td>\n",
       "      <td>0</td>\n",
       "      <td>0</td>\n",
       "      <td>0</td>\n",
       "      <td>0</td>\n",
       "      <td>0</td>\n",
       "      <td>0</td>\n",
       "      <td>0</td>\n",
       "      <td>...</td>\n",
       "      <td>0</td>\n",
       "      <td>0</td>\n",
       "      <td>0</td>\n",
       "      <td>0</td>\n",
       "      <td>0</td>\n",
       "      <td>0</td>\n",
       "      <td>0</td>\n",
       "      <td>0</td>\n",
       "      <td>0</td>\n",
       "      <td>0</td>\n",
       "    </tr>\n",
       "    <tr>\n",
       "      <th>3</th>\n",
       "      <td>0</td>\n",
       "      <td>0</td>\n",
       "      <td>0</td>\n",
       "      <td>0</td>\n",
       "      <td>0</td>\n",
       "      <td>0</td>\n",
       "      <td>0</td>\n",
       "      <td>0</td>\n",
       "      <td>0</td>\n",
       "      <td>0</td>\n",
       "      <td>...</td>\n",
       "      <td>0</td>\n",
       "      <td>0</td>\n",
       "      <td>0</td>\n",
       "      <td>0</td>\n",
       "      <td>0</td>\n",
       "      <td>0</td>\n",
       "      <td>0</td>\n",
       "      <td>0</td>\n",
       "      <td>0</td>\n",
       "      <td>0</td>\n",
       "    </tr>\n",
       "    <tr>\n",
       "      <th>4</th>\n",
       "      <td>0</td>\n",
       "      <td>0</td>\n",
       "      <td>0</td>\n",
       "      <td>0</td>\n",
       "      <td>0</td>\n",
       "      <td>0</td>\n",
       "      <td>0</td>\n",
       "      <td>0</td>\n",
       "      <td>0</td>\n",
       "      <td>0</td>\n",
       "      <td>...</td>\n",
       "      <td>0</td>\n",
       "      <td>0</td>\n",
       "      <td>0</td>\n",
       "      <td>0</td>\n",
       "      <td>0</td>\n",
       "      <td>0</td>\n",
       "      <td>0</td>\n",
       "      <td>0</td>\n",
       "      <td>0</td>\n",
       "      <td>0</td>\n",
       "    </tr>\n",
       "  </tbody>\n",
       "</table>\n",
       "<p>5 rows × 266 columns</p>\n",
       "</div>"
      ],
      "text/plain": [
       "   Yoga Studio  Accessories Store  Afghan Restaurant  Airport  \\\n",
       "0            0                  0                  0        0   \n",
       "1            0                  0                  0        0   \n",
       "2            0                  0                  0        0   \n",
       "3            0                  0                  0        0   \n",
       "4            0                  0                  0        0   \n",
       "\n",
       "   Airport Food Court  Airport Gate  Airport Lounge  Airport Service  \\\n",
       "0                   0             0               0                0   \n",
       "1                   0             0               0                0   \n",
       "2                   0             0               0                0   \n",
       "3                   0             0               0                0   \n",
       "4                   0             0               0                0   \n",
       "\n",
       "   Airport Terminal  American Restaurant      ...        Trail  Train Station  \\\n",
       "0                 0                    0      ...            0              0   \n",
       "1                 0                    0      ...            0              0   \n",
       "2                 0                    0      ...            0              0   \n",
       "3                 0                    0      ...            0              0   \n",
       "4                 0                    0      ...            0              0   \n",
       "\n",
       "   Vegetarian / Vegan Restaurant  Video Game Store  Video Store  \\\n",
       "0                              0                 0            0   \n",
       "1                              0                 0            0   \n",
       "2                              0                 0            0   \n",
       "3                              0                 0            0   \n",
       "4                              0                 0            0   \n",
       "\n",
       "   Vietnamese Restaurant  Warehouse Store  Wine Bar  Wings Joint  \\\n",
       "0                      0                0         0            0   \n",
       "1                      0                0         0            0   \n",
       "2                      0                0         0            0   \n",
       "3                      0                0         0            0   \n",
       "4                      0                0         0            0   \n",
       "\n",
       "   Women's Store  \n",
       "0              0  \n",
       "1              0  \n",
       "2              0  \n",
       "3              0  \n",
       "4              0  \n",
       "\n",
       "[5 rows x 266 columns]"
      ]
     },
     "execution_count": 51,
     "metadata": {},
     "output_type": "execute_result"
    }
   ],
   "source": [
    "# one hot encoding\n",
    "toronto_onehot = pd.get_dummies(toronto_venues[['Venue Category']], prefix=\"\", prefix_sep=\"\")\n",
    "\n",
    "# add neighborhood column back to dataframe\n",
    "toronto_onehot['Neighborhood'] = toronto_venues['Neighborhood'] \n",
    "\n",
    "# move neighborhood column to the first column\n",
    "fixed_columns = [toronto_onehot.columns[-1]] + list(toronto_onehot.columns[:-1])\n",
    "toronto_onehot = toronto_onehot[fixed_columns]\n",
    "\n",
    "toronto_onehot.head()"
   ]
  },
  {
   "cell_type": "code",
   "execution_count": 52,
   "metadata": {},
   "outputs": [
    {
     "data": {
      "text/plain": [
       "(2115, 266)"
      ]
     },
     "execution_count": 52,
     "metadata": {},
     "output_type": "execute_result"
    }
   ],
   "source": [
    "toronto_onehot.shape"
   ]
  },
  {
   "cell_type": "code",
   "execution_count": 53,
   "metadata": {},
   "outputs": [
    {
     "data": {
      "text/plain": [
       "(95, 266)"
      ]
     },
     "execution_count": 53,
     "metadata": {},
     "output_type": "execute_result"
    }
   ],
   "source": [
    "toronto_grouped = toronto_onehot.groupby('Neighborhood').mean().reset_index()\n",
    "toronto_grouped.shape"
   ]
  },
  {
   "cell_type": "markdown",
   "metadata": {},
   "source": [
    "### lets see the most common venues in the toronto neighbour hoods"
   ]
  },
  {
   "cell_type": "code",
   "execution_count": 54,
   "metadata": {},
   "outputs": [],
   "source": [
    "def return_most_common_venues(row, num_top_venues):\n",
    "    row_categories = row.iloc[1:]\n",
    "    row_categories_sorted = row_categories.sort_values(ascending=False)\n",
    "    \n",
    "    return row_categories_sorted.index.values[0:num_top_venues]"
   ]
  },
  {
   "cell_type": "code",
   "execution_count": 55,
   "metadata": {},
   "outputs": [
    {
     "data": {
      "text/html": [
       "<div>\n",
       "<style scoped>\n",
       "    .dataframe tbody tr th:only-of-type {\n",
       "        vertical-align: middle;\n",
       "    }\n",
       "\n",
       "    .dataframe tbody tr th {\n",
       "        vertical-align: top;\n",
       "    }\n",
       "\n",
       "    .dataframe thead th {\n",
       "        text-align: right;\n",
       "    }\n",
       "</style>\n",
       "<table border=\"1\" class=\"dataframe\">\n",
       "  <thead>\n",
       "    <tr style=\"text-align: right;\">\n",
       "      <th></th>\n",
       "      <th>Neighborhood</th>\n",
       "      <th>1st Most Common Venue</th>\n",
       "      <th>2nd Most Common Venue</th>\n",
       "      <th>3rd Most Common Venue</th>\n",
       "      <th>4th Most Common Venue</th>\n",
       "      <th>5th Most Common Venue</th>\n",
       "      <th>6th Most Common Venue</th>\n",
       "      <th>7th Most Common Venue</th>\n",
       "      <th>8th Most Common Venue</th>\n",
       "      <th>9th Most Common Venue</th>\n",
       "      <th>10th Most Common Venue</th>\n",
       "    </tr>\n",
       "  </thead>\n",
       "  <tbody>\n",
       "    <tr>\n",
       "      <th>0</th>\n",
       "      <td>Agincourt</td>\n",
       "      <td>Lounge</td>\n",
       "      <td>Latin American Restaurant</td>\n",
       "      <td>Clothing Store</td>\n",
       "      <td>Breakfast Spot</td>\n",
       "      <td>Doner Restaurant</td>\n",
       "      <td>Dim Sum Restaurant</td>\n",
       "      <td>Diner</td>\n",
       "      <td>Discount Store</td>\n",
       "      <td>Distribution Center</td>\n",
       "      <td>Dog Run</td>\n",
       "    </tr>\n",
       "    <tr>\n",
       "      <th>1</th>\n",
       "      <td>Alderwood, Long Branch</td>\n",
       "      <td>Pizza Place</td>\n",
       "      <td>Gym</td>\n",
       "      <td>Athletics &amp; Sports</td>\n",
       "      <td>Pharmacy</td>\n",
       "      <td>Pool</td>\n",
       "      <td>Pub</td>\n",
       "      <td>Dance Studio</td>\n",
       "      <td>Sandwich Place</td>\n",
       "      <td>Skating Rink</td>\n",
       "      <td>Coffee Shop</td>\n",
       "    </tr>\n",
       "    <tr>\n",
       "      <th>2</th>\n",
       "      <td>Bathurst Manor, Wilson Heights, Downsview North</td>\n",
       "      <td>Coffee Shop</td>\n",
       "      <td>Bank</td>\n",
       "      <td>Gift Shop</td>\n",
       "      <td>Fried Chicken Joint</td>\n",
       "      <td>Sandwich Place</td>\n",
       "      <td>Diner</td>\n",
       "      <td>Bridal Shop</td>\n",
       "      <td>Restaurant</td>\n",
       "      <td>Deli / Bodega</td>\n",
       "      <td>Ice Cream Shop</td>\n",
       "    </tr>\n",
       "    <tr>\n",
       "      <th>3</th>\n",
       "      <td>Bayview Village</td>\n",
       "      <td>Japanese Restaurant</td>\n",
       "      <td>Café</td>\n",
       "      <td>Bank</td>\n",
       "      <td>Chinese Restaurant</td>\n",
       "      <td>Department Store</td>\n",
       "      <td>Dim Sum Restaurant</td>\n",
       "      <td>Diner</td>\n",
       "      <td>Discount Store</td>\n",
       "      <td>Distribution Center</td>\n",
       "      <td>Women's Store</td>\n",
       "    </tr>\n",
       "    <tr>\n",
       "      <th>4</th>\n",
       "      <td>Bedford Park, Lawrence Manor East</td>\n",
       "      <td>Italian Restaurant</td>\n",
       "      <td>Coffee Shop</td>\n",
       "      <td>Sandwich Place</td>\n",
       "      <td>Restaurant</td>\n",
       "      <td>Juice Bar</td>\n",
       "      <td>Butcher</td>\n",
       "      <td>Café</td>\n",
       "      <td>Indian Restaurant</td>\n",
       "      <td>Sushi Restaurant</td>\n",
       "      <td>Pizza Place</td>\n",
       "    </tr>\n",
       "  </tbody>\n",
       "</table>\n",
       "</div>"
      ],
      "text/plain": [
       "                                      Neighborhood 1st Most Common Venue  \\\n",
       "0                                        Agincourt                Lounge   \n",
       "1                           Alderwood, Long Branch           Pizza Place   \n",
       "2  Bathurst Manor, Wilson Heights, Downsview North           Coffee Shop   \n",
       "3                                  Bayview Village   Japanese Restaurant   \n",
       "4                Bedford Park, Lawrence Manor East    Italian Restaurant   \n",
       "\n",
       "       2nd Most Common Venue 3rd Most Common Venue 4th Most Common Venue  \\\n",
       "0  Latin American Restaurant        Clothing Store        Breakfast Spot   \n",
       "1                        Gym    Athletics & Sports              Pharmacy   \n",
       "2                       Bank             Gift Shop   Fried Chicken Joint   \n",
       "3                       Café                  Bank    Chinese Restaurant   \n",
       "4                Coffee Shop        Sandwich Place            Restaurant   \n",
       "\n",
       "  5th Most Common Venue 6th Most Common Venue 7th Most Common Venue  \\\n",
       "0      Doner Restaurant    Dim Sum Restaurant                 Diner   \n",
       "1                  Pool                   Pub          Dance Studio   \n",
       "2        Sandwich Place                 Diner           Bridal Shop   \n",
       "3      Department Store    Dim Sum Restaurant                 Diner   \n",
       "4             Juice Bar               Butcher                  Café   \n",
       "\n",
       "  8th Most Common Venue 9th Most Common Venue 10th Most Common Venue  \n",
       "0        Discount Store   Distribution Center                Dog Run  \n",
       "1        Sandwich Place          Skating Rink            Coffee Shop  \n",
       "2            Restaurant         Deli / Bodega         Ice Cream Shop  \n",
       "3        Discount Store   Distribution Center          Women's Store  \n",
       "4     Indian Restaurant      Sushi Restaurant            Pizza Place  "
      ]
     },
     "execution_count": 55,
     "metadata": {},
     "output_type": "execute_result"
    }
   ],
   "source": [
    "num_top_venues = 10\n",
    "\n",
    "indicators = ['st', 'nd', 'rd']\n",
    "\n",
    "# create columns according to number of top venues\n",
    "columns = ['Neighborhood']\n",
    "for ind in np.arange(num_top_venues):\n",
    "    try:\n",
    "        columns.append('{}{} Most Common Venue'.format(ind+1, indicators[ind]))\n",
    "    except:\n",
    "        columns.append('{}th Most Common Venue'.format(ind+1))\n",
    "\n",
    "# create a new dataframe\n",
    "neighborhoods_venues_sorted = pd.DataFrame(columns=columns)\n",
    "neighborhoods_venues_sorted['Neighborhood'] = toronto_grouped['Neighborhood']\n",
    "\n",
    "for ind in np.arange(toronto_grouped.shape[0]):\n",
    "    neighborhoods_venues_sorted.iloc[ind, 1:] = return_most_common_venues(toronto_grouped.iloc[ind, :], num_top_venues)\n",
    "\n",
    "neighborhoods_venues_sorted.head()"
   ]
  },
  {
   "cell_type": "code",
   "execution_count": 56,
   "metadata": {},
   "outputs": [
    {
     "data": {
      "text/plain": [
       "(95, 11)"
      ]
     },
     "execution_count": 56,
     "metadata": {},
     "output_type": "execute_result"
    }
   ],
   "source": [
    "neighborhoods_venues_sorted.shape"
   ]
  },
  {
   "cell_type": "markdown",
   "metadata": {},
   "source": [
    "### K means clustering"
   ]
  },
  {
   "cell_type": "code",
   "execution_count": 57,
   "metadata": {},
   "outputs": [
    {
     "data": {
      "text/plain": [
       "array([1, 1, 1, 1, 1, 1, 1, 1, 1, 1])"
      ]
     },
     "execution_count": 57,
     "metadata": {},
     "output_type": "execute_result"
    }
   ],
   "source": [
    "# set number of clusters\n",
    "kclusters = 5\n",
    "\n",
    "toronto_grouped_clustering = toronto_grouped.drop('Neighborhood', 1)\n",
    "\n",
    "# run k-means clustering\n",
    "kmeans = KMeans(n_clusters=kclusters, random_state=0).fit(toronto_grouped_clustering)\n",
    "\n",
    "# check cluster labels generated for each row in the dataframe\n",
    "kmeans.labels_[0:10] "
   ]
  },
  {
   "cell_type": "code",
   "execution_count": 58,
   "metadata": {},
   "outputs": [
    {
     "data": {
      "text/plain": [
       "95"
      ]
     },
     "execution_count": 58,
     "metadata": {},
     "output_type": "execute_result"
    }
   ],
   "source": [
    "len(kmeans.labels_)"
   ]
  },
  {
   "cell_type": "code",
   "execution_count": 59,
   "metadata": {},
   "outputs": [],
   "source": [
    "labels = kmeans.labels_"
   ]
  },
  {
   "cell_type": "code",
   "execution_count": 60,
   "metadata": {},
   "outputs": [],
   "source": [
    "# merge clusters with toronto_grouped"
   ]
  },
  {
   "cell_type": "markdown",
   "metadata": {},
   "source": [
    "Remerging with main data "
   ]
  },
  {
   "cell_type": "code",
   "execution_count": 61,
   "metadata": {},
   "outputs": [],
   "source": [
    "# add clustering labels\n",
    "neighborhoods_venues_sorted.insert(0, 'Cluster Labels', labels)"
   ]
  },
  {
   "cell_type": "code",
   "execution_count": 62,
   "metadata": {},
   "outputs": [
    {
     "data": {
      "text/plain": [
       "(95, 12)"
      ]
     },
     "execution_count": 62,
     "metadata": {},
     "output_type": "execute_result"
    }
   ],
   "source": [
    "neighborhoods_venues_sorted.shape"
   ]
  },
  {
   "cell_type": "code",
   "execution_count": 63,
   "metadata": {},
   "outputs": [
    {
     "data": {
      "text/plain": [
       "(103, 5)"
      ]
     },
     "execution_count": 63,
     "metadata": {},
     "output_type": "execute_result"
    }
   ],
   "source": [
    "toronto_data.shape"
   ]
  },
  {
   "cell_type": "code",
   "execution_count": 64,
   "metadata": {},
   "outputs": [
    {
     "data": {
      "text/html": [
       "<div>\n",
       "<style scoped>\n",
       "    .dataframe tbody tr th:only-of-type {\n",
       "        vertical-align: middle;\n",
       "    }\n",
       "\n",
       "    .dataframe tbody tr th {\n",
       "        vertical-align: top;\n",
       "    }\n",
       "\n",
       "    .dataframe thead th {\n",
       "        text-align: right;\n",
       "    }\n",
       "</style>\n",
       "<table border=\"1\" class=\"dataframe\">\n",
       "  <thead>\n",
       "    <tr style=\"text-align: right;\">\n",
       "      <th></th>\n",
       "      <th>Postal Code</th>\n",
       "      <th>Borough</th>\n",
       "      <th>Neighborhood</th>\n",
       "      <th>Latitude</th>\n",
       "      <th>Longitude</th>\n",
       "      <th>Cluster Labels</th>\n",
       "      <th>1st Most Common Venue</th>\n",
       "      <th>2nd Most Common Venue</th>\n",
       "      <th>3rd Most Common Venue</th>\n",
       "      <th>4th Most Common Venue</th>\n",
       "      <th>5th Most Common Venue</th>\n",
       "      <th>6th Most Common Venue</th>\n",
       "      <th>7th Most Common Venue</th>\n",
       "      <th>8th Most Common Venue</th>\n",
       "      <th>9th Most Common Venue</th>\n",
       "      <th>10th Most Common Venue</th>\n",
       "    </tr>\n",
       "  </thead>\n",
       "  <tbody>\n",
       "    <tr>\n",
       "      <th>0</th>\n",
       "      <td>M3A</td>\n",
       "      <td>North York</td>\n",
       "      <td>Parkwoods</td>\n",
       "      <td>43.753259</td>\n",
       "      <td>-79.329656</td>\n",
       "      <td>2</td>\n",
       "      <td>Park</td>\n",
       "      <td>Fast Food Restaurant</td>\n",
       "      <td>Food &amp; Drink Shop</td>\n",
       "      <td>Distribution Center</td>\n",
       "      <td>Department Store</td>\n",
       "      <td>Dessert Shop</td>\n",
       "      <td>Dim Sum Restaurant</td>\n",
       "      <td>Diner</td>\n",
       "      <td>Discount Store</td>\n",
       "      <td>Dog Run</td>\n",
       "    </tr>\n",
       "    <tr>\n",
       "      <th>1</th>\n",
       "      <td>M4A</td>\n",
       "      <td>North York</td>\n",
       "      <td>Victoria Village</td>\n",
       "      <td>43.725882</td>\n",
       "      <td>-79.315572</td>\n",
       "      <td>1</td>\n",
       "      <td>French Restaurant</td>\n",
       "      <td>Portuguese Restaurant</td>\n",
       "      <td>Coffee Shop</td>\n",
       "      <td>Pizza Place</td>\n",
       "      <td>Hockey Arena</td>\n",
       "      <td>Dance Studio</td>\n",
       "      <td>Deli / Bodega</td>\n",
       "      <td>Department Store</td>\n",
       "      <td>Dessert Shop</td>\n",
       "      <td>Dim Sum Restaurant</td>\n",
       "    </tr>\n",
       "    <tr>\n",
       "      <th>2</th>\n",
       "      <td>M5A</td>\n",
       "      <td>Downtown Toronto</td>\n",
       "      <td>Regent Park, Harbourfront</td>\n",
       "      <td>43.654260</td>\n",
       "      <td>-79.360636</td>\n",
       "      <td>1</td>\n",
       "      <td>Coffee Shop</td>\n",
       "      <td>Park</td>\n",
       "      <td>Pub</td>\n",
       "      <td>Bakery</td>\n",
       "      <td>Breakfast Spot</td>\n",
       "      <td>Café</td>\n",
       "      <td>Theater</td>\n",
       "      <td>Restaurant</td>\n",
       "      <td>Yoga Studio</td>\n",
       "      <td>Hotel</td>\n",
       "    </tr>\n",
       "    <tr>\n",
       "      <th>3</th>\n",
       "      <td>M6A</td>\n",
       "      <td>North York</td>\n",
       "      <td>Lawrence Manor, Lawrence Heights</td>\n",
       "      <td>43.718518</td>\n",
       "      <td>-79.464763</td>\n",
       "      <td>1</td>\n",
       "      <td>Women's Store</td>\n",
       "      <td>Furniture / Home Store</td>\n",
       "      <td>Clothing Store</td>\n",
       "      <td>Coffee Shop</td>\n",
       "      <td>Boutique</td>\n",
       "      <td>Miscellaneous Shop</td>\n",
       "      <td>Athletics &amp; Sports</td>\n",
       "      <td>Event Space</td>\n",
       "      <td>Accessories Store</td>\n",
       "      <td>Vietnamese Restaurant</td>\n",
       "    </tr>\n",
       "    <tr>\n",
       "      <th>4</th>\n",
       "      <td>M7A</td>\n",
       "      <td>Downtown Toronto</td>\n",
       "      <td>Queen's Park, Ontario Provincial Government</td>\n",
       "      <td>43.662301</td>\n",
       "      <td>-79.389494</td>\n",
       "      <td>1</td>\n",
       "      <td>Coffee Shop</td>\n",
       "      <td>Sushi Restaurant</td>\n",
       "      <td>Distribution Center</td>\n",
       "      <td>Restaurant</td>\n",
       "      <td>Park</td>\n",
       "      <td>Mexican Restaurant</td>\n",
       "      <td>Juice Bar</td>\n",
       "      <td>Japanese Restaurant</td>\n",
       "      <td>Italian Restaurant</td>\n",
       "      <td>Hobby Shop</td>\n",
       "    </tr>\n",
       "  </tbody>\n",
       "</table>\n",
       "</div>"
      ],
      "text/plain": [
       "  Postal Code           Borough                                 Neighborhood  \\\n",
       "0         M3A        North York                                    Parkwoods   \n",
       "1         M4A        North York                             Victoria Village   \n",
       "2         M5A  Downtown Toronto                    Regent Park, Harbourfront   \n",
       "3         M6A        North York             Lawrence Manor, Lawrence Heights   \n",
       "4         M7A  Downtown Toronto  Queen's Park, Ontario Provincial Government   \n",
       "\n",
       "    Latitude  Longitude  Cluster Labels 1st Most Common Venue  \\\n",
       "0  43.753259 -79.329656               2                  Park   \n",
       "1  43.725882 -79.315572               1     French Restaurant   \n",
       "2  43.654260 -79.360636               1           Coffee Shop   \n",
       "3  43.718518 -79.464763               1         Women's Store   \n",
       "4  43.662301 -79.389494               1           Coffee Shop   \n",
       "\n",
       "    2nd Most Common Venue 3rd Most Common Venue 4th Most Common Venue  \\\n",
       "0    Fast Food Restaurant     Food & Drink Shop   Distribution Center   \n",
       "1   Portuguese Restaurant           Coffee Shop           Pizza Place   \n",
       "2                    Park                   Pub                Bakery   \n",
       "3  Furniture / Home Store        Clothing Store           Coffee Shop   \n",
       "4        Sushi Restaurant   Distribution Center            Restaurant   \n",
       "\n",
       "  5th Most Common Venue 6th Most Common Venue 7th Most Common Venue  \\\n",
       "0      Department Store          Dessert Shop    Dim Sum Restaurant   \n",
       "1          Hockey Arena          Dance Studio         Deli / Bodega   \n",
       "2        Breakfast Spot                  Café               Theater   \n",
       "3              Boutique    Miscellaneous Shop    Athletics & Sports   \n",
       "4                  Park    Mexican Restaurant             Juice Bar   \n",
       "\n",
       "  8th Most Common Venue 9th Most Common Venue 10th Most Common Venue  \n",
       "0                 Diner        Discount Store                Dog Run  \n",
       "1      Department Store          Dessert Shop     Dim Sum Restaurant  \n",
       "2            Restaurant           Yoga Studio                  Hotel  \n",
       "3           Event Space     Accessories Store  Vietnamese Restaurant  \n",
       "4   Japanese Restaurant    Italian Restaurant             Hobby Shop  "
      ]
     },
     "execution_count": 64,
     "metadata": {},
     "output_type": "execute_result"
    }
   ],
   "source": [
    "# # add clustering labels\n",
    "# neighborhoods_venues_sorted.insert(0, 'Cluster Labels', labels)\n",
    "\n",
    "toronto_merged = toronto_data\n",
    "\n",
    "# merge toronto_grouped with toronto_data to add latitude/longitude for each neighborhood\n",
    "toronto_merged = toronto_merged.join(neighborhoods_venues_sorted.set_index('Neighborhood'), how='inner', on='Neighborhood')\n",
    "\n",
    "toronto_merged.head() # check the last columns!"
   ]
  },
  {
   "cell_type": "code",
   "execution_count": 65,
   "metadata": {},
   "outputs": [
    {
     "data": {
      "text/plain": [
       "(100, 16)"
      ]
     },
     "execution_count": 65,
     "metadata": {},
     "output_type": "execute_result"
    }
   ],
   "source": [
    "toronto_merged.shape"
   ]
  },
  {
   "cell_type": "markdown",
   "metadata": {},
   "source": [
    "### Visual representation of toronto clusters"
   ]
  },
  {
   "cell_type": "code",
   "execution_count": 66,
   "metadata": {
    "scrolled": false
   },
   "outputs": [
    {
     "data": {
      "text/html": [
       "<div style=\"width:100%;\"><div style=\"position:relative;width:100%;height:0;padding-bottom:60%;\"><span style=\"color:#565656\">Make this Notebook Trusted to load map: File -> Trust Notebook</span><iframe src=\"about:blank\" style=\"position:absolute;width:100%;height:100%;left:0;top:0;border:none !important;\" data-html=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 onload=\"this.contentDocument.open();this.contentDocument.write(atob(this.getAttribute('data-html')));this.contentDocument.close();\" allowfullscreen webkitallowfullscreen mozallowfullscreen></iframe></div></div>"
      ],
      "text/plain": [
       "<folium.folium.Map at 0x24866816940>"
      ]
     },
     "execution_count": 66,
     "metadata": {},
     "output_type": "execute_result"
    }
   ],
   "source": [
    "# create map\n",
    "map_clusters = folium.Map(location=[latitude, longitude], zoom_start=11)\n",
    "\n",
    "# set color scheme for the clusters\n",
    "x = np.arange(kclusters)\n",
    "ys = [i + x + (i*x)**2 for i in range(kclusters)]\n",
    "colors_array = cm.rainbow(np.linspace(0, 1, len(ys)))\n",
    "rainbow = [colors.rgb2hex(i) for i in colors_array]\n",
    "\n",
    "# add markers to the map\n",
    "markers_colors = []\n",
    "for lat, lon, poi, cluster in zip(toronto_merged['Latitude'], toronto_merged['Longitude'], toronto_merged['Neighborhood'], toronto_merged['Cluster Labels']):\n",
    "    label = folium.Popup(str(poi) + ' Cluster ' + str(cluster), parse_html=True)\n",
    "    folium.CircleMarker(\n",
    "        [lat, lon],\n",
    "        radius=5,\n",
    "        popup=label,\n",
    "        color=rainbow[cluster-1],\n",
    "        fill=True,\n",
    "        fill_color=rainbow[cluster-1],\n",
    "        fill_opacity=0.7).add_to(map_clusters)\n",
    "       \n",
    "map_clusters"
   ]
  },
  {
   "cell_type": "code",
   "execution_count": null,
   "metadata": {},
   "outputs": [],
   "source": []
  }
 ],
 "metadata": {
  "kernelspec": {
   "display_name": "Python 3",
   "language": "python",
   "name": "python3"
  },
  "language_info": {
   "codemirror_mode": {
    "name": "ipython",
    "version": 3
   },
   "file_extension": ".py",
   "mimetype": "text/x-python",
   "name": "python",
   "nbconvert_exporter": "python",
   "pygments_lexer": "ipython3",
   "version": "3.7.1"
  }
 },
 "nbformat": 4,
 "nbformat_minor": 2
}
