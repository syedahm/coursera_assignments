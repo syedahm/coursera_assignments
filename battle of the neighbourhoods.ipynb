{
 "cells": [
  {
   "cell_type": "markdown",
   "metadata": {},
   "source": [
    "London was built in xxxx by the roman empire and is a city rich in history and geographical diversity. It has seen wars, plagues, fires and most recently a virus pandemic. ..."
   ]
  },
  {
   "cell_type": "markdown",
   "metadata": {},
   "source": [
    "In this analysis, I will extract the features of various london neighbourhoods. "
   ]
  },
  {
   "cell_type": "code",
   "execution_count": 16,
   "metadata": {},
   "outputs": [],
   "source": [
    "import pandas as pd\n",
    "import folium\n",
    "import numpy as np\n",
    "from sklearn.cluster import KMeans\n",
    "import matplotlib.cm as cm\n",
    "import matplotlib.colors as colors\n",
    "import matplotlib.pyplot as plt\n",
    "import os\n",
    "import requests, io\n",
    "from scipy.spatial.distance import cdist"
   ]
  },
  {
   "cell_type": "code",
   "execution_count": 26,
   "metadata": {},
   "outputs": [],
   "source": [
    "%matplotlib inline"
   ]
  },
  {
   "cell_type": "code",
   "execution_count": null,
   "metadata": {},
   "outputs": [],
   "source": [
    "CLIENT_ID = os.environ.get('FOURSQUARE_ID')\n",
    "CLIENT_SECRET = os.environ.get('FOURSQUARE_SECRET')\n",
    "\n",
    "VERSION = '20180605' # Foursquare API version\n",
    "LIMIT = 100"
   ]
  },
  {
   "cell_type": "code",
   "execution_count": 27,
   "metadata": {},
   "outputs": [],
   "source": [
    "postcode_url = 'https://www.doogal.co.uk/UKPostcodesCSV.ashx?area=London'\n",
    "london_codes_all = pd.read_csv(postcode_url)"
   ]
  },
  {
   "cell_type": "code",
   "execution_count": 28,
   "metadata": {},
   "outputs": [
    {
     "data": {
      "text/html": [
       "<div>\n",
       "<style scoped>\n",
       "    .dataframe tbody tr th:only-of-type {\n",
       "        vertical-align: middle;\n",
       "    }\n",
       "\n",
       "    .dataframe tbody tr th {\n",
       "        vertical-align: top;\n",
       "    }\n",
       "\n",
       "    .dataframe thead th {\n",
       "        text-align: right;\n",
       "    }\n",
       "</style>\n",
       "<table border=\"1\" class=\"dataframe\">\n",
       "  <thead>\n",
       "    <tr style=\"text-align: right;\">\n",
       "      <th></th>\n",
       "      <th>Postcode</th>\n",
       "      <th>In Use?</th>\n",
       "      <th>Latitude</th>\n",
       "      <th>Longitude</th>\n",
       "      <th>Easting</th>\n",
       "      <th>Northing</th>\n",
       "      <th>Grid Ref</th>\n",
       "      <th>County</th>\n",
       "      <th>District</th>\n",
       "      <th>Ward</th>\n",
       "      <th>...</th>\n",
       "      <th>User Type</th>\n",
       "      <th>Last updated</th>\n",
       "      <th>Nearest station</th>\n",
       "      <th>Distance to station</th>\n",
       "      <th>Postcode area</th>\n",
       "      <th>Postcode district</th>\n",
       "      <th>Police force</th>\n",
       "      <th>Water company</th>\n",
       "      <th>Plus Code</th>\n",
       "      <th>Average Income</th>\n",
       "    </tr>\n",
       "  </thead>\n",
       "  <tbody>\n",
       "    <tr>\n",
       "      <th>0</th>\n",
       "      <td>BR1 1AA</td>\n",
       "      <td>Yes</td>\n",
       "      <td>51.401546</td>\n",
       "      <td>0.015415</td>\n",
       "      <td>540291</td>\n",
       "      <td>168873</td>\n",
       "      <td>TQ402688</td>\n",
       "      <td>Greater London</td>\n",
       "      <td>Bromley</td>\n",
       "      <td>Bromley Town</td>\n",
       "      <td>...</td>\n",
       "      <td>0</td>\n",
       "      <td>2020-02-19</td>\n",
       "      <td>Bromley South</td>\n",
       "      <td>0.218257</td>\n",
       "      <td>BR</td>\n",
       "      <td>BR1</td>\n",
       "      <td>Metropolitan Police</td>\n",
       "      <td>Thames Water</td>\n",
       "      <td>9F32C228+J5</td>\n",
       "      <td>63100</td>\n",
       "    </tr>\n",
       "    <tr>\n",
       "      <th>1</th>\n",
       "      <td>BR1 1AB</td>\n",
       "      <td>Yes</td>\n",
       "      <td>51.406333</td>\n",
       "      <td>0.015208</td>\n",
       "      <td>540262</td>\n",
       "      <td>169405</td>\n",
       "      <td>TQ402694</td>\n",
       "      <td>Greater London</td>\n",
       "      <td>Bromley</td>\n",
       "      <td>Bromley Town</td>\n",
       "      <td>...</td>\n",
       "      <td>0</td>\n",
       "      <td>2020-02-19</td>\n",
       "      <td>Bromley North</td>\n",
       "      <td>0.253666</td>\n",
       "      <td>BR</td>\n",
       "      <td>BR1</td>\n",
       "      <td>Metropolitan Police</td>\n",
       "      <td>Thames Water</td>\n",
       "      <td>9F32C248+G3</td>\n",
       "      <td>56100</td>\n",
       "    </tr>\n",
       "    <tr>\n",
       "      <th>2</th>\n",
       "      <td>BR1 1AD</td>\n",
       "      <td>No</td>\n",
       "      <td>51.400057</td>\n",
       "      <td>0.016715</td>\n",
       "      <td>540386</td>\n",
       "      <td>168710</td>\n",
       "      <td>TQ403687</td>\n",
       "      <td>Greater London</td>\n",
       "      <td>Bromley</td>\n",
       "      <td>Bromley Town</td>\n",
       "      <td>...</td>\n",
       "      <td>1</td>\n",
       "      <td>2020-02-19</td>\n",
       "      <td>Bromley South</td>\n",
       "      <td>0.044559</td>\n",
       "      <td>BR</td>\n",
       "      <td>BR1</td>\n",
       "      <td>Metropolitan Police</td>\n",
       "      <td>NaN</td>\n",
       "      <td>9F32C228+2M</td>\n",
       "      <td>63100</td>\n",
       "    </tr>\n",
       "    <tr>\n",
       "      <th>3</th>\n",
       "      <td>BR1 1AE</td>\n",
       "      <td>Yes</td>\n",
       "      <td>51.404543</td>\n",
       "      <td>0.014195</td>\n",
       "      <td>540197</td>\n",
       "      <td>169204</td>\n",
       "      <td>TQ401692</td>\n",
       "      <td>Greater London</td>\n",
       "      <td>Bromley</td>\n",
       "      <td>Bromley Town</td>\n",
       "      <td>...</td>\n",
       "      <td>0</td>\n",
       "      <td>2020-02-19</td>\n",
       "      <td>Bromley North</td>\n",
       "      <td>0.462939</td>\n",
       "      <td>BR</td>\n",
       "      <td>BR1</td>\n",
       "      <td>Metropolitan Police</td>\n",
       "      <td>Thames Water</td>\n",
       "      <td>9F32C237+RM</td>\n",
       "      <td>63100</td>\n",
       "    </tr>\n",
       "    <tr>\n",
       "      <th>4</th>\n",
       "      <td>BR1 1AF</td>\n",
       "      <td>Yes</td>\n",
       "      <td>51.401392</td>\n",
       "      <td>0.014948</td>\n",
       "      <td>540259</td>\n",
       "      <td>168855</td>\n",
       "      <td>TQ402688</td>\n",
       "      <td>Greater London</td>\n",
       "      <td>Bromley</td>\n",
       "      <td>Bromley Town</td>\n",
       "      <td>...</td>\n",
       "      <td>0</td>\n",
       "      <td>2020-02-19</td>\n",
       "      <td>Bromley South</td>\n",
       "      <td>0.227664</td>\n",
       "      <td>BR</td>\n",
       "      <td>BR1</td>\n",
       "      <td>Metropolitan Police</td>\n",
       "      <td>Thames Water</td>\n",
       "      <td>9F32C227+HX</td>\n",
       "      <td>63100</td>\n",
       "    </tr>\n",
       "  </tbody>\n",
       "</table>\n",
       "<p>5 rows × 47 columns</p>\n",
       "</div>"
      ],
      "text/plain": [
       "  Postcode In Use?   Latitude  Longitude  Easting  Northing  Grid Ref  \\\n",
       "0  BR1 1AA     Yes  51.401546   0.015415   540291    168873  TQ402688   \n",
       "1  BR1 1AB     Yes  51.406333   0.015208   540262    169405  TQ402694   \n",
       "2  BR1 1AD      No  51.400057   0.016715   540386    168710  TQ403687   \n",
       "3  BR1 1AE     Yes  51.404543   0.014195   540197    169204  TQ401692   \n",
       "4  BR1 1AF     Yes  51.401392   0.014948   540259    168855  TQ402688   \n",
       "\n",
       "           County District          Ward       ...       User Type  \\\n",
       "0  Greater London  Bromley  Bromley Town       ...               0   \n",
       "1  Greater London  Bromley  Bromley Town       ...               0   \n",
       "2  Greater London  Bromley  Bromley Town       ...               1   \n",
       "3  Greater London  Bromley  Bromley Town       ...               0   \n",
       "4  Greater London  Bromley  Bromley Town       ...               0   \n",
       "\n",
       "  Last updated Nearest station Distance to station Postcode area  \\\n",
       "0   2020-02-19   Bromley South            0.218257            BR   \n",
       "1   2020-02-19   Bromley North            0.253666            BR   \n",
       "2   2020-02-19   Bromley South            0.044559            BR   \n",
       "3   2020-02-19   Bromley North            0.462939            BR   \n",
       "4   2020-02-19   Bromley South            0.227664            BR   \n",
       "\n",
       "  Postcode district         Police force Water company    Plus Code  \\\n",
       "0               BR1  Metropolitan Police  Thames Water  9F32C228+J5   \n",
       "1               BR1  Metropolitan Police  Thames Water  9F32C248+G3   \n",
       "2               BR1  Metropolitan Police           NaN  9F32C228+2M   \n",
       "3               BR1  Metropolitan Police  Thames Water  9F32C237+RM   \n",
       "4               BR1  Metropolitan Police  Thames Water  9F32C227+HX   \n",
       "\n",
       "   Average Income  \n",
       "0           63100  \n",
       "1           56100  \n",
       "2           63100  \n",
       "3           63100  \n",
       "4           63100  \n",
       "\n",
       "[5 rows x 47 columns]"
      ]
     },
     "execution_count": 28,
     "metadata": {},
     "output_type": "execute_result"
    }
   ],
   "source": [
    "london_codes_all.head(5)"
   ]
  },
  {
   "cell_type": "code",
   "execution_count": 29,
   "metadata": {},
   "outputs": [
    {
     "data": {
      "text/plain": [
       "Index(['Postcode', 'In Use?', 'Latitude', 'Longitude', 'Easting', 'Northing',\n",
       "       'Grid Ref', 'County', 'District', 'Ward', 'District Code', 'Ward Code',\n",
       "       'Country', 'County Code', 'Constituency', 'Introduced', 'Terminated',\n",
       "       'Parish', 'National Park', 'Population', 'Households', 'Built up area',\n",
       "       'Built up sub-division', 'Lower layer super output area', 'Rural/urban',\n",
       "       'Region', 'Altitude', 'London zone', 'LSOA Code', 'Local authority',\n",
       "       'MSOA Code', 'Middle layer super output area', 'Parish Code',\n",
       "       'Census output area', 'Constituency Code',\n",
       "       'Index of Multiple Deprivation', 'Quality', 'User Type', 'Last updated',\n",
       "       'Nearest station', 'Distance to station', 'Postcode area',\n",
       "       'Postcode district', 'Police force', 'Water company', 'Plus Code',\n",
       "       'Average Income'],\n",
       "      dtype='object')"
      ]
     },
     "execution_count": 29,
     "metadata": {},
     "output_type": "execute_result"
    }
   ],
   "source": [
    "london_codes_all.columns"
   ]
  },
  {
   "cell_type": "markdown",
   "metadata": {},
   "source": [
    "The data data obtained in this table contains a huge amount of information that will be useful for further analysis. At the moment we will only take the colums relevant to the geographical grouping of neighbourhoods and their positional coordinates as this is what we will use to extract the venue feature datset using foursqaure."
   ]
  },
  {
   "cell_type": "code",
   "execution_count": 30,
   "metadata": {},
   "outputs": [],
   "source": [
    "london_relevant_columns = london_codes_all[['District','Ward', 'Constituency', 'Postcode district', 'Postcode', 'Latitude', 'Longitude']]"
   ]
  },
  {
   "cell_type": "code",
   "execution_count": 31,
   "metadata": {},
   "outputs": [
    {
     "data": {
      "text/html": [
       "<div>\n",
       "<style scoped>\n",
       "    .dataframe tbody tr th:only-of-type {\n",
       "        vertical-align: middle;\n",
       "    }\n",
       "\n",
       "    .dataframe tbody tr th {\n",
       "        vertical-align: top;\n",
       "    }\n",
       "\n",
       "    .dataframe thead th {\n",
       "        text-align: right;\n",
       "    }\n",
       "</style>\n",
       "<table border=\"1\" class=\"dataframe\">\n",
       "  <thead>\n",
       "    <tr style=\"text-align: right;\">\n",
       "      <th></th>\n",
       "      <th>District</th>\n",
       "      <th>Ward</th>\n",
       "      <th>Constituency</th>\n",
       "      <th>Postcode district</th>\n",
       "      <th>Postcode</th>\n",
       "      <th>Latitude</th>\n",
       "      <th>Longitude</th>\n",
       "    </tr>\n",
       "  </thead>\n",
       "  <tbody>\n",
       "    <tr>\n",
       "      <th>0</th>\n",
       "      <td>Bromley</td>\n",
       "      <td>Bromley Town</td>\n",
       "      <td>Bromley and Chislehurst</td>\n",
       "      <td>BR1</td>\n",
       "      <td>BR1 1AA</td>\n",
       "      <td>51.401546</td>\n",
       "      <td>0.015415</td>\n",
       "    </tr>\n",
       "    <tr>\n",
       "      <th>1</th>\n",
       "      <td>Bromley</td>\n",
       "      <td>Bromley Town</td>\n",
       "      <td>Bromley and Chislehurst</td>\n",
       "      <td>BR1</td>\n",
       "      <td>BR1 1AB</td>\n",
       "      <td>51.406333</td>\n",
       "      <td>0.015208</td>\n",
       "    </tr>\n",
       "    <tr>\n",
       "      <th>2</th>\n",
       "      <td>Bromley</td>\n",
       "      <td>Bromley Town</td>\n",
       "      <td>Bromley and Chislehurst</td>\n",
       "      <td>BR1</td>\n",
       "      <td>BR1 1AD</td>\n",
       "      <td>51.400057</td>\n",
       "      <td>0.016715</td>\n",
       "    </tr>\n",
       "    <tr>\n",
       "      <th>3</th>\n",
       "      <td>Bromley</td>\n",
       "      <td>Bromley Town</td>\n",
       "      <td>Bromley and Chislehurst</td>\n",
       "      <td>BR1</td>\n",
       "      <td>BR1 1AE</td>\n",
       "      <td>51.404543</td>\n",
       "      <td>0.014195</td>\n",
       "    </tr>\n",
       "    <tr>\n",
       "      <th>4</th>\n",
       "      <td>Bromley</td>\n",
       "      <td>Bromley Town</td>\n",
       "      <td>Bromley and Chislehurst</td>\n",
       "      <td>BR1</td>\n",
       "      <td>BR1 1AF</td>\n",
       "      <td>51.401392</td>\n",
       "      <td>0.014948</td>\n",
       "    </tr>\n",
       "  </tbody>\n",
       "</table>\n",
       "</div>"
      ],
      "text/plain": [
       "  District          Ward             Constituency Postcode district Postcode  \\\n",
       "0  Bromley  Bromley Town  Bromley and Chislehurst               BR1  BR1 1AA   \n",
       "1  Bromley  Bromley Town  Bromley and Chislehurst               BR1  BR1 1AB   \n",
       "2  Bromley  Bromley Town  Bromley and Chislehurst               BR1  BR1 1AD   \n",
       "3  Bromley  Bromley Town  Bromley and Chislehurst               BR1  BR1 1AE   \n",
       "4  Bromley  Bromley Town  Bromley and Chislehurst               BR1  BR1 1AF   \n",
       "\n",
       "    Latitude  Longitude  \n",
       "0  51.401546   0.015415  \n",
       "1  51.406333   0.015208  \n",
       "2  51.400057   0.016715  \n",
       "3  51.404543   0.014195  \n",
       "4  51.401392   0.014948  "
      ]
     },
     "execution_count": 31,
     "metadata": {},
     "output_type": "execute_result"
    }
   ],
   "source": [
    "london_relevant_columns.head()"
   ]
  },
  {
   "cell_type": "code",
   "execution_count": 32,
   "metadata": {},
   "outputs": [
    {
     "data": {
      "text/plain": [
       "(321834, 7)"
      ]
     },
     "execution_count": 32,
     "metadata": {},
     "output_type": "execute_result"
    }
   ],
   "source": [
    "london_relevant_columns.shape"
   ]
  },
  {
   "cell_type": "markdown",
   "metadata": {},
   "source": [
    "From the table we can see that there are a number of different ways to group neighbourhoods in London; District, ward, consituency and postcode area. In addition we can see that there is an additonal level of granularity we can see in specific postcodes. We will visualise each of these grouping layers using folium maps library to understand the merits of each method"
   ]
  },
  {
   "cell_type": "code",
   "execution_count": 38,
   "metadata": {},
   "outputs": [],
   "source": [
    "# Central coordinates for London obtained from google maps\n",
    "latitude = 51.5074\n",
    "longitude = -0.1278"
   ]
  },
  {
   "cell_type": "code",
   "execution_count": 13,
   "metadata": {},
   "outputs": [],
   "source": [
    "def create_map(frame, layer):\n",
    "# create map using latitude and longitude values\n",
    "    map_folium = folium.Map(location=[latitude, longitude], zoom_start=10)\n",
    "\n",
    "    # add markers to map\n",
    "    for lat, lng, layer in zip(frame['Latitude'], frame['Longitude'], frame[layer]):\n",
    "        label = '{}'.format(layer)\n",
    "        label = folium.Popup(label, parse_html=True)\n",
    "        folium.CircleMarker(\n",
    "            [lat, lng],\n",
    "            radius=5,\n",
    "            popup=label,\n",
    "            color='blue',\n",
    "            fill=True,\n",
    "            fill_color='#3186cc',\n",
    "            fill_opacity=0.7,\n",
    "            parse_html=False).add_to(map_folium)  \n",
    "\n",
    "    return map_folium"
   ]
  },
  {
   "cell_type": "markdown",
   "metadata": {},
   "source": [
    "In order to obtain a centroid location for the different layers of geographical groupings, I have used the group by method and will take the mean of the components coordinates that form a geographical layer."
   ]
  },
  {
   "cell_type": "code",
   "execution_count": 33,
   "metadata": {},
   "outputs": [
    {
     "data": {
      "text/html": [
       "<div>\n",
       "<style scoped>\n",
       "    .dataframe tbody tr th:only-of-type {\n",
       "        vertical-align: middle;\n",
       "    }\n",
       "\n",
       "    .dataframe tbody tr th {\n",
       "        vertical-align: top;\n",
       "    }\n",
       "\n",
       "    .dataframe thead th {\n",
       "        text-align: right;\n",
       "    }\n",
       "</style>\n",
       "<table border=\"1\" class=\"dataframe\">\n",
       "  <thead>\n",
       "    <tr style=\"text-align: right;\">\n",
       "      <th></th>\n",
       "      <th>Constituency</th>\n",
       "      <th>Latitude</th>\n",
       "      <th>Longitude</th>\n",
       "    </tr>\n",
       "  </thead>\n",
       "  <tbody>\n",
       "    <tr>\n",
       "      <th>0</th>\n",
       "      <td>Barking</td>\n",
       "      <td>51.540223</td>\n",
       "      <td>0.108926</td>\n",
       "    </tr>\n",
       "    <tr>\n",
       "      <th>1</th>\n",
       "      <td>Battersea</td>\n",
       "      <td>51.467693</td>\n",
       "      <td>-0.156828</td>\n",
       "    </tr>\n",
       "    <tr>\n",
       "      <th>2</th>\n",
       "      <td>Beckenham</td>\n",
       "      <td>51.392635</td>\n",
       "      <td>-0.010579</td>\n",
       "    </tr>\n",
       "    <tr>\n",
       "      <th>3</th>\n",
       "      <td>Bermondsey and Old Southwark</td>\n",
       "      <td>51.495689</td>\n",
       "      <td>-0.079441</td>\n",
       "    </tr>\n",
       "    <tr>\n",
       "      <th>4</th>\n",
       "      <td>Bethnal Green and Bow</td>\n",
       "      <td>51.524791</td>\n",
       "      <td>-0.054384</td>\n",
       "    </tr>\n",
       "  </tbody>\n",
       "</table>\n",
       "</div>"
      ],
      "text/plain": [
       "                   Constituency   Latitude  Longitude\n",
       "0                       Barking  51.540223   0.108926\n",
       "1                     Battersea  51.467693  -0.156828\n",
       "2                     Beckenham  51.392635  -0.010579\n",
       "3  Bermondsey and Old Southwark  51.495689  -0.079441\n",
       "4         Bethnal Green and Bow  51.524791  -0.054384"
      ]
     },
     "execution_count": 33,
     "metadata": {},
     "output_type": "execute_result"
    }
   ],
   "source": [
    "consituencies = london_relevant_columns.groupby('Constituency').agg('mean').reset_index()\n",
    "consituencies.head()"
   ]
  },
  {
   "cell_type": "code",
   "execution_count": null,
   "metadata": {},
   "outputs": [],
   "source": [
    "create_map(consituencies,'Constituency')"
   ]
  },
  {
   "cell_type": "code",
   "execution_count": null,
   "metadata": {},
   "outputs": [],
   "source": [
    "Borough = london_relevant_columns.groupby('District').agg('mean').reset_index()\n",
    "create_map(Borough,'District')"
   ]
  },
  {
   "cell_type": "code",
   "execution_count": null,
   "metadata": {},
   "outputs": [],
   "source": [
    "districts = london_relevant_columns.groupby('Postcode district').agg('mean').reset_index()\n",
    "create_map(districts,'Postcode district')"
   ]
  },
  {
   "cell_type": "code",
   "execution_count": null,
   "metadata": {},
   "outputs": [],
   "source": [
    "districts.head()"
   ]
  },
  {
   "cell_type": "markdown",
   "metadata": {},
   "source": [
    "The map above shows us that using postocode districts results in large geographical cluster of points in central London. these points much closer to each other than the points in the outer areas of the city. As a result any analysis on geographical features may result in a skewed data set for these points are they will be very geographically similar. "
   ]
  },
  {
   "cell_type": "markdown",
   "metadata": {},
   "source": [
    "In order to correct this, we can either use a higher layer geographical aggregation or we will have to clean the data in some way to reduce these clusters points. For the initial analysis I will clean the data at this level, due to additional merits of using the granular data. However, this can be ammended if the results are affected in any way."
   ]
  },
  {
   "cell_type": "code",
   "execution_count": null,
   "metadata": {},
   "outputs": [],
   "source": [
    "# Residential london only\n",
    "districts = districts[\n",
    "    (districts['Postcode district'].str[0]=='E') \n",
    "    | (districts['Postcode district'].str[0]=='N')\n",
    "    | (districts['Postcode district'].str[0]=='S')\n",
    "    | (districts['Postcode district'].str[0]=='W')\n",
    "]\n",
    "districts = districts[\n",
    "    (districts['Postcode district'].str[0:2]!='EN')\n",
    "    & (districts['Postcode district'].str[0:2]!='SM')\n",
    "    & (districts['Postcode district'].str[0:2]!='WD')\n",
    "    & (districts['Postcode district'].str[0:2]!='WC')\n",
    "    & (districts['Postcode district'].str[0:2]!='W1')\n",
    "    & (districts['Postcode district'].str[0:2]!='EC')\n",
    "    & (districts['Postcode district'].str[0:3]!='SW1')\n",
    "]"
   ]
  },
  {
   "cell_type": "markdown",
   "metadata": {},
   "source": [
    "## Analyse data on UK house transactions"
   ]
  },
  {
   "cell_type": "markdown",
   "metadata": {},
   "source": [
    "The url below  provides us with data on house purchases in 2020. This is detailed at a transaction level for each property and includes the prices paid for the property and the date of the transaction. This data is obtained from the land registry office of HM government. "
   ]
  },
  {
   "cell_type": "code",
   "execution_count": 46,
   "metadata": {},
   "outputs": [
    {
     "data": {
      "text/html": [
       "<div>\n",
       "<style scoped>\n",
       "    .dataframe tbody tr th:only-of-type {\n",
       "        vertical-align: middle;\n",
       "    }\n",
       "\n",
       "    .dataframe tbody tr th {\n",
       "        vertical-align: top;\n",
       "    }\n",
       "\n",
       "    .dataframe thead th {\n",
       "        text-align: right;\n",
       "    }\n",
       "</style>\n",
       "<table border=\"1\" class=\"dataframe\">\n",
       "  <thead>\n",
       "    <tr style=\"text-align: right;\">\n",
       "      <th></th>\n",
       "      <th>0</th>\n",
       "      <th>1</th>\n",
       "      <th>2</th>\n",
       "      <th>3</th>\n",
       "      <th>4</th>\n",
       "      <th>5</th>\n",
       "      <th>6</th>\n",
       "      <th>7</th>\n",
       "      <th>8</th>\n",
       "      <th>9</th>\n",
       "      <th>10</th>\n",
       "      <th>11</th>\n",
       "      <th>12</th>\n",
       "      <th>13</th>\n",
       "      <th>14</th>\n",
       "      <th>15</th>\n",
       "    </tr>\n",
       "  </thead>\n",
       "  <tbody>\n",
       "    <tr>\n",
       "      <th>0</th>\n",
       "      <td>{9FF0D969-FE3D-11ED-E053-6C04A8C06383}</td>\n",
       "      <td>309000</td>\n",
       "      <td>2020-02-07 00:00</td>\n",
       "      <td>NR29 4BQ</td>\n",
       "      <td>D</td>\n",
       "      <td>N</td>\n",
       "      <td>F</td>\n",
       "      <td>HILL COTTAGE</td>\n",
       "      <td>NaN</td>\n",
       "      <td>OLD CHAPEL ROAD</td>\n",
       "      <td>WINTERTON ON SEA</td>\n",
       "      <td>GREAT YARMOUTH</td>\n",
       "      <td>GREAT YARMOUTH</td>\n",
       "      <td>NORFOLK</td>\n",
       "      <td>A</td>\n",
       "      <td>A</td>\n",
       "    </tr>\n",
       "    <tr>\n",
       "      <th>1</th>\n",
       "      <td>{9FF0D969-FE3E-11ED-E053-6C04A8C06383}</td>\n",
       "      <td>343250</td>\n",
       "      <td>2020-01-17 00:00</td>\n",
       "      <td>NR6 5QD</td>\n",
       "      <td>S</td>\n",
       "      <td>N</td>\n",
       "      <td>F</td>\n",
       "      <td>37</td>\n",
       "      <td>NaN</td>\n",
       "      <td>WOOD VIEW ROAD</td>\n",
       "      <td>HELLESDON</td>\n",
       "      <td>NORWICH</td>\n",
       "      <td>BROADLAND</td>\n",
       "      <td>NORFOLK</td>\n",
       "      <td>A</td>\n",
       "      <td>A</td>\n",
       "    </tr>\n",
       "  </tbody>\n",
       "</table>\n",
       "</div>"
      ],
      "text/plain": [
       "                                       0       1                 2         3   \\\n",
       "0  {9FF0D969-FE3D-11ED-E053-6C04A8C06383}  309000  2020-02-07 00:00  NR29 4BQ   \n",
       "1  {9FF0D969-FE3E-11ED-E053-6C04A8C06383}  343250  2020-01-17 00:00   NR6 5QD   \n",
       "\n",
       "  4  5  6             7    8                9                 10  \\\n",
       "0  D  N  F  HILL COTTAGE  NaN  OLD CHAPEL ROAD  WINTERTON ON SEA   \n",
       "1  S  N  F            37  NaN   WOOD VIEW ROAD         HELLESDON   \n",
       "\n",
       "               11              12       13 14 15  \n",
       "0  GREAT YARMOUTH  GREAT YARMOUTH  NORFOLK  A  A  \n",
       "1         NORWICH       BROADLAND  NORFOLK  A  A  "
      ]
     },
     "execution_count": 46,
     "metadata": {},
     "output_type": "execute_result"
    }
   ],
   "source": [
    "prices_2020_url = 'http://prod.publicdata.landregistry.gov.uk.s3-website-eu-west-1.amazonaws.com/pp-2020.csv'\n",
    "prices_2020 = pd.read_csv(prices_2020_url, header=None)\n",
    "prices_2020.head(2)"
   ]
  },
  {
   "cell_type": "code",
   "execution_count": 47,
   "metadata": {},
   "outputs": [],
   "source": [
    "# prices_2020.rename(columns={\n",
    "#     0:'id',\n",
    "#     1:'price',\n",
    "#     2:'transaction_date',\n",
    "#     3:'postcode',\n",
    "    \n",
    "# })"
   ]
  },
  {
   "cell_type": "markdown",
   "metadata": {},
   "source": [
    "We can see from the preview of the dataframe above that this dataset does not include any headers and includes transations from all parts of the UK. The header names can be interpreted due to knowledge of the data, and those familiar with UK addresses will recognise that this data includes all the expected fields such as postcode, city, address etc. "
   ]
  },
  {
   "cell_type": "markdown",
   "metadata": {},
   "source": [
    "Given that this analysis is concerned with London neighbourhoods, I will filter the dataset below for only london transactions"
   ]
  },
  {
   "cell_type": "code",
   "execution_count": 48,
   "metadata": {},
   "outputs": [
    {
     "data": {
      "text/html": [
       "<div>\n",
       "<style scoped>\n",
       "    .dataframe tbody tr th:only-of-type {\n",
       "        vertical-align: middle;\n",
       "    }\n",
       "\n",
       "    .dataframe tbody tr th {\n",
       "        vertical-align: top;\n",
       "    }\n",
       "\n",
       "    .dataframe thead th {\n",
       "        text-align: right;\n",
       "    }\n",
       "</style>\n",
       "<table border=\"1\" class=\"dataframe\">\n",
       "  <thead>\n",
       "    <tr style=\"text-align: right;\">\n",
       "      <th></th>\n",
       "      <th>0</th>\n",
       "      <th>1</th>\n",
       "      <th>2</th>\n",
       "      <th>3</th>\n",
       "      <th>4</th>\n",
       "      <th>5</th>\n",
       "      <th>6</th>\n",
       "      <th>7</th>\n",
       "      <th>8</th>\n",
       "      <th>9</th>\n",
       "      <th>10</th>\n",
       "      <th>11</th>\n",
       "      <th>12</th>\n",
       "      <th>13</th>\n",
       "      <th>14</th>\n",
       "      <th>15</th>\n",
       "    </tr>\n",
       "  </thead>\n",
       "  <tbody>\n",
       "    <tr>\n",
       "      <th>400</th>\n",
       "      <td>{A2479555-988B-74C7-E053-6B04A8C0887D}</td>\n",
       "      <td>435000</td>\n",
       "      <td>2020-02-21 00:00</td>\n",
       "      <td>CR4 3BZ</td>\n",
       "      <td>T</td>\n",
       "      <td>N</td>\n",
       "      <td>F</td>\n",
       "      <td>49</td>\n",
       "      <td>NaN</td>\n",
       "      <td>HOMEFIELD GARDENS</td>\n",
       "      <td>NaN</td>\n",
       "      <td>MITCHAM</td>\n",
       "      <td>MERTON</td>\n",
       "      <td>GREATER LONDON</td>\n",
       "      <td>A</td>\n",
       "      <td>A</td>\n",
       "    </tr>\n",
       "    <tr>\n",
       "      <th>402</th>\n",
       "      <td>{A2479555-988D-74C7-E053-6B04A8C0887D}</td>\n",
       "      <td>910000</td>\n",
       "      <td>2020-02-19 00:00</td>\n",
       "      <td>KT1 3PL</td>\n",
       "      <td>S</td>\n",
       "      <td>N</td>\n",
       "      <td>F</td>\n",
       "      <td>5</td>\n",
       "      <td>NaN</td>\n",
       "      <td>HOMERSHAM ROAD</td>\n",
       "      <td>NaN</td>\n",
       "      <td>KINGSTON UPON THAMES</td>\n",
       "      <td>KINGSTON UPON THAMES</td>\n",
       "      <td>GREATER LONDON</td>\n",
       "      <td>A</td>\n",
       "      <td>A</td>\n",
       "    </tr>\n",
       "    <tr>\n",
       "      <th>403</th>\n",
       "      <td>{A2479555-988E-74C7-E053-6B04A8C0887D}</td>\n",
       "      <td>405000</td>\n",
       "      <td>2020-01-31 00:00</td>\n",
       "      <td>CR4 1LY</td>\n",
       "      <td>T</td>\n",
       "      <td>N</td>\n",
       "      <td>F</td>\n",
       "      <td>14</td>\n",
       "      <td>NaN</td>\n",
       "      <td>ELM GARDENS</td>\n",
       "      <td>NaN</td>\n",
       "      <td>MITCHAM</td>\n",
       "      <td>MERTON</td>\n",
       "      <td>GREATER LONDON</td>\n",
       "      <td>A</td>\n",
       "      <td>A</td>\n",
       "    </tr>\n",
       "  </tbody>\n",
       "</table>\n",
       "</div>"
      ],
      "text/plain": [
       "                                         0       1                 2   \\\n",
       "400  {A2479555-988B-74C7-E053-6B04A8C0887D}  435000  2020-02-21 00:00   \n",
       "402  {A2479555-988D-74C7-E053-6B04A8C0887D}  910000  2020-02-19 00:00   \n",
       "403  {A2479555-988E-74C7-E053-6B04A8C0887D}  405000  2020-01-31 00:00   \n",
       "\n",
       "          3  4  5  6   7    8                  9    10                    11  \\\n",
       "400  CR4 3BZ  T  N  F  49  NaN  HOMEFIELD GARDENS  NaN               MITCHAM   \n",
       "402  KT1 3PL  S  N  F   5  NaN     HOMERSHAM ROAD  NaN  KINGSTON UPON THAMES   \n",
       "403  CR4 1LY  T  N  F  14  NaN        ELM GARDENS  NaN               MITCHAM   \n",
       "\n",
       "                       12              13 14 15  \n",
       "400                MERTON  GREATER LONDON  A  A  \n",
       "402  KINGSTON UPON THAMES  GREATER LONDON  A  A  \n",
       "403                MERTON  GREATER LONDON  A  A  "
      ]
     },
     "execution_count": 48,
     "metadata": {},
     "output_type": "execute_result"
    }
   ],
   "source": [
    "london_prices = prices_2020[prices_2020[13]=='GREATER LONDON']\n",
    "london_prices.head(3)"
   ]
  },
  {
   "cell_type": "markdown",
   "metadata": {},
   "source": [
    "The transaction data is remerged here with the original data set including positional data for each postcode and geographical layer"
   ]
  },
  {
   "cell_type": "code",
   "execution_count": 49,
   "metadata": {},
   "outputs": [
    {
     "data": {
      "text/plain": [
       "(12009, 23)"
      ]
     },
     "execution_count": 49,
     "metadata": {},
     "output_type": "execute_result"
    }
   ],
   "source": [
    "transactions_geo = london_prices.merge(london_relevant_columns, how='left', left_on=3, right_on='Postcode')\n",
    "transactions_geo.shape"
   ]
  },
  {
   "cell_type": "code",
   "execution_count": 50,
   "metadata": {},
   "outputs": [
    {
     "data": {
      "text/plain": [
       "(11914, 23)"
      ]
     },
     "execution_count": 50,
     "metadata": {},
     "output_type": "execute_result"
    }
   ],
   "source": [
    "transactions_geo[transactions_geo['Postcode'].notnull()].shape"
   ]
  },
  {
   "cell_type": "code",
   "execution_count": 51,
   "metadata": {
    "scrolled": true
   },
   "outputs": [
    {
     "data": {
      "text/html": [
       "<div>\n",
       "<style scoped>\n",
       "    .dataframe tbody tr th:only-of-type {\n",
       "        vertical-align: middle;\n",
       "    }\n",
       "\n",
       "    .dataframe tbody tr th {\n",
       "        vertical-align: top;\n",
       "    }\n",
       "\n",
       "    .dataframe thead th {\n",
       "        text-align: right;\n",
       "    }\n",
       "</style>\n",
       "<table border=\"1\" class=\"dataframe\">\n",
       "  <thead>\n",
       "    <tr style=\"text-align: right;\">\n",
       "      <th></th>\n",
       "      <th>0</th>\n",
       "      <th>1</th>\n",
       "      <th>2</th>\n",
       "      <th>3</th>\n",
       "      <th>4</th>\n",
       "      <th>5</th>\n",
       "      <th>6</th>\n",
       "      <th>7</th>\n",
       "      <th>8</th>\n",
       "      <th>9</th>\n",
       "      <th>...</th>\n",
       "      <th>13</th>\n",
       "      <th>14</th>\n",
       "      <th>15</th>\n",
       "      <th>District</th>\n",
       "      <th>Ward</th>\n",
       "      <th>Constituency</th>\n",
       "      <th>Postcode district</th>\n",
       "      <th>Postcode</th>\n",
       "      <th>Latitude</th>\n",
       "      <th>Longitude</th>\n",
       "    </tr>\n",
       "  </thead>\n",
       "  <tbody>\n",
       "    <tr>\n",
       "      <th>0</th>\n",
       "      <td>{A2479555-988B-74C7-E053-6B04A8C0887D}</td>\n",
       "      <td>435000</td>\n",
       "      <td>2020-02-21 00:00</td>\n",
       "      <td>CR4 3BZ</td>\n",
       "      <td>T</td>\n",
       "      <td>N</td>\n",
       "      <td>F</td>\n",
       "      <td>49</td>\n",
       "      <td>NaN</td>\n",
       "      <td>HOMEFIELD GARDENS</td>\n",
       "      <td>...</td>\n",
       "      <td>GREATER LONDON</td>\n",
       "      <td>A</td>\n",
       "      <td>A</td>\n",
       "      <td>Merton</td>\n",
       "      <td>Cricket Green</td>\n",
       "      <td>Mitcham and Morden</td>\n",
       "      <td>CR4</td>\n",
       "      <td>CR4 3BZ</td>\n",
       "      <td>51.408905</td>\n",
       "      <td>-0.182207</td>\n",
       "    </tr>\n",
       "    <tr>\n",
       "      <th>1</th>\n",
       "      <td>{A2479555-988D-74C7-E053-6B04A8C0887D}</td>\n",
       "      <td>910000</td>\n",
       "      <td>2020-02-19 00:00</td>\n",
       "      <td>KT1 3PL</td>\n",
       "      <td>S</td>\n",
       "      <td>N</td>\n",
       "      <td>F</td>\n",
       "      <td>5</td>\n",
       "      <td>NaN</td>\n",
       "      <td>HOMERSHAM ROAD</td>\n",
       "      <td>...</td>\n",
       "      <td>GREATER LONDON</td>\n",
       "      <td>A</td>\n",
       "      <td>A</td>\n",
       "      <td>Kingston upon Thames</td>\n",
       "      <td>Norbiton</td>\n",
       "      <td>Kingston and Surbiton</td>\n",
       "      <td>KT1</td>\n",
       "      <td>KT1 3PL</td>\n",
       "      <td>51.411178</td>\n",
       "      <td>-0.282775</td>\n",
       "    </tr>\n",
       "    <tr>\n",
       "      <th>2</th>\n",
       "      <td>{A2479555-988E-74C7-E053-6B04A8C0887D}</td>\n",
       "      <td>405000</td>\n",
       "      <td>2020-01-31 00:00</td>\n",
       "      <td>CR4 1LY</td>\n",
       "      <td>T</td>\n",
       "      <td>N</td>\n",
       "      <td>F</td>\n",
       "      <td>14</td>\n",
       "      <td>NaN</td>\n",
       "      <td>ELM GARDENS</td>\n",
       "      <td>...</td>\n",
       "      <td>GREATER LONDON</td>\n",
       "      <td>A</td>\n",
       "      <td>A</td>\n",
       "      <td>Merton</td>\n",
       "      <td>Pollards Hill</td>\n",
       "      <td>Mitcham and Morden</td>\n",
       "      <td>CR4</td>\n",
       "      <td>CR4 1LY</td>\n",
       "      <td>51.398912</td>\n",
       "      <td>-0.135119</td>\n",
       "    </tr>\n",
       "  </tbody>\n",
       "</table>\n",
       "<p>3 rows × 23 columns</p>\n",
       "</div>"
      ],
      "text/plain": [
       "                                        0       1                 2        3  \\\n",
       "0  {A2479555-988B-74C7-E053-6B04A8C0887D}  435000  2020-02-21 00:00  CR4 3BZ   \n",
       "1  {A2479555-988D-74C7-E053-6B04A8C0887D}  910000  2020-02-19 00:00  KT1 3PL   \n",
       "2  {A2479555-988E-74C7-E053-6B04A8C0887D}  405000  2020-01-31 00:00  CR4 1LY   \n",
       "\n",
       "   4  5  6   7    8                  9    ...                 13 14 15  \\\n",
       "0  T  N  F  49  NaN  HOMEFIELD GARDENS    ...     GREATER LONDON  A  A   \n",
       "1  S  N  F   5  NaN     HOMERSHAM ROAD    ...     GREATER LONDON  A  A   \n",
       "2  T  N  F  14  NaN        ELM GARDENS    ...     GREATER LONDON  A  A   \n",
       "\n",
       "               District           Ward           Constituency  \\\n",
       "0                Merton  Cricket Green     Mitcham and Morden   \n",
       "1  Kingston upon Thames       Norbiton  Kingston and Surbiton   \n",
       "2                Merton  Pollards Hill     Mitcham and Morden   \n",
       "\n",
       "  Postcode district Postcode   Latitude Longitude  \n",
       "0               CR4  CR4 3BZ  51.408905 -0.182207  \n",
       "1               KT1  KT1 3PL  51.411178 -0.282775  \n",
       "2               CR4  CR4 1LY  51.398912 -0.135119  \n",
       "\n",
       "[3 rows x 23 columns]"
      ]
     },
     "execution_count": 51,
     "metadata": {},
     "output_type": "execute_result"
    }
   ],
   "source": [
    "transactions_geo.head(3)"
   ]
  },
  {
   "cell_type": "markdown",
   "metadata": {},
   "source": [
    "Now that we have transactional data alongside the geographical layers that correspond to them, we can use this to analyse the distribution of house prices across the different geographical layers of looking at London addresses. "
   ]
  },
  {
   "cell_type": "code",
   "execution_count": 52,
   "metadata": {},
   "outputs": [],
   "source": [
    "def group_transactions(frame, layer):\n",
    "    avg_prices = frame[[layer,1]].groupby(layer).mean().reset_index()\n",
    "    avg_prices[1] = avg_prices[1].astype(int)\n",
    "    avg_prices.rename(columns={1:'avg_price'}, inplace=True)\n",
    "    return avg_prices"
   ]
  },
  {
   "cell_type": "code",
   "execution_count": 53,
   "metadata": {},
   "outputs": [],
   "source": [
    "def plot_hit_price(frame):\n",
    "    bins = np.linspace(frame['avg_price'].min(), frame['avg_price'].max(), 25)\n",
    "    plt.figure(figsize=(10,5))\n",
    "    return plt.hist(frame['avg_price'], bins=bins)"
   ]
  },
  {
   "cell_type": "code",
   "execution_count": null,
   "metadata": {},
   "outputs": [],
   "source": [
    "# Price distribution by postcode\n",
    "postcode_prices = group_transactions(transactions_geo, 'Postcode district')\n",
    "plot_hit_price(postcode_prices)"
   ]
  },
  {
   "cell_type": "code",
   "execution_count": null,
   "metadata": {
    "scrolled": false
   },
   "outputs": [],
   "source": [
    "constituency_prices = group_transactions(transactions_geo, 'Constituency')\n",
    "# bins = np.linspace(y.min(), y.max(), 25)\n",
    "# plt.figure(figsize=(10,5))\n",
    "# plt.hist(constituency_prices['avg_price'], bins=bins)"
   ]
  },
  {
   "cell_type": "code",
   "execution_count": null,
   "metadata": {},
   "outputs": [],
   "source": [
    "plot_hit_price(constituency_prices)"
   ]
  },
  {
   "cell_type": "code",
   "execution_count": null,
   "metadata": {},
   "outputs": [],
   "source": [
    "borough_prices = group_transactions(transactions_geo, 'District')\n",
    "plot_hit_price(borough_prices)"
   ]
  },
  {
   "cell_type": "markdown",
   "metadata": {},
   "source": [
    "We can see from the charts above that the distribution of house prices follows a fairly normal distribution, but then has long tail skewing the data towards higher values. This is no surprise given the high premium that is placed on prime central london real estate. In order to help group this data better, I will classify the prices into four bands below."
   ]
  },
  {
   "cell_type": "code",
   "execution_count": 54,
   "metadata": {},
   "outputs": [],
   "source": [
    "def price_classificaton(frame):\n",
    "    lower = np.percentile(frame['avg_price'],25)\n",
    "    median = np.percentile(frame['avg_price'],50)\n",
    "    upper = np.percentile(frame['avg_price'],75)\n",
    "    frame.loc[frame['avg_price'] > upper, 'price_band'] = 'expensive' \n",
    "    frame.loc[frame['avg_price'] <= upper, 'price_band'] = 'premium' \n",
    "    frame.loc[frame['avg_price'] <= median, 'price_band'] = 'mid range' \n",
    "    frame.loc[frame['avg_price'] <= lower, 'price_band'] = 'cheap' \n",
    "    return frame"
   ]
  },
  {
   "cell_type": "code",
   "execution_count": 55,
   "metadata": {},
   "outputs": [],
   "source": [
    "postcode_prices = price_classificaton(group_transactions(transactions_geo, 'Postcode district'))"
   ]
  },
  {
   "cell_type": "code",
   "execution_count": 56,
   "metadata": {},
   "outputs": [],
   "source": [
    "constituency_prices = price_classificaton(group_transactions(transactions_geo, 'Constituency'))"
   ]
  },
  {
   "cell_type": "markdown",
   "metadata": {},
   "source": [
    "### Use foursquare to get local venues"
   ]
  },
  {
   "cell_type": "markdown",
   "metadata": {},
   "source": [
    "I wil extract neighbourhood features at two geographical layers, postcode area and constituency. I will repeat the analysis for both to understand what effect if any the geographical proximity of central london postcodes may have. "
   ]
  },
  {
   "cell_type": "code",
   "execution_count": 9,
   "metadata": {},
   "outputs": [],
   "source": [
    "def getNearbyVenues(names, latitudes, longitudes, radius=500):\n",
    "    \n",
    "    venues_list=[]\n",
    "    for name, lat, lng in zip(names, latitudes, longitudes):\n",
    "        print(name)\n",
    "            \n",
    "        # create the API request URL\n",
    "        url = 'https://api.foursquare.com/v2/venues/explore?&client_id={}&client_secret={}&v={}&ll={},{}&radius={}&limit={}'.format(\n",
    "            CLIENT_ID, \n",
    "            CLIENT_SECRET, \n",
    "            VERSION, \n",
    "            lat, \n",
    "            lng, \n",
    "            radius, \n",
    "            LIMIT)\n",
    "            \n",
    "        # make the GET request\n",
    "        results = requests.get(url).json()[\"response\"]['groups'][0]['items']\n",
    "        \n",
    "        # return only relevant information for each nearby venue\n",
    "        venues_list.append([(\n",
    "            name, \n",
    "            lat, \n",
    "            lng, \n",
    "            v['venue']['name'], \n",
    "            v['venue']['location']['lat'], \n",
    "            v['venue']['location']['lng'],  \n",
    "            v['venue']['categories'][0]['name']) for v in results])\n",
    "\n",
    "    nearby_venues = pd.DataFrame([item for venue_list in venues_list for item in venue_list])\n",
    "    nearby_venues.columns = ['Neighborhood', \n",
    "                  'Neighborhood Latitude', \n",
    "                  'Neighborhood Longitude', \n",
    "                  'Venue', \n",
    "                  'Venue Latitude', \n",
    "                  'Venue Longitude', \n",
    "                  'Venue Category']\n",
    "    \n",
    "    return(nearby_venues)"
   ]
  },
  {
   "cell_type": "code",
   "execution_count": null,
   "metadata": {},
   "outputs": [],
   "source": [
    "london_venues_raw = getNearbyVenues(names=districts['Postcode district'],\n",
    "                                   latitudes=districts['Latitude'],\n",
    "                                   longitudes=districts['Longitude']\n",
    "                                  )"
   ]
  },
  {
   "cell_type": "code",
   "execution_count": null,
   "metadata": {},
   "outputs": [],
   "source": [
    "london_venues_raw.to_csv('london_venues.csv')"
   ]
  },
  {
   "cell_type": "code",
   "execution_count": null,
   "metadata": {},
   "outputs": [],
   "source": [
    "london_venues_raw = pd.read_csv('london_venues.csv')"
   ]
  },
  {
   "cell_type": "code",
   "execution_count": null,
   "metadata": {
    "scrolled": true
   },
   "outputs": [],
   "source": [
    "# consituencies\n",
    "consitutency_venues_raw = getNearbyVenues(names=consituencies['Constituency'],\n",
    "                                   latitudes=consituencies['Latitude'],\n",
    "                                   longitudes=consituencies['Longitude']\n",
    "                                  )"
   ]
  },
  {
   "cell_type": "code",
   "execution_count": null,
   "metadata": {},
   "outputs": [],
   "source": [
    "consitutency_venues_raw.to_csv('constituency_venues.csv')"
   ]
  },
  {
   "cell_type": "code",
   "execution_count": null,
   "metadata": {},
   "outputs": [],
   "source": [
    "london_venues = london_venues_raw.copy()\n",
    "london_venues.shape"
   ]
  },
  {
   "cell_type": "code",
   "execution_count": null,
   "metadata": {
    "scrolled": true
   },
   "outputs": [],
   "source": [
    "london_venues['Venue Category'].value_counts().head()"
   ]
  },
  {
   "cell_type": "code",
   "execution_count": null,
   "metadata": {},
   "outputs": [],
   "source": [
    "len(london_venues['Venue Category'].unique())"
   ]
  },
  {
   "cell_type": "markdown",
   "metadata": {},
   "source": [
    "As we can see from above there are a lot of features for this dataset (385). This may affect the performance of the clustering algorithm and we may need to carry out some feature engineering to improve this. "
   ]
  },
  {
   "cell_type": "markdown",
   "metadata": {},
   "source": [
    "### one hot encoding postcode data"
   ]
  },
  {
   "cell_type": "code",
   "execution_count": null,
   "metadata": {},
   "outputs": [],
   "source": [
    "def pre_processing(frame):\n",
    "    london_one_hot = pd.get_dummies(frame[['Venue Category']], prefix=\"\", prefix_sep=\"\")\n",
    "    london_one_hot['layer'] = frame['Neighborhood']\n",
    "    london_grouped_category = london_one_hot.groupby('layer').mean().reset_index()\n",
    "    return london_grouped_category"
   ]
  },
  {
   "cell_type": "code",
   "execution_count": null,
   "metadata": {},
   "outputs": [],
   "source": [
    "london_grouped = pre_processing(london_venues)\n",
    "london_grouped.shape"
   ]
  },
  {
   "cell_type": "code",
   "execution_count": null,
   "metadata": {
    "scrolled": true
   },
   "outputs": [],
   "source": [
    "london_grouped.head()"
   ]
  },
  {
   "cell_type": "markdown",
   "metadata": {},
   "source": [
    "### summary of top venues"
   ]
  },
  {
   "cell_type": "code",
   "execution_count": 7,
   "metadata": {},
   "outputs": [],
   "source": [
    "def return_most_common_venues(row, num_top_venues):\n",
    "    row_categories = row.iloc[1:]\n",
    "    row_categories_sorted = row_categories.sort_values(ascending=False)\n",
    "    \n",
    "    return row_categories_sorted.index.values[0:num_top_venues]"
   ]
  },
  {
   "cell_type": "code",
   "execution_count": 8,
   "metadata": {},
   "outputs": [],
   "source": [
    "def get_top_venues(frame):\n",
    "    num_top_venues = 10\n",
    "\n",
    "    indicators = ['st', 'nd', 'rd']\n",
    "\n",
    "    # create columns according to number of top venues\n",
    "    columns = ['layer']\n",
    "    for ind in np.arange(num_top_venues):\n",
    "        try:\n",
    "            columns.append('{}{} Most Common Venue'.format(ind+1, indicators[ind]))\n",
    "        except:\n",
    "            columns.append('{}th Most Common Venue'.format(ind+1))\n",
    "\n",
    "    # create a new dataframe\n",
    "    top_venues = pd.DataFrame(columns=columns)\n",
    "    top_venues['layer'] = frame['layer']\n",
    "\n",
    "    for ind in np.arange(frame.shape[0]):\n",
    "        top_venues.iloc[ind, 1:] = return_most_common_venues(frame.iloc[ind, :], num_top_venues)\n",
    "        \n",
    "    return top_venues"
   ]
  },
  {
   "cell_type": "code",
   "execution_count": null,
   "metadata": {},
   "outputs": [],
   "source": [
    "neighborhoods_venues_sorted = get_top_venues(london_grouped)\n",
    "neighborhoods_venues_sorted.shape"
   ]
  },
  {
   "cell_type": "code",
   "execution_count": null,
   "metadata": {},
   "outputs": [],
   "source": [
    "neighborhoods_venues_sorted.head()"
   ]
  },
  {
   "cell_type": "markdown",
   "metadata": {},
   "source": [
    "### clustering postcode data"
   ]
  },
  {
   "cell_type": "code",
   "execution_count": 5,
   "metadata": {},
   "outputs": [],
   "source": [
    "def elbow_method(frame):\n",
    "    elbow_df = frame.drop('layer', 1)\n",
    "#     elbow_df = frame\n",
    "    distortions = []\n",
    "    K = range(1,20)\n",
    "    for k in K:\n",
    "        kmeanModel = KMeans(n_clusters=k, random_state=0).fit(elbow_df)\n",
    "        distortions.append(sum(np.min(cdist(elbow_df, kmeanModel.cluster_centers_, 'euclidean'), axis=1)) / elbow_df.shape[0])\n",
    "\n",
    "    # Plot the elbow\n",
    "    plt.plot(K, distortions, 'bx-')\n",
    "    plt.xlabel('k')\n",
    "    plt.ylabel('Distortion')\n",
    "    plt.title('optimal k')\n",
    "    plt.show()"
   ]
  },
  {
   "cell_type": "code",
   "execution_count": 6,
   "metadata": {
    "scrolled": false
   },
   "outputs": [],
   "source": [
    "def kmeans_plot(frame,k):\n",
    "    hist_plot_df = frame.drop('layer', 1)\n",
    "#     hist_plot_df = frame\n",
    "    # run k-means clustering\n",
    "    kmeans = KMeans(n_clusters=k, random_state=0).fit(hist_plot_df)\n",
    "    # plot\n",
    "    return plt.hist(kmeans.labels_, bins=k)"
   ]
  },
  {
   "cell_type": "code",
   "execution_count": null,
   "metadata": {},
   "outputs": [],
   "source": [
    "elbow_method(london_grouped)"
   ]
  },
  {
   "cell_type": "markdown",
   "metadata": {},
   "source": [
    "The chart above shows us that there is no obvious optimal point for K, and additional clusters continue to improve the clustering algorithm. This may be due to the fact that there very high number of features in this dataset. I will revisit this once the initial analysis is complete. "
   ]
  },
  {
   "cell_type": "markdown",
   "metadata": {},
   "source": [
    "To help further in identifying an optimal k, I will plot the frequency of each cluster below. This will give an insight into how successful the clustering approach has been in finding similarities between neighbourhoods. "
   ]
  },
  {
   "cell_type": "code",
   "execution_count": null,
   "metadata": {},
   "outputs": [],
   "source": [
    "kmeans_plot(london_grouped, 10)"
   ]
  },
  {
   "cell_type": "code",
   "execution_count": null,
   "metadata": {},
   "outputs": [],
   "source": [
    "kmeans_plot(london_grouped, 7)"
   ]
  },
  {
   "cell_type": "code",
   "execution_count": null,
   "metadata": {},
   "outputs": [],
   "source": [
    "kmeans_plot(london_grouped, 5)"
   ]
  },
  {
   "cell_type": "markdown",
   "metadata": {},
   "source": [
    "Since adding additonal clusters continues to improve accuracy I will use k = 7 for my analysis, as the historgram plots above indicate that this gives us an additional cluster with subtantial data points, indicating the algorithm has found additional similarities between clusters. "
   ]
  },
  {
   "cell_type": "code",
   "execution_count": null,
   "metadata": {},
   "outputs": [],
   "source": [
    "k = 7\n",
    "grouped_clustering = london_grouped.drop('layer', 1)\n",
    "kmeans = KMeans(n_clusters=k, random_state=0).fit(grouped_clustering)\n",
    "labels = kmeans.labels_\n",
    "neighborhoods_venues_sorted.insert(0, 'Cluster Labels', labels)\n",
    "len(kmeans.labels_)"
   ]
  },
  {
   "cell_type": "code",
   "execution_count": null,
   "metadata": {},
   "outputs": [],
   "source": [
    "postcode_map = districts.merge(neighborhoods_venues_sorted, left_on='Postcode district', right_on='layer')"
   ]
  },
  {
   "cell_type": "code",
   "execution_count": null,
   "metadata": {},
   "outputs": [],
   "source": [
    "postcode_map.head()"
   ]
  },
  {
   "cell_type": "markdown",
   "metadata": {},
   "source": [
    "### Map of london clusters"
   ]
  },
  {
   "cell_type": "code",
   "execution_count": 4,
   "metadata": {},
   "outputs": [],
   "source": [
    "def cluster_map(frame, k):\n",
    "    # create map\n",
    "    map_clusters = folium.Map(location=[latitude, longitude], zoom_start=11)\n",
    "\n",
    "    # set color scheme for the clusters\n",
    "    x = np.arange(k)\n",
    "    ys = [i + x + (i*x)**2 for i in range(k)]\n",
    "    colors_array = cm.rainbow(np.linspace(0, 1, len(ys)))\n",
    "    rainbow = [colors.rgb2hex(i) for i in colors_array]\n",
    "\n",
    "    # add markers to the map\n",
    "    markers_colors = []\n",
    "    for lat, lon, poi, cluster in zip(frame['Latitude'], frame['Longitude'], frame['layer'], frame['Cluster Labels']):\n",
    "        label = folium.Popup(str(poi) + ' Cluster ' + str(cluster), parse_html=True)\n",
    "        folium.CircleMarker(\n",
    "            [lat, lon],\n",
    "            radius=5,\n",
    "            popup=label,\n",
    "            color=rainbow[cluster-1],\n",
    "            fill=True,\n",
    "            fill_color=rainbow[cluster-1],\n",
    "            fill_opacity=0.7).add_to(map_clusters)\n",
    "\n",
    "    return map_clusters"
   ]
  },
  {
   "cell_type": "code",
   "execution_count": null,
   "metadata": {},
   "outputs": [],
   "source": [
    "cluster_map(postcode_map,k)"
   ]
  },
  {
   "cell_type": "markdown",
   "metadata": {},
   "source": [
    "We can see from the map above that the kmeans algorithm has been able to group certain areas of London based on their geographical features. We can look at the most common types of venues in those areas in those neighbourhoods to understand their common features. I will also join the average house price data back onto this data frame so we can get an idea of price bands"
   ]
  },
  {
   "cell_type": "code",
   "execution_count": 3,
   "metadata": {},
   "outputs": [],
   "source": [
    "def view_df(frame, cluster):\n",
    "    return frame.loc[frame['Cluster Labels'] == cluster, frame.columns[[0] + list(range(4, frame.shape[1]))]]"
   ]
  },
  {
   "cell_type": "code",
   "execution_count": null,
   "metadata": {},
   "outputs": [],
   "source": [
    "postcode_cluster_prices = postcode_map.merge(postcode_prices, how='left', on='Postcode district')\n",
    "postcode_cluster_prices.shape"
   ]
  },
  {
   "cell_type": "code",
   "execution_count": null,
   "metadata": {},
   "outputs": [],
   "source": [
    "view_df(postcode_cluster_prices,0)"
   ]
  },
  {
   "cell_type": "code",
   "execution_count": null,
   "metadata": {
    "scrolled": true
   },
   "outputs": [],
   "source": [
    "view_df(postcode_cluster_prices,1)"
   ]
  },
  {
   "cell_type": "code",
   "execution_count": null,
   "metadata": {
    "scrolled": true
   },
   "outputs": [],
   "source": [
    "view_df(postcode_cluster_prices,2)"
   ]
  },
  {
   "cell_type": "code",
   "execution_count": null,
   "metadata": {
    "scrolled": true
   },
   "outputs": [],
   "source": [
    "view_df(postcode_cluster_prices,3)"
   ]
  },
  {
   "cell_type": "code",
   "execution_count": null,
   "metadata": {},
   "outputs": [],
   "source": [
    "view_df(postcode_cluster_prices,4)"
   ]
  },
  {
   "cell_type": "code",
   "execution_count": null,
   "metadata": {},
   "outputs": [],
   "source": [
    "view_df(postcode_cluster_prices,5)"
   ]
  },
  {
   "cell_type": "code",
   "execution_count": null,
   "metadata": {
    "scrolled": true
   },
   "outputs": [],
   "source": [
    "view_df(postcode_cluster_prices,6)"
   ]
  },
  {
   "cell_type": "markdown",
   "metadata": {},
   "source": [
    "### repeating the analysis excluding prime central london real estate"
   ]
  },
  {
   "cell_type": "code",
   "execution_count": null,
   "metadata": {},
   "outputs": [],
   "source": []
  },
  {
   "cell_type": "code",
   "execution_count": null,
   "metadata": {},
   "outputs": [],
   "source": [
    "london_venues = london_venues[\n",
    "    (london_venues1['Neighborhood'].str[0]=='E') \n",
    "    | (london_venues1['Neighborhood'].str[0]=='N')\n",
    "    | (london_venues1['Neighborhood'].str[0]=='S')\n",
    "    | (london_venues1['Neighborhood'].str[0]=='W')\n",
    "]\n",
    "london_venues = london_venues[\n",
    "    (london_venues1['Neighborhood'].str[0:2]!='EN')\n",
    "    & (london_venues1['Neighborhood'].str[0:2]!='SM')\n",
    "    & (london_venues1['Neighborhood'].str[0:2]!='WD')\n",
    "    & (london_venues1['Neighborhood'].str[0:2]!='WC')\n",
    "    & (london_venues1['Neighborhood'].str[0:2]!='EC')\n",
    "]\n",
    "london_venues.shape"
   ]
  },
  {
   "cell_type": "code",
   "execution_count": null,
   "metadata": {},
   "outputs": [],
   "source": [
    "london_grouped = pre_processing(london_venues)\n",
    "london_grouped.shape"
   ]
  },
  {
   "cell_type": "markdown",
   "metadata": {},
   "source": [
    "### summary of top venues"
   ]
  },
  {
   "cell_type": "code",
   "execution_count": null,
   "metadata": {},
   "outputs": [],
   "source": [
    "neighborhoods_venues_sorted = get_top_venues(london_grouped)\n",
    "neighborhoods_venues_sorted.shape"
   ]
  },
  {
   "cell_type": "code",
   "execution_count": null,
   "metadata": {},
   "outputs": [],
   "source": [
    "elbow_method(london_grouped)"
   ]
  },
  {
   "cell_type": "code",
   "execution_count": null,
   "metadata": {},
   "outputs": [],
   "source": [
    "kmeans_plot(london_grouped, 10)"
   ]
  },
  {
   "cell_type": "code",
   "execution_count": null,
   "metadata": {},
   "outputs": [],
   "source": [
    "kmeans_plot(london_grouped, 7)"
   ]
  },
  {
   "cell_type": "code",
   "execution_count": null,
   "metadata": {},
   "outputs": [],
   "source": [
    "kmeans_plot(london_grouped, 5)"
   ]
  },
  {
   "cell_type": "code",
   "execution_count": null,
   "metadata": {},
   "outputs": [],
   "source": [
    "k = 5\n",
    "grouped_clustering = london_grouped.drop('layer', 1)\n",
    "kmeans = KMeans(n_clusters=k, random_state=0).fit(grouped_clustering)\n",
    "labels = kmeans.labels_\n",
    "neighborhoods_venues_sorted.insert(0, 'Cluster Labels', labels)\n",
    "len(kmeans.labels_)"
   ]
  },
  {
   "cell_type": "code",
   "execution_count": null,
   "metadata": {},
   "outputs": [],
   "source": [
    "postcode_map = districts.merge(neighborhoods_venues_sorted, left_on='Postcode district', right_on='layer')"
   ]
  },
  {
   "cell_type": "code",
   "execution_count": null,
   "metadata": {
    "scrolled": true
   },
   "outputs": [],
   "source": [
    "cluster_map(postcode_map,k)"
   ]
  },
  {
   "cell_type": "code",
   "execution_count": null,
   "metadata": {},
   "outputs": [],
   "source": [
    "postcode_cluster_prices = postcode_map.merge(postcode_prices, how='left', on='Postcode district')\n",
    "postcode_cluster_prices.shape"
   ]
  },
  {
   "cell_type": "code",
   "execution_count": null,
   "metadata": {},
   "outputs": [],
   "source": [
    "view_df(postcode_cluster_prices,0)"
   ]
  },
  {
   "cell_type": "code",
   "execution_count": null,
   "metadata": {
    "scrolled": true
   },
   "outputs": [],
   "source": [
    "view_df(postcode_cluster_prices,1)"
   ]
  },
  {
   "cell_type": "code",
   "execution_count": null,
   "metadata": {},
   "outputs": [],
   "source": [
    "view_df(postcode_cluster_prices,2)"
   ]
  },
  {
   "cell_type": "code",
   "execution_count": null,
   "metadata": {
    "scrolled": true
   },
   "outputs": [],
   "source": [
    "view_df(postcode_cluster_prices,3)"
   ]
  },
  {
   "cell_type": "code",
   "execution_count": null,
   "metadata": {},
   "outputs": [],
   "source": [
    "view_df(postcode_cluster_prices,4)"
   ]
  },
  {
   "cell_type": "markdown",
   "metadata": {},
   "source": [
    "### Feature engineering before preprocessing to improve clustering"
   ]
  },
  {
   "cell_type": "markdown",
   "metadata": {},
   "source": [
    "The elbow method charts from above showed us that we cannot find an optimal value for K as the there was no significant elbow point which marked the best value. This is likely due to the fact the dataset currently has a large number of features (385 including outer london and central london postcodes). As we can see from features below, many of these features are very similar and differ due to slight name changes or sub categories. For example, the various different restraunts by world cuisine could be grouped together as restraunts. In this section I will carry out some feature engineering to reduce the number of features by combining these categories, to improve the clustering algorithm. "
   ]
  },
  {
   "cell_type": "code",
   "execution_count": null,
   "metadata": {},
   "outputs": [],
   "source": [
    "london_venues['Venue Category'].unique()"
   ]
  },
  {
   "cell_type": "code",
   "execution_count": null,
   "metadata": {},
   "outputs": [],
   "source": [
    "len(london_venues['Venue Category'].unique())"
   ]
  },
  {
   "cell_type": "code",
   "execution_count": 2,
   "metadata": {},
   "outputs": [],
   "source": [
    "def feature_engineering(frame):\n",
    "    Restaurant_msk = frame['Venue Category'].str.contains('Restaurant')\n",
    "    Bar_msk = frame['Venue Category'].str.contains('Bar')\n",
    "    Shop_msk = frame['Venue Category'].str.contains('Shop')\n",
    "    Store_msk = frame['Venue Category'].str.contains('Store')\n",
    "    Gym_msk = frame['Venue Category'].str.contains('Gym')\n",
    "    food_place_msk = frame['Venue Category'].str.contains('Place')\n",
    "    museum_msk = frame['Venue Category'].str.contains('Museum')\n",
    "    frame.loc[Restaurant_msk, 'Venue Category'] = 'Restaurant'\n",
    "    frame.loc[Bar_msk, 'Venue Category'] = 'Bar'\n",
    "    frame.loc[Shop_msk, 'Venue Category'] = 'Shop'\n",
    "    frame.loc[Store_msk, 'Venue Category'] = 'Store'\n",
    "    frame.loc[Gym_msk, 'Venue Category'] = 'Gym'\n",
    "    frame.loc[food_place_msk, 'Venue Category'] = 'Place'\n",
    "    frame.loc[museum_msk, 'Venue Category'] = 'Museum'\n",
    "    return frame"
   ]
  },
  {
   "cell_type": "code",
   "execution_count": null,
   "metadata": {},
   "outputs": [],
   "source": [
    "london_venues = feature_engineering(london_venues)"
   ]
  },
  {
   "cell_type": "code",
   "execution_count": null,
   "metadata": {},
   "outputs": [],
   "source": [
    "len(london_venues['Venue Category'].unique())"
   ]
  },
  {
   "cell_type": "markdown",
   "metadata": {},
   "source": [
    "As we can see from this, the feature engineering has halved the number of features in the dataset, without losing valuable information. Hopefully this will improve clustering. The approach will now be repeated with this dataset."
   ]
  },
  {
   "cell_type": "markdown",
   "metadata": {},
   "source": [
    "### Repeating clustering with feature engineered dataset"
   ]
  },
  {
   "cell_type": "code",
   "execution_count": null,
   "metadata": {},
   "outputs": [],
   "source": [
    "london_grouped = pre_processing(london_venues)\n",
    "london_grouped.shape"
   ]
  },
  {
   "cell_type": "code",
   "execution_count": null,
   "metadata": {},
   "outputs": [],
   "source": [
    "neighborhoods_venues_sorted = get_top_venues(london_grouped)\n",
    "neighborhoods_venues_sorted.shape"
   ]
  },
  {
   "cell_type": "code",
   "execution_count": null,
   "metadata": {},
   "outputs": [],
   "source": [
    "elbow_method(london_grouped)"
   ]
  },
  {
   "cell_type": "code",
   "execution_count": null,
   "metadata": {},
   "outputs": [],
   "source": [
    "kmeans_plot(london_grouped, 7)"
   ]
  },
  {
   "cell_type": "code",
   "execution_count": null,
   "metadata": {},
   "outputs": [],
   "source": [
    "kmeans_plot(london_grouped, 10)"
   ]
  },
  {
   "cell_type": "code",
   "execution_count": null,
   "metadata": {},
   "outputs": [],
   "source": [
    "k = 10\n",
    "grouped_clustering = london_grouped.drop('layer', 1)\n",
    "kmeans = KMeans(n_clusters=k, random_state=0).fit(grouped_clustering)\n",
    "labels = kmeans.labels_\n",
    "neighborhoods_venues_sorted.insert(0, 'Cluster Labels', labels)\n",
    "len(kmeans.labels_)"
   ]
  },
  {
   "cell_type": "code",
   "execution_count": null,
   "metadata": {},
   "outputs": [],
   "source": [
    "postcode_map = districts.merge(neighborhoods_venues_sorted, left_on='Postcode district', right_on='layer')"
   ]
  },
  {
   "cell_type": "code",
   "execution_count": null,
   "metadata": {
    "scrolled": false
   },
   "outputs": [],
   "source": [
    "cluster_map(postcode_map,k)"
   ]
  },
  {
   "cell_type": "code",
   "execution_count": null,
   "metadata": {},
   "outputs": [],
   "source": [
    "postcode_cluster_prices = postcode_map.merge(postcode_prices, how='left', on='Postcode district')\n",
    "postcode_cluster_prices.shape"
   ]
  },
  {
   "cell_type": "code",
   "execution_count": null,
   "metadata": {},
   "outputs": [],
   "source": [
    "view_df(postcode_cluster_prices,0)"
   ]
  },
  {
   "cell_type": "code",
   "execution_count": null,
   "metadata": {},
   "outputs": [],
   "source": [
    "view_df(postcode_cluster_prices,1)"
   ]
  },
  {
   "cell_type": "code",
   "execution_count": null,
   "metadata": {},
   "outputs": [],
   "source": [
    "view_df(postcode_cluster_prices,2)"
   ]
  },
  {
   "cell_type": "code",
   "execution_count": null,
   "metadata": {},
   "outputs": [],
   "source": [
    "view_df(postcode_cluster_prices,3)"
   ]
  },
  {
   "cell_type": "code",
   "execution_count": null,
   "metadata": {},
   "outputs": [],
   "source": [
    "view_df(postcode_cluster_prices,4)"
   ]
  },
  {
   "cell_type": "code",
   "execution_count": null,
   "metadata": {},
   "outputs": [],
   "source": [
    "view_df(postcode_cluster_prices,5)"
   ]
  },
  {
   "cell_type": "code",
   "execution_count": null,
   "metadata": {},
   "outputs": [],
   "source": [
    "view_df(postcode_cluster_prices,6)"
   ]
  },
  {
   "cell_type": "code",
   "execution_count": null,
   "metadata": {},
   "outputs": [],
   "source": [
    "view_df(postcode_cluster_prices,7)"
   ]
  },
  {
   "cell_type": "code",
   "execution_count": null,
   "metadata": {},
   "outputs": [],
   "source": [
    "view_df(postcode_cluster_prices,8)"
   ]
  },
  {
   "cell_type": "markdown",
   "metadata": {},
   "source": [
    "The feature engineering has greatly improved the clustering, we can identify clear characteristics of each cluster group distinc and unique from the others. The addition of the price data also allows us to identify the relative price of similar neighbourhoods side by side. "
   ]
  },
  {
   "cell_type": "markdown",
   "metadata": {},
   "source": [
    "### Kmeans at constituency level"
   ]
  },
  {
   "cell_type": "code",
   "execution_count": null,
   "metadata": {},
   "outputs": [],
   "source": [
    "# add information on london zone"
   ]
  },
  {
   "cell_type": "code",
   "execution_count": 64,
   "metadata": {},
   "outputs": [],
   "source": [
    "def pre_processing(frame):\n",
    "    london_one_hot = pd.get_dummies(frame[['Venue Category']], prefix=\"\", prefix_sep=\"\")\n",
    "    london_one_hot['layer'] = frame['Neighborhood']\n",
    "    london_grouped_category = london_one_hot.groupby('layer').mean().reset_index()\n",
    "    return london_grouped_category"
   ]
  },
  {
   "cell_type": "code",
   "execution_count": 65,
   "metadata": {},
   "outputs": [
    {
     "data": {
      "image/png": "[encoded data removed]",
      "text/plain": [
       "<Figure size 432x288 with 1 Axes>"
      ]
     },
     "metadata": {
      "needs_background": "light"
     },
     "output_type": "display_data"
    }
   ],
   "source": [
    "# constits = consitutency_venues_raw.copy()\n",
    "constits = pd.read_csv('constituency_venues.csv')\n",
    "constits = feature_engineering(constits)\n",
    "constits_one_hot = pre_processing(constits)\n",
    "elbow_method(constits_one_hot)"
   ]
  },
  {
   "cell_type": "code",
   "execution_count": 66,
   "metadata": {},
   "outputs": [
    {
     "data": {
      "text/plain": [
       "(array([10., 59.,  1.,  1.,  1.]),\n",
       " array([0. , 0.8, 1.6, 2.4, 3.2, 4. ]),\n",
       " <a list of 5 Patch objects>)"
      ]
     },
     "execution_count": 66,
     "metadata": {},
     "output_type": "execute_result"
    },
    {
     "data": {
      "image/png": "[encoded data removed]",
      "text/plain": [
       "<Figure size 432x288 with 1 Axes>"
      ]
     },
     "metadata": {
      "needs_background": "light"
     },
     "output_type": "display_data"
    }
   ],
   "source": [
    "kmeans_plot(constits_one_hot,5)"
   ]
  },
  {
   "cell_type": "code",
   "execution_count": 67,
   "metadata": {},
   "outputs": [
    {
     "data": {
      "text/plain": [
       "(array([ 8.,  1.,  3.,  1.,  6.,  2.,  3.,  1., 33.,  1.,  1.,  1.,  7.,\n",
       "         1.,  3.]),\n",
       " array([ 0.        ,  0.93333333,  1.86666667,  2.8       ,  3.73333333,\n",
       "         4.66666667,  5.6       ,  6.53333333,  7.46666667,  8.4       ,\n",
       "         9.33333333, 10.26666667, 11.2       , 12.13333333, 13.06666667,\n",
       "        14.        ]),\n",
       " <a list of 15 Patch objects>)"
      ]
     },
     "execution_count": 67,
     "metadata": {},
     "output_type": "execute_result"
    },
    {
     "data": {
      "image/png": "[encoded data removed]",
      "text/plain": [
       "<Figure size 432x288 with 1 Axes>"
      ]
     },
     "metadata": {
      "needs_background": "light"
     },
     "output_type": "display_data"
    }
   ],
   "source": [
    "kmeans_plot(constits_one_hot,15)"
   ]
  },
  {
   "cell_type": "code",
   "execution_count": 68,
   "metadata": {},
   "outputs": [],
   "source": [
    "constit_venues_sorted = get_top_venues(constits_one_hot)"
   ]
  },
  {
   "cell_type": "code",
   "execution_count": 69,
   "metadata": {},
   "outputs": [],
   "source": [
    "k = 15\n",
    "constits_one_hot = constits_one_hot.drop('layer', 1)\n",
    "kmeans = KMeans(n_clusters=k, random_state=0).fit(constits_one_hot)\n",
    "labels = kmeans.labels_\n",
    "constit_venues_sorted.insert(0, 'Cluster Labels', labels)"
   ]
  },
  {
   "cell_type": "code",
   "execution_count": 70,
   "metadata": {},
   "outputs": [],
   "source": [
    "boroughs_map_df = consituencies.merge(constit_venues_sorted, left_on='Constituency', right_on='layer')"
   ]
  },
  {
   "cell_type": "code",
   "execution_count": 71,
   "metadata": {},
   "outputs": [
    {
     "data": {
      "text/html": [
       "<div style=\"width:100%;\"><div style=\"position:relative;width:100%;height:0;padding-bottom:60%;\"><span style=\"color:#565656\">Make this Notebook Trusted to load map: File -> Trust Notebook</span><iframe src=\"about:blank\" style=\"position:absolute;width:100%;height:100%;left:0;top:0;border:none !important;\" data-html=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 onload=\"this.contentDocument.open();this.contentDocument.write(atob(this.getAttribute('data-html')));this.contentDocument.close();\" allowfullscreen webkitallowfullscreen mozallowfullscreen></iframe></div></div>"
      ],
      "text/plain": [
       "<folium.folium.Map at 0x282ee1983c8>"
      ]
     },
     "execution_count": 71,
     "metadata": {},
     "output_type": "execute_result"
    }
   ],
   "source": [
    "cluster_map(boroughs_map_df,k)"
   ]
  },
  {
   "cell_type": "code",
   "execution_count": 72,
   "metadata": {},
   "outputs": [
    {
     "data": {
      "text/plain": [
       "(72, 17)"
      ]
     },
     "execution_count": 72,
     "metadata": {},
     "output_type": "execute_result"
    }
   ],
   "source": [
    "borough_cluster_prices = boroughs_map_df.merge(constituency_prices, how='left', on='Constituency')\n",
    "borough_cluster_prices.shape"
   ]
  },
  {
   "cell_type": "code",
   "execution_count": 73,
   "metadata": {},
   "outputs": [
    {
     "data": {
      "text/html": [
       "<div>\n",
       "<style scoped>\n",
       "    .dataframe tbody tr th:only-of-type {\n",
       "        vertical-align: middle;\n",
       "    }\n",
       "\n",
       "    .dataframe tbody tr th {\n",
       "        vertical-align: top;\n",
       "    }\n",
       "\n",
       "    .dataframe thead th {\n",
       "        text-align: right;\n",
       "    }\n",
       "</style>\n",
       "<table border=\"1\" class=\"dataframe\">\n",
       "  <thead>\n",
       "    <tr style=\"text-align: right;\">\n",
       "      <th></th>\n",
       "      <th>Constituency</th>\n",
       "      <th>layer</th>\n",
       "      <th>1st Most Common Venue</th>\n",
       "      <th>2nd Most Common Venue</th>\n",
       "      <th>3rd Most Common Venue</th>\n",
       "      <th>4th Most Common Venue</th>\n",
       "      <th>5th Most Common Venue</th>\n",
       "      <th>6th Most Common Venue</th>\n",
       "      <th>7th Most Common Venue</th>\n",
       "      <th>8th Most Common Venue</th>\n",
       "      <th>9th Most Common Venue</th>\n",
       "      <th>10th Most Common Venue</th>\n",
       "      <th>avg_price</th>\n",
       "      <th>price_band</th>\n",
       "    </tr>\n",
       "  </thead>\n",
       "  <tbody>\n",
       "    <tr>\n",
       "      <th>1</th>\n",
       "      <td>Battersea</td>\n",
       "      <td>Battersea</td>\n",
       "      <td>Restaurant</td>\n",
       "      <td>Café</td>\n",
       "      <td>Pub</td>\n",
       "      <td>Shop</td>\n",
       "      <td>Theater</td>\n",
       "      <td>Store</td>\n",
       "      <td>Yoga Studio</td>\n",
       "      <td>Train Station</td>\n",
       "      <td>Diner</td>\n",
       "      <td>Distillery</td>\n",
       "      <td>825188</td>\n",
       "      <td>expensive</td>\n",
       "    </tr>\n",
       "    <tr>\n",
       "      <th>3</th>\n",
       "      <td>Bermondsey and Old Southwark</td>\n",
       "      <td>Bermondsey and Old Southwark</td>\n",
       "      <td>Restaurant</td>\n",
       "      <td>Shop</td>\n",
       "      <td>Bar</td>\n",
       "      <td>Pub</td>\n",
       "      <td>Food Truck</td>\n",
       "      <td>Park</td>\n",
       "      <td>Bus Stop</td>\n",
       "      <td>Breakfast Spot</td>\n",
       "      <td>Indie Movie Theater</td>\n",
       "      <td>Distillery</td>\n",
       "      <td>1568092</td>\n",
       "      <td>expensive</td>\n",
       "    </tr>\n",
       "    <tr>\n",
       "      <th>8</th>\n",
       "      <td>Brentford and Isleworth</td>\n",
       "      <td>Brentford and Isleworth</td>\n",
       "      <td>Restaurant</td>\n",
       "      <td>Hotel</td>\n",
       "      <td>Shop</td>\n",
       "      <td>Park</td>\n",
       "      <td>Playground</td>\n",
       "      <td>Historic Site</td>\n",
       "      <td>Store</td>\n",
       "      <td>Gastropub</td>\n",
       "      <td>Exhibit</td>\n",
       "      <td>Fish Market</td>\n",
       "      <td>695030</td>\n",
       "      <td>premium</td>\n",
       "    </tr>\n",
       "    <tr>\n",
       "      <th>14</th>\n",
       "      <td>Chipping Barnet</td>\n",
       "      <td>Chipping Barnet</td>\n",
       "      <td>Restaurant</td>\n",
       "      <td>Supermarket</td>\n",
       "      <td>Hotel</td>\n",
       "      <td>Shop</td>\n",
       "      <td>Store</td>\n",
       "      <td>Café</td>\n",
       "      <td>Yoga Studio</td>\n",
       "      <td>Fish Market</td>\n",
       "      <td>Farmers Market</td>\n",
       "      <td>Event Space</td>\n",
       "      <td>587165</td>\n",
       "      <td>mid range</td>\n",
       "    </tr>\n",
       "    <tr>\n",
       "      <th>21</th>\n",
       "      <td>Ealing Central and Acton</td>\n",
       "      <td>Ealing Central and Acton</td>\n",
       "      <td>Restaurant</td>\n",
       "      <td>Shop</td>\n",
       "      <td>Store</td>\n",
       "      <td>Athletics &amp; Sports</td>\n",
       "      <td>Hotel</td>\n",
       "      <td>Place</td>\n",
       "      <td>Sports Club</td>\n",
       "      <td>Yoga Studio</td>\n",
       "      <td>Farmers Market</td>\n",
       "      <td>Food Court</td>\n",
       "      <td>870703</td>\n",
       "      <td>expensive</td>\n",
       "    </tr>\n",
       "    <tr>\n",
       "      <th>22</th>\n",
       "      <td>Ealing North</td>\n",
       "      <td>Ealing North</td>\n",
       "      <td>Restaurant</td>\n",
       "      <td>Athletics &amp; Sports</td>\n",
       "      <td>Bakery</td>\n",
       "      <td>Hotel</td>\n",
       "      <td>Shop</td>\n",
       "      <td>Exhibit</td>\n",
       "      <td>Food Truck</td>\n",
       "      <td>Food Court</td>\n",
       "      <td>Fish Market</td>\n",
       "      <td>Farmers Market</td>\n",
       "      <td>456645</td>\n",
       "      <td>cheap</td>\n",
       "    </tr>\n",
       "    <tr>\n",
       "      <th>35</th>\n",
       "      <td>Hammersmith</td>\n",
       "      <td>Hammersmith</td>\n",
       "      <td>Restaurant</td>\n",
       "      <td>Hotel</td>\n",
       "      <td>Store</td>\n",
       "      <td>Shop</td>\n",
       "      <td>Pub</td>\n",
       "      <td>Bar</td>\n",
       "      <td>Park</td>\n",
       "      <td>Farmers Market</td>\n",
       "      <td>Fish Market</td>\n",
       "      <td>Café</td>\n",
       "      <td>917441</td>\n",
       "      <td>expensive</td>\n",
       "    </tr>\n",
       "    <tr>\n",
       "      <th>36</th>\n",
       "      <td>Hampstead and Kilburn</td>\n",
       "      <td>Hampstead and Kilburn</td>\n",
       "      <td>Restaurant</td>\n",
       "      <td>Shop</td>\n",
       "      <td>Store</td>\n",
       "      <td>Bar</td>\n",
       "      <td>Bus Stop</td>\n",
       "      <td>Food Truck</td>\n",
       "      <td>Café</td>\n",
       "      <td>Farmers Market</td>\n",
       "      <td>Hotel</td>\n",
       "      <td>Metro Station</td>\n",
       "      <td>1150502</td>\n",
       "      <td>expensive</td>\n",
       "    </tr>\n",
       "  </tbody>\n",
       "</table>\n",
       "</div>"
      ],
      "text/plain": [
       "                    Constituency                         layer  \\\n",
       "1                      Battersea                     Battersea   \n",
       "3   Bermondsey and Old Southwark  Bermondsey and Old Southwark   \n",
       "8        Brentford and Isleworth       Brentford and Isleworth   \n",
       "14               Chipping Barnet               Chipping Barnet   \n",
       "21      Ealing Central and Acton      Ealing Central and Acton   \n",
       "22                  Ealing North                  Ealing North   \n",
       "35                   Hammersmith                   Hammersmith   \n",
       "36         Hampstead and Kilburn         Hampstead and Kilburn   \n",
       "\n",
       "   1st Most Common Venue 2nd Most Common Venue 3rd Most Common Venue  \\\n",
       "1             Restaurant                  Café                   Pub   \n",
       "3             Restaurant                  Shop                   Bar   \n",
       "8             Restaurant                 Hotel                  Shop   \n",
       "14            Restaurant           Supermarket                 Hotel   \n",
       "21            Restaurant                  Shop                 Store   \n",
       "22            Restaurant    Athletics & Sports                Bakery   \n",
       "35            Restaurant                 Hotel                 Store   \n",
       "36            Restaurant                  Shop                 Store   \n",
       "\n",
       "   4th Most Common Venue 5th Most Common Venue 6th Most Common Venue  \\\n",
       "1                   Shop               Theater                 Store   \n",
       "3                    Pub            Food Truck                  Park   \n",
       "8                   Park            Playground         Historic Site   \n",
       "14                  Shop                 Store                  Café   \n",
       "21    Athletics & Sports                 Hotel                 Place   \n",
       "22                 Hotel                  Shop               Exhibit   \n",
       "35                  Shop                   Pub                   Bar   \n",
       "36                   Bar              Bus Stop            Food Truck   \n",
       "\n",
       "   7th Most Common Venue 8th Most Common Venue 9th Most Common Venue  \\\n",
       "1            Yoga Studio         Train Station                 Diner   \n",
       "3               Bus Stop        Breakfast Spot   Indie Movie Theater   \n",
       "8                  Store             Gastropub               Exhibit   \n",
       "14           Yoga Studio           Fish Market        Farmers Market   \n",
       "21           Sports Club           Yoga Studio        Farmers Market   \n",
       "22            Food Truck            Food Court           Fish Market   \n",
       "35                  Park        Farmers Market           Fish Market   \n",
       "36                  Café        Farmers Market                 Hotel   \n",
       "\n",
       "   10th Most Common Venue  avg_price price_band  \n",
       "1              Distillery     825188  expensive  \n",
       "3              Distillery    1568092  expensive  \n",
       "8             Fish Market     695030    premium  \n",
       "14            Event Space     587165  mid range  \n",
       "21             Food Court     870703  expensive  \n",
       "22         Farmers Market     456645      cheap  \n",
       "35                   Café     917441  expensive  \n",
       "36          Metro Station    1150502  expensive  "
      ]
     },
     "execution_count": 73,
     "metadata": {},
     "output_type": "execute_result"
    }
   ],
   "source": [
    "view_df(borough_cluster_prices,0)"
   ]
  },
  {
   "cell_type": "code",
   "execution_count": 84,
   "metadata": {},
   "outputs": [
    {
     "data": {
      "text/html": [
       "<div>\n",
       "<style scoped>\n",
       "    .dataframe tbody tr th:only-of-type {\n",
       "        vertical-align: middle;\n",
       "    }\n",
       "\n",
       "    .dataframe tbody tr th {\n",
       "        vertical-align: top;\n",
       "    }\n",
       "\n",
       "    .dataframe thead th {\n",
       "        text-align: right;\n",
       "    }\n",
       "</style>\n",
       "<table border=\"1\" class=\"dataframe\">\n",
       "  <thead>\n",
       "    <tr style=\"text-align: right;\">\n",
       "      <th></th>\n",
       "      <th>Constituency</th>\n",
       "      <th>layer</th>\n",
       "      <th>1st Most Common Venue</th>\n",
       "      <th>2nd Most Common Venue</th>\n",
       "      <th>3rd Most Common Venue</th>\n",
       "      <th>4th Most Common Venue</th>\n",
       "      <th>5th Most Common Venue</th>\n",
       "      <th>6th Most Common Venue</th>\n",
       "      <th>7th Most Common Venue</th>\n",
       "      <th>8th Most Common Venue</th>\n",
       "      <th>9th Most Common Venue</th>\n",
       "      <th>10th Most Common Venue</th>\n",
       "      <th>avg_price</th>\n",
       "      <th>price_band</th>\n",
       "    </tr>\n",
       "  </thead>\n",
       "  <tbody>\n",
       "    <tr>\n",
       "      <th>7</th>\n",
       "      <td>Brent North</td>\n",
       "      <td>Brent North</td>\n",
       "      <td>Rental Car Location</td>\n",
       "      <td>Yoga Studio</td>\n",
       "      <td>Garden</td>\n",
       "      <td>Deli / Bodega</td>\n",
       "      <td>Diner</td>\n",
       "      <td>Distillery</td>\n",
       "      <td>Event Space</td>\n",
       "      <td>Exhibit</td>\n",
       "      <td>Farmers Market</td>\n",
       "      <td>Fish Market</td>\n",
       "      <td>530778</td>\n",
       "      <td>mid range</td>\n",
       "    </tr>\n",
       "  </tbody>\n",
       "</table>\n",
       "</div>"
      ],
      "text/plain": [
       "  Constituency        layer 1st Most Common Venue 2nd Most Common Venue  \\\n",
       "7  Brent North  Brent North   Rental Car Location           Yoga Studio   \n",
       "\n",
       "  3rd Most Common Venue 4th Most Common Venue 5th Most Common Venue  \\\n",
       "7                Garden         Deli / Bodega                 Diner   \n",
       "\n",
       "  6th Most Common Venue 7th Most Common Venue 8th Most Common Venue  \\\n",
       "7            Distillery           Event Space               Exhibit   \n",
       "\n",
       "  9th Most Common Venue 10th Most Common Venue  avg_price price_band  \n",
       "7        Farmers Market            Fish Market     530778  mid range  "
      ]
     },
     "execution_count": 84,
     "metadata": {},
     "output_type": "execute_result"
    }
   ],
   "source": [
    "view_df(borough_cluster_prices,3)"
   ]
  },
  {
   "cell_type": "code",
   "execution_count": 75,
   "metadata": {},
   "outputs": [
    {
     "data": {
      "text/html": [
       "<div>\n",
       "<style scoped>\n",
       "    .dataframe tbody tr th:only-of-type {\n",
       "        vertical-align: middle;\n",
       "    }\n",
       "\n",
       "    .dataframe tbody tr th {\n",
       "        vertical-align: top;\n",
       "    }\n",
       "\n",
       "    .dataframe thead th {\n",
       "        text-align: right;\n",
       "    }\n",
       "</style>\n",
       "<table border=\"1\" class=\"dataframe\">\n",
       "  <thead>\n",
       "    <tr style=\"text-align: right;\">\n",
       "      <th></th>\n",
       "      <th>Constituency</th>\n",
       "      <th>layer</th>\n",
       "      <th>1st Most Common Venue</th>\n",
       "      <th>2nd Most Common Venue</th>\n",
       "      <th>3rd Most Common Venue</th>\n",
       "      <th>4th Most Common Venue</th>\n",
       "      <th>5th Most Common Venue</th>\n",
       "      <th>6th Most Common Venue</th>\n",
       "      <th>7th Most Common Venue</th>\n",
       "      <th>8th Most Common Venue</th>\n",
       "      <th>9th Most Common Venue</th>\n",
       "      <th>10th Most Common Venue</th>\n",
       "      <th>avg_price</th>\n",
       "      <th>price_band</th>\n",
       "    </tr>\n",
       "  </thead>\n",
       "  <tbody>\n",
       "    <tr>\n",
       "      <th>29</th>\n",
       "      <td>Erith and Thamesmead</td>\n",
       "      <td>Erith and Thamesmead</td>\n",
       "      <td>Train Station</td>\n",
       "      <td>Shop</td>\n",
       "      <td>Store</td>\n",
       "      <td>Historic Site</td>\n",
       "      <td>Yoga Studio</td>\n",
       "      <td>Farmers Market</td>\n",
       "      <td>Food Truck</td>\n",
       "      <td>Food Court</td>\n",
       "      <td>Fish Market</td>\n",
       "      <td>Event Space</td>\n",
       "      <td>364029</td>\n",
       "      <td>cheap</td>\n",
       "    </tr>\n",
       "    <tr>\n",
       "      <th>30</th>\n",
       "      <td>Feltham and Heston</td>\n",
       "      <td>Feltham and Heston</td>\n",
       "      <td>Fried Chicken Joint</td>\n",
       "      <td>Golf Course</td>\n",
       "      <td>Shop</td>\n",
       "      <td>Store</td>\n",
       "      <td>Yoga Studio</td>\n",
       "      <td>Dance Studio</td>\n",
       "      <td>Deli / Bodega</td>\n",
       "      <td>Diner</td>\n",
       "      <td>Distillery</td>\n",
       "      <td>Event Space</td>\n",
       "      <td>516038</td>\n",
       "      <td>mid range</td>\n",
       "    </tr>\n",
       "    <tr>\n",
       "      <th>31</th>\n",
       "      <td>Finchley and Golders Green</td>\n",
       "      <td>Finchley and Golders Green</td>\n",
       "      <td>Shop</td>\n",
       "      <td>Bakery</td>\n",
       "      <td>Deli / Bodega</td>\n",
       "      <td>Supermarket</td>\n",
       "      <td>Bus Stop</td>\n",
       "      <td>Store</td>\n",
       "      <td>Café</td>\n",
       "      <td>Forest</td>\n",
       "      <td>Fried Chicken Joint</td>\n",
       "      <td>Food Court</td>\n",
       "      <td>959601</td>\n",
       "      <td>expensive</td>\n",
       "    </tr>\n",
       "    <tr>\n",
       "      <th>43</th>\n",
       "      <td>Hornsey and Wood Green</td>\n",
       "      <td>Hornsey and Wood Green</td>\n",
       "      <td>Farmers Market</td>\n",
       "      <td>Golf Course</td>\n",
       "      <td>Skating Rink</td>\n",
       "      <td>Shop</td>\n",
       "      <td>Store</td>\n",
       "      <td>Park</td>\n",
       "      <td>Café</td>\n",
       "      <td>Soccer Field</td>\n",
       "      <td>Food Truck</td>\n",
       "      <td>Exhibit</td>\n",
       "      <td>761898</td>\n",
       "      <td>premium</td>\n",
       "    </tr>\n",
       "    <tr>\n",
       "      <th>54</th>\n",
       "      <td>Old Bexley and Sidcup</td>\n",
       "      <td>Old Bexley and Sidcup</td>\n",
       "      <td>Home Service</td>\n",
       "      <td>Music Venue</td>\n",
       "      <td>Scenic Lookout</td>\n",
       "      <td>Golf Course</td>\n",
       "      <td>Yoga Studio</td>\n",
       "      <td>Fried Chicken Joint</td>\n",
       "      <td>Deli / Bodega</td>\n",
       "      <td>Diner</td>\n",
       "      <td>Distillery</td>\n",
       "      <td>Event Space</td>\n",
       "      <td>1038163</td>\n",
       "      <td>expensive</td>\n",
       "    </tr>\n",
       "    <tr>\n",
       "      <th>57</th>\n",
       "      <td>Putney</td>\n",
       "      <td>Putney</td>\n",
       "      <td>Scenic Lookout</td>\n",
       "      <td>Shop</td>\n",
       "      <td>Bus Stop</td>\n",
       "      <td>Pub</td>\n",
       "      <td>Yoga Studio</td>\n",
       "      <td>Forest</td>\n",
       "      <td>Dance Studio</td>\n",
       "      <td>Deli / Bodega</td>\n",
       "      <td>Diner</td>\n",
       "      <td>Distillery</td>\n",
       "      <td>957145</td>\n",
       "      <td>expensive</td>\n",
       "    </tr>\n",
       "  </tbody>\n",
       "</table>\n",
       "</div>"
      ],
      "text/plain": [
       "                  Constituency                       layer  \\\n",
       "29        Erith and Thamesmead        Erith and Thamesmead   \n",
       "30          Feltham and Heston          Feltham and Heston   \n",
       "31  Finchley and Golders Green  Finchley and Golders Green   \n",
       "43      Hornsey and Wood Green      Hornsey and Wood Green   \n",
       "54       Old Bexley and Sidcup       Old Bexley and Sidcup   \n",
       "57                      Putney                      Putney   \n",
       "\n",
       "   1st Most Common Venue 2nd Most Common Venue 3rd Most Common Venue  \\\n",
       "29         Train Station                  Shop                 Store   \n",
       "30   Fried Chicken Joint           Golf Course                  Shop   \n",
       "31                  Shop                Bakery         Deli / Bodega   \n",
       "43        Farmers Market           Golf Course          Skating Rink   \n",
       "54          Home Service           Music Venue        Scenic Lookout   \n",
       "57        Scenic Lookout                  Shop              Bus Stop   \n",
       "\n",
       "   4th Most Common Venue 5th Most Common Venue 6th Most Common Venue  \\\n",
       "29         Historic Site           Yoga Studio        Farmers Market   \n",
       "30                 Store           Yoga Studio          Dance Studio   \n",
       "31           Supermarket              Bus Stop                 Store   \n",
       "43                  Shop                 Store                  Park   \n",
       "54           Golf Course           Yoga Studio   Fried Chicken Joint   \n",
       "57                   Pub           Yoga Studio                Forest   \n",
       "\n",
       "   7th Most Common Venue 8th Most Common Venue 9th Most Common Venue  \\\n",
       "29            Food Truck            Food Court           Fish Market   \n",
       "30         Deli / Bodega                 Diner            Distillery   \n",
       "31                  Café                Forest   Fried Chicken Joint   \n",
       "43                  Café          Soccer Field            Food Truck   \n",
       "54         Deli / Bodega                 Diner            Distillery   \n",
       "57          Dance Studio         Deli / Bodega                 Diner   \n",
       "\n",
       "   10th Most Common Venue  avg_price price_band  \n",
       "29            Event Space     364029      cheap  \n",
       "30            Event Space     516038  mid range  \n",
       "31             Food Court     959601  expensive  \n",
       "43                Exhibit     761898    premium  \n",
       "54            Event Space    1038163  expensive  \n",
       "57             Distillery     957145  expensive  "
      ]
     },
     "execution_count": 75,
     "metadata": {},
     "output_type": "execute_result"
    }
   ],
   "source": [
    "view_df(borough_cluster_prices,4)"
   ]
  },
  {
   "cell_type": "code",
   "execution_count": 76,
   "metadata": {},
   "outputs": [
    {
     "data": {
      "text/html": [
       "<div>\n",
       "<style scoped>\n",
       "    .dataframe tbody tr th:only-of-type {\n",
       "        vertical-align: middle;\n",
       "    }\n",
       "\n",
       "    .dataframe tbody tr th {\n",
       "        vertical-align: top;\n",
       "    }\n",
       "\n",
       "    .dataframe thead th {\n",
       "        text-align: right;\n",
       "    }\n",
       "</style>\n",
       "<table border=\"1\" class=\"dataframe\">\n",
       "  <thead>\n",
       "    <tr style=\"text-align: right;\">\n",
       "      <th></th>\n",
       "      <th>Constituency</th>\n",
       "      <th>layer</th>\n",
       "      <th>1st Most Common Venue</th>\n",
       "      <th>2nd Most Common Venue</th>\n",
       "      <th>3rd Most Common Venue</th>\n",
       "      <th>4th Most Common Venue</th>\n",
       "      <th>5th Most Common Venue</th>\n",
       "      <th>6th Most Common Venue</th>\n",
       "      <th>7th Most Common Venue</th>\n",
       "      <th>8th Most Common Venue</th>\n",
       "      <th>9th Most Common Venue</th>\n",
       "      <th>10th Most Common Venue</th>\n",
       "      <th>avg_price</th>\n",
       "      <th>price_band</th>\n",
       "    </tr>\n",
       "  </thead>\n",
       "  <tbody>\n",
       "    <tr>\n",
       "      <th>16</th>\n",
       "      <td>Croydon Central</td>\n",
       "      <td>Croydon Central</td>\n",
       "      <td>Tram Station</td>\n",
       "      <td>Pharmacy</td>\n",
       "      <td>Bus Stop</td>\n",
       "      <td>Yoga Studio</td>\n",
       "      <td>Fried Chicken Joint</td>\n",
       "      <td>Deli / Bodega</td>\n",
       "      <td>Diner</td>\n",
       "      <td>Distillery</td>\n",
       "      <td>Event Space</td>\n",
       "      <td>Exhibit</td>\n",
       "      <td>386568</td>\n",
       "      <td>cheap</td>\n",
       "    </tr>\n",
       "    <tr>\n",
       "      <th>42</th>\n",
       "      <td>Hornchurch and Upminster</td>\n",
       "      <td>Hornchurch and Upminster</td>\n",
       "      <td>School</td>\n",
       "      <td>Bus Stop</td>\n",
       "      <td>Store</td>\n",
       "      <td>Yoga Studio</td>\n",
       "      <td>Fried Chicken Joint</td>\n",
       "      <td>Deli / Bodega</td>\n",
       "      <td>Diner</td>\n",
       "      <td>Distillery</td>\n",
       "      <td>Event Space</td>\n",
       "      <td>Exhibit</td>\n",
       "      <td>545138</td>\n",
       "      <td>mid range</td>\n",
       "    </tr>\n",
       "    <tr>\n",
       "      <th>63</th>\n",
       "      <td>Tooting</td>\n",
       "      <td>Tooting</td>\n",
       "      <td>Bus Stop</td>\n",
       "      <td>Restaurant</td>\n",
       "      <td>Golf Course</td>\n",
       "      <td>Sports Club</td>\n",
       "      <td>Yoga Studio</td>\n",
       "      <td>Fried Chicken Joint</td>\n",
       "      <td>Deli / Bodega</td>\n",
       "      <td>Diner</td>\n",
       "      <td>Distillery</td>\n",
       "      <td>Event Space</td>\n",
       "      <td>810016</td>\n",
       "      <td>premium</td>\n",
       "    </tr>\n",
       "  </tbody>\n",
       "</table>\n",
       "</div>"
      ],
      "text/plain": [
       "                Constituency                     layer 1st Most Common Venue  \\\n",
       "16           Croydon Central           Croydon Central          Tram Station   \n",
       "42  Hornchurch and Upminster  Hornchurch and Upminster                School   \n",
       "63                   Tooting                   Tooting              Bus Stop   \n",
       "\n",
       "   2nd Most Common Venue 3rd Most Common Venue 4th Most Common Venue  \\\n",
       "16              Pharmacy              Bus Stop           Yoga Studio   \n",
       "42              Bus Stop                 Store           Yoga Studio   \n",
       "63            Restaurant           Golf Course           Sports Club   \n",
       "\n",
       "   5th Most Common Venue 6th Most Common Venue 7th Most Common Venue  \\\n",
       "16   Fried Chicken Joint         Deli / Bodega                 Diner   \n",
       "42   Fried Chicken Joint         Deli / Bodega                 Diner   \n",
       "63           Yoga Studio   Fried Chicken Joint         Deli / Bodega   \n",
       "\n",
       "   8th Most Common Venue 9th Most Common Venue 10th Most Common Venue  \\\n",
       "16            Distillery           Event Space                Exhibit   \n",
       "42            Distillery           Event Space                Exhibit   \n",
       "63                 Diner            Distillery            Event Space   \n",
       "\n",
       "    avg_price price_band  \n",
       "16     386568      cheap  \n",
       "42     545138  mid range  \n",
       "63     810016    premium  "
      ]
     },
     "execution_count": 76,
     "metadata": {},
     "output_type": "execute_result"
    }
   ],
   "source": [
    "view_df(borough_cluster_prices,6)"
   ]
  },
  {
   "cell_type": "code",
   "execution_count": 77,
   "metadata": {
    "scrolled": true
   },
   "outputs": [
    {
     "data": {
      "text/html": [
       "<div>\n",
       "<style scoped>\n",
       "    .dataframe tbody tr th:only-of-type {\n",
       "        vertical-align: middle;\n",
       "    }\n",
       "\n",
       "    .dataframe tbody tr th {\n",
       "        vertical-align: top;\n",
       "    }\n",
       "\n",
       "    .dataframe thead th {\n",
       "        text-align: right;\n",
       "    }\n",
       "</style>\n",
       "<table border=\"1\" class=\"dataframe\">\n",
       "  <thead>\n",
       "    <tr style=\"text-align: right;\">\n",
       "      <th></th>\n",
       "      <th>Constituency</th>\n",
       "      <th>layer</th>\n",
       "      <th>1st Most Common Venue</th>\n",
       "      <th>2nd Most Common Venue</th>\n",
       "      <th>3rd Most Common Venue</th>\n",
       "      <th>4th Most Common Venue</th>\n",
       "      <th>5th Most Common Venue</th>\n",
       "      <th>6th Most Common Venue</th>\n",
       "      <th>7th Most Common Venue</th>\n",
       "      <th>8th Most Common Venue</th>\n",
       "      <th>9th Most Common Venue</th>\n",
       "      <th>10th Most Common Venue</th>\n",
       "      <th>avg_price</th>\n",
       "      <th>price_band</th>\n",
       "    </tr>\n",
       "  </thead>\n",
       "  <tbody>\n",
       "    <tr>\n",
       "      <th>0</th>\n",
       "      <td>Barking</td>\n",
       "      <td>Barking</td>\n",
       "      <td>Restaurant</td>\n",
       "      <td>River</td>\n",
       "      <td>Store</td>\n",
       "      <td>Pub</td>\n",
       "      <td>Yoga Studio</td>\n",
       "      <td>Food Truck</td>\n",
       "      <td>Cricket Ground</td>\n",
       "      <td>Dance Studio</td>\n",
       "      <td>Deli / Bodega</td>\n",
       "      <td>Diner</td>\n",
       "      <td>309774</td>\n",
       "      <td>cheap</td>\n",
       "    </tr>\n",
       "    <tr>\n",
       "      <th>4</th>\n",
       "      <td>Bethnal Green and Bow</td>\n",
       "      <td>Bethnal Green and Bow</td>\n",
       "      <td>Restaurant</td>\n",
       "      <td>Bar</td>\n",
       "      <td>Shop</td>\n",
       "      <td>Café</td>\n",
       "      <td>Store</td>\n",
       "      <td>Gym</td>\n",
       "      <td>Pub</td>\n",
       "      <td>Place</td>\n",
       "      <td>Park</td>\n",
       "      <td>Supermarket</td>\n",
       "      <td>653344</td>\n",
       "      <td>premium</td>\n",
       "    </tr>\n",
       "    <tr>\n",
       "      <th>5</th>\n",
       "      <td>Bexleyheath and Crayford</td>\n",
       "      <td>Bexleyheath and Crayford</td>\n",
       "      <td>Restaurant</td>\n",
       "      <td>Pub</td>\n",
       "      <td>Place</td>\n",
       "      <td>Supermarket</td>\n",
       "      <td>Post Office</td>\n",
       "      <td>Train Station</td>\n",
       "      <td>Bus Station</td>\n",
       "      <td>Dance Studio</td>\n",
       "      <td>Cricket Ground</td>\n",
       "      <td>Deli / Bodega</td>\n",
       "      <td>492016</td>\n",
       "      <td>mid range</td>\n",
       "    </tr>\n",
       "    <tr>\n",
       "      <th>6</th>\n",
       "      <td>Brent Central</td>\n",
       "      <td>Brent Central</td>\n",
       "      <td>Bakery</td>\n",
       "      <td>Restaurant</td>\n",
       "      <td>Store</td>\n",
       "      <td>Park</td>\n",
       "      <td>Yoga Studio</td>\n",
       "      <td>Fried Chicken Joint</td>\n",
       "      <td>Deli / Bodega</td>\n",
       "      <td>Diner</td>\n",
       "      <td>Distillery</td>\n",
       "      <td>Event Space</td>\n",
       "      <td>742616</td>\n",
       "      <td>premium</td>\n",
       "    </tr>\n",
       "    <tr>\n",
       "      <th>10</th>\n",
       "      <td>Camberwell and Peckham</td>\n",
       "      <td>Camberwell and Peckham</td>\n",
       "      <td>Store</td>\n",
       "      <td>Restaurant</td>\n",
       "      <td>Bus Stop</td>\n",
       "      <td>Park</td>\n",
       "      <td>Supermarket</td>\n",
       "      <td>Art Gallery</td>\n",
       "      <td>Gym</td>\n",
       "      <td>Diner</td>\n",
       "      <td>Place</td>\n",
       "      <td>Pub</td>\n",
       "      <td>620234</td>\n",
       "      <td>premium</td>\n",
       "    </tr>\n",
       "    <tr>\n",
       "      <th>11</th>\n",
       "      <td>Carshalton and Wallington</td>\n",
       "      <td>Carshalton and Wallington</td>\n",
       "      <td>Store</td>\n",
       "      <td>Pub</td>\n",
       "      <td>Gym</td>\n",
       "      <td>Shop</td>\n",
       "      <td>Physical Therapist</td>\n",
       "      <td>Restaurant</td>\n",
       "      <td>Veterinarian</td>\n",
       "      <td>Diner</td>\n",
       "      <td>Deli / Bodega</td>\n",
       "      <td>Food Court</td>\n",
       "      <td>471743</td>\n",
       "      <td>cheap</td>\n",
       "    </tr>\n",
       "    <tr>\n",
       "      <th>12</th>\n",
       "      <td>Chelsea and Fulham</td>\n",
       "      <td>Chelsea and Fulham</td>\n",
       "      <td>Restaurant</td>\n",
       "      <td>Place</td>\n",
       "      <td>Shop</td>\n",
       "      <td>Pub</td>\n",
       "      <td>Store</td>\n",
       "      <td>Soccer Stadium</td>\n",
       "      <td>Bar</td>\n",
       "      <td>Gastropub</td>\n",
       "      <td>Nightclub</td>\n",
       "      <td>Café</td>\n",
       "      <td>1635522</td>\n",
       "      <td>expensive</td>\n",
       "    </tr>\n",
       "    <tr>\n",
       "      <th>15</th>\n",
       "      <td>Cities of London and Westminster</td>\n",
       "      <td>Cities of London and Westminster</td>\n",
       "      <td>Shop</td>\n",
       "      <td>Store</td>\n",
       "      <td>Restaurant</td>\n",
       "      <td>Theater</td>\n",
       "      <td>Bar</td>\n",
       "      <td>Hotel</td>\n",
       "      <td>Bakery</td>\n",
       "      <td>Museum</td>\n",
       "      <td>Gym</td>\n",
       "      <td>Plaza</td>\n",
       "      <td>3493501</td>\n",
       "      <td>expensive</td>\n",
       "    </tr>\n",
       "    <tr>\n",
       "      <th>17</th>\n",
       "      <td>Croydon North</td>\n",
       "      <td>Croydon North</td>\n",
       "      <td>Plaza</td>\n",
       "      <td>Restaurant</td>\n",
       "      <td>Place</td>\n",
       "      <td>Gym</td>\n",
       "      <td>Pharmacy</td>\n",
       "      <td>Shop</td>\n",
       "      <td>Yoga Studio</td>\n",
       "      <td>Food Truck</td>\n",
       "      <td>Deli / Bodega</td>\n",
       "      <td>Diner</td>\n",
       "      <td>383984</td>\n",
       "      <td>cheap</td>\n",
       "    </tr>\n",
       "    <tr>\n",
       "      <th>23</th>\n",
       "      <td>Ealing, Southall</td>\n",
       "      <td>Ealing, Southall</td>\n",
       "      <td>Store</td>\n",
       "      <td>Construction &amp; Landscaping</td>\n",
       "      <td>Train Station</td>\n",
       "      <td>Restaurant</td>\n",
       "      <td>Park</td>\n",
       "      <td>Forest</td>\n",
       "      <td>Dance Studio</td>\n",
       "      <td>Deli / Bodega</td>\n",
       "      <td>Diner</td>\n",
       "      <td>Distillery</td>\n",
       "      <td>663924</td>\n",
       "      <td>premium</td>\n",
       "    </tr>\n",
       "    <tr>\n",
       "      <th>24</th>\n",
       "      <td>East Ham</td>\n",
       "      <td>East Ham</td>\n",
       "      <td>Restaurant</td>\n",
       "      <td>Store</td>\n",
       "      <td>Park</td>\n",
       "      <td>Pub</td>\n",
       "      <td>Yoga Studio</td>\n",
       "      <td>Forest</td>\n",
       "      <td>Dance Studio</td>\n",
       "      <td>Deli / Bodega</td>\n",
       "      <td>Diner</td>\n",
       "      <td>Distillery</td>\n",
       "      <td>816680</td>\n",
       "      <td>expensive</td>\n",
       "    </tr>\n",
       "    <tr>\n",
       "      <th>25</th>\n",
       "      <td>Edmonton</td>\n",
       "      <td>Edmonton</td>\n",
       "      <td>Shop</td>\n",
       "      <td>Store</td>\n",
       "      <td>Restaurant</td>\n",
       "      <td>Gym</td>\n",
       "      <td>Train Station</td>\n",
       "      <td>Place</td>\n",
       "      <td>Bus Station</td>\n",
       "      <td>Breakfast Spot</td>\n",
       "      <td>Noodle House</td>\n",
       "      <td>Hotel</td>\n",
       "      <td>423343</td>\n",
       "      <td>cheap</td>\n",
       "    </tr>\n",
       "    <tr>\n",
       "      <th>26</th>\n",
       "      <td>Eltham</td>\n",
       "      <td>Eltham</td>\n",
       "      <td>Restaurant</td>\n",
       "      <td>Bus Stop</td>\n",
       "      <td>Store</td>\n",
       "      <td>Platform</td>\n",
       "      <td>Place</td>\n",
       "      <td>Garden</td>\n",
       "      <td>Rugby Pitch</td>\n",
       "      <td>Yoga Studio</td>\n",
       "      <td>Farmers Market</td>\n",
       "      <td>Fish Market</td>\n",
       "      <td>460496</td>\n",
       "      <td>cheap</td>\n",
       "    </tr>\n",
       "    <tr>\n",
       "      <th>32</th>\n",
       "      <td>Greenwich and Woolwich</td>\n",
       "      <td>Greenwich and Woolwich</td>\n",
       "      <td>Store</td>\n",
       "      <td>Restaurant</td>\n",
       "      <td>Bus Stop</td>\n",
       "      <td>Food Truck</td>\n",
       "      <td>Platform</td>\n",
       "      <td>Café</td>\n",
       "      <td>Supermarket</td>\n",
       "      <td>Soccer Stadium</td>\n",
       "      <td>Train Station</td>\n",
       "      <td>Shop</td>\n",
       "      <td>522073</td>\n",
       "      <td>mid range</td>\n",
       "    </tr>\n",
       "    <tr>\n",
       "      <th>33</th>\n",
       "      <td>Hackney North and Stoke Newington</td>\n",
       "      <td>Hackney North and Stoke Newington</td>\n",
       "      <td>Restaurant</td>\n",
       "      <td>Café</td>\n",
       "      <td>Pub</td>\n",
       "      <td>Bar</td>\n",
       "      <td>Store</td>\n",
       "      <td>Place</td>\n",
       "      <td>Park</td>\n",
       "      <td>Bus Station</td>\n",
       "      <td>Organic Grocery</td>\n",
       "      <td>Breakfast Spot</td>\n",
       "      <td>635196</td>\n",
       "      <td>premium</td>\n",
       "    </tr>\n",
       "    <tr>\n",
       "      <th>34</th>\n",
       "      <td>Hackney South and Shoreditch</td>\n",
       "      <td>Hackney South and Shoreditch</td>\n",
       "      <td>Restaurant</td>\n",
       "      <td>Café</td>\n",
       "      <td>Shop</td>\n",
       "      <td>Pub</td>\n",
       "      <td>Bookstore</td>\n",
       "      <td>Place</td>\n",
       "      <td>Bar</td>\n",
       "      <td>Butcher</td>\n",
       "      <td>Deli / Bodega</td>\n",
       "      <td>Farmers Market</td>\n",
       "      <td>734220</td>\n",
       "      <td>premium</td>\n",
       "    </tr>\n",
       "    <tr>\n",
       "      <th>38</th>\n",
       "      <td>Harrow West</td>\n",
       "      <td>Harrow West</td>\n",
       "      <td>Store</td>\n",
       "      <td>Shop</td>\n",
       "      <td>Restaurant</td>\n",
       "      <td>Place</td>\n",
       "      <td>Gym</td>\n",
       "      <td>Pharmacy</td>\n",
       "      <td>Bookstore</td>\n",
       "      <td>Movie Theater</td>\n",
       "      <td>Supermarket</td>\n",
       "      <td>Bakery</td>\n",
       "      <td>530884</td>\n",
       "      <td>mid range</td>\n",
       "    </tr>\n",
       "    <tr>\n",
       "      <th>41</th>\n",
       "      <td>Holborn and St Pancras</td>\n",
       "      <td>Holborn and St Pancras</td>\n",
       "      <td>Restaurant</td>\n",
       "      <td>Bar</td>\n",
       "      <td>Shop</td>\n",
       "      <td>Museum</td>\n",
       "      <td>Hotel</td>\n",
       "      <td>Store</td>\n",
       "      <td>Pub</td>\n",
       "      <td>Place</td>\n",
       "      <td>Deli / Bodega</td>\n",
       "      <td>Café</td>\n",
       "      <td>1434127</td>\n",
       "      <td>expensive</td>\n",
       "    </tr>\n",
       "    <tr>\n",
       "      <th>44</th>\n",
       "      <td>Ilford South</td>\n",
       "      <td>Ilford South</td>\n",
       "      <td>Gym</td>\n",
       "      <td>Supermarket</td>\n",
       "      <td>Place</td>\n",
       "      <td>Bar</td>\n",
       "      <td>Restaurant</td>\n",
       "      <td>Store</td>\n",
       "      <td>Food Court</td>\n",
       "      <td>Fish Market</td>\n",
       "      <td>Farmers Market</td>\n",
       "      <td>Exhibit</td>\n",
       "      <td>374473</td>\n",
       "      <td>cheap</td>\n",
       "    </tr>\n",
       "    <tr>\n",
       "      <th>45</th>\n",
       "      <td>Islington North</td>\n",
       "      <td>Islington North</td>\n",
       "      <td>Restaurant</td>\n",
       "      <td>Store</td>\n",
       "      <td>Café</td>\n",
       "      <td>Shop</td>\n",
       "      <td>Gym</td>\n",
       "      <td>Pub</td>\n",
       "      <td>Pharmacy</td>\n",
       "      <td>Supermarket</td>\n",
       "      <td>Bus Stop</td>\n",
       "      <td>Plaza</td>\n",
       "      <td>702117</td>\n",
       "      <td>premium</td>\n",
       "    </tr>\n",
       "    <tr>\n",
       "      <th>46</th>\n",
       "      <td>Islington South and Finsbury</td>\n",
       "      <td>Islington South and Finsbury</td>\n",
       "      <td>Restaurant</td>\n",
       "      <td>Shop</td>\n",
       "      <td>Pub</td>\n",
       "      <td>Store</td>\n",
       "      <td>Café</td>\n",
       "      <td>Gym</td>\n",
       "      <td>Food Truck</td>\n",
       "      <td>Place</td>\n",
       "      <td>Hotel</td>\n",
       "      <td>Bar</td>\n",
       "      <td>1572070</td>\n",
       "      <td>expensive</td>\n",
       "    </tr>\n",
       "    <tr>\n",
       "      <th>47</th>\n",
       "      <td>Kensington</td>\n",
       "      <td>Kensington</td>\n",
       "      <td>Restaurant</td>\n",
       "      <td>Store</td>\n",
       "      <td>Pub</td>\n",
       "      <td>Bar</td>\n",
       "      <td>Exhibit</td>\n",
       "      <td>Hotel</td>\n",
       "      <td>Gym</td>\n",
       "      <td>Palace</td>\n",
       "      <td>Art Gallery</td>\n",
       "      <td>Garden</td>\n",
       "      <td>2178726</td>\n",
       "      <td>expensive</td>\n",
       "    </tr>\n",
       "    <tr>\n",
       "      <th>50</th>\n",
       "      <td>Lewisham West and Penge</td>\n",
       "      <td>Lewisham West and Penge</td>\n",
       "      <td>Restaurant</td>\n",
       "      <td>Place</td>\n",
       "      <td>Shop</td>\n",
       "      <td>Supermarket</td>\n",
       "      <td>Pub</td>\n",
       "      <td>Pharmacy</td>\n",
       "      <td>Gym</td>\n",
       "      <td>Bistro</td>\n",
       "      <td>Auto Garage</td>\n",
       "      <td>Store</td>\n",
       "      <td>452258</td>\n",
       "      <td>cheap</td>\n",
       "    </tr>\n",
       "    <tr>\n",
       "      <th>52</th>\n",
       "      <td>Leyton and Wanstead</td>\n",
       "      <td>Leyton and Wanstead</td>\n",
       "      <td>Restaurant</td>\n",
       "      <td>Store</td>\n",
       "      <td>Café</td>\n",
       "      <td>Pub</td>\n",
       "      <td>Place</td>\n",
       "      <td>Bakery</td>\n",
       "      <td>Trail</td>\n",
       "      <td>Pharmacy</td>\n",
       "      <td>Bus Stop</td>\n",
       "      <td>Burger Joint</td>\n",
       "      <td>536391</td>\n",
       "      <td>mid range</td>\n",
       "    </tr>\n",
       "    <tr>\n",
       "      <th>55</th>\n",
       "      <td>Orpington</td>\n",
       "      <td>Orpington</td>\n",
       "      <td>Construction &amp; Landscaping</td>\n",
       "      <td>Pub</td>\n",
       "      <td>Bakery</td>\n",
       "      <td>Restaurant</td>\n",
       "      <td>Store</td>\n",
       "      <td>Farmers Market</td>\n",
       "      <td>Food Truck</td>\n",
       "      <td>Food Court</td>\n",
       "      <td>Fish Market</td>\n",
       "      <td>Event Space</td>\n",
       "      <td>488370</td>\n",
       "      <td>mid range</td>\n",
       "    </tr>\n",
       "    <tr>\n",
       "      <th>59</th>\n",
       "      <td>Romford</td>\n",
       "      <td>Romford</td>\n",
       "      <td>Store</td>\n",
       "      <td>Shop</td>\n",
       "      <td>Restaurant</td>\n",
       "      <td>Café</td>\n",
       "      <td>Pub</td>\n",
       "      <td>Place</td>\n",
       "      <td>Pharmacy</td>\n",
       "      <td>Bookstore</td>\n",
       "      <td>Bakery</td>\n",
       "      <td>Bar</td>\n",
       "      <td>414543</td>\n",
       "      <td>cheap</td>\n",
       "    </tr>\n",
       "    <tr>\n",
       "      <th>61</th>\n",
       "      <td>Streatham</td>\n",
       "      <td>Streatham</td>\n",
       "      <td>Restaurant</td>\n",
       "      <td>Store</td>\n",
       "      <td>Bus Stop</td>\n",
       "      <td>Shop</td>\n",
       "      <td>Place</td>\n",
       "      <td>Bar</td>\n",
       "      <td>Platform</td>\n",
       "      <td>Café</td>\n",
       "      <td>Deli / Bodega</td>\n",
       "      <td>Diner</td>\n",
       "      <td>715769</td>\n",
       "      <td>premium</td>\n",
       "    </tr>\n",
       "    <tr>\n",
       "      <th>64</th>\n",
       "      <td>Tottenham</td>\n",
       "      <td>Tottenham</td>\n",
       "      <td>Café</td>\n",
       "      <td>Store</td>\n",
       "      <td>Restaurant</td>\n",
       "      <td>Bus Stop</td>\n",
       "      <td>Gym</td>\n",
       "      <td>Breakfast Spot</td>\n",
       "      <td>Deli / Bodega</td>\n",
       "      <td>Indie Theater</td>\n",
       "      <td>Pub</td>\n",
       "      <td>Place</td>\n",
       "      <td>507522</td>\n",
       "      <td>mid range</td>\n",
       "    </tr>\n",
       "    <tr>\n",
       "      <th>65</th>\n",
       "      <td>Twickenham</td>\n",
       "      <td>Twickenham</td>\n",
       "      <td>Pub</td>\n",
       "      <td>Train Station</td>\n",
       "      <td>Bus Stop</td>\n",
       "      <td>Store</td>\n",
       "      <td>Restaurant</td>\n",
       "      <td>Café</td>\n",
       "      <td>Farmers Market</td>\n",
       "      <td>Food Court</td>\n",
       "      <td>Fish Market</td>\n",
       "      <td>Event Space</td>\n",
       "      <td>874194</td>\n",
       "      <td>expensive</td>\n",
       "    </tr>\n",
       "    <tr>\n",
       "      <th>67</th>\n",
       "      <td>Vauxhall</td>\n",
       "      <td>Vauxhall</td>\n",
       "      <td>Store</td>\n",
       "      <td>Restaurant</td>\n",
       "      <td>Shop</td>\n",
       "      <td>Park</td>\n",
       "      <td>Pub</td>\n",
       "      <td>Gym</td>\n",
       "      <td>Platform</td>\n",
       "      <td>Gastropub</td>\n",
       "      <td>Supermarket</td>\n",
       "      <td>Bistro</td>\n",
       "      <td>930675</td>\n",
       "      <td>expensive</td>\n",
       "    </tr>\n",
       "    <tr>\n",
       "      <th>68</th>\n",
       "      <td>Walthamstow</td>\n",
       "      <td>Walthamstow</td>\n",
       "      <td>Store</td>\n",
       "      <td>Restaurant</td>\n",
       "      <td>Shop</td>\n",
       "      <td>Place</td>\n",
       "      <td>Café</td>\n",
       "      <td>Pub</td>\n",
       "      <td>Bookstore</td>\n",
       "      <td>Bakery</td>\n",
       "      <td>Pharmacy</td>\n",
       "      <td>Farmers Market</td>\n",
       "      <td>780652</td>\n",
       "      <td>premium</td>\n",
       "    </tr>\n",
       "    <tr>\n",
       "      <th>69</th>\n",
       "      <td>West Ham</td>\n",
       "      <td>West Ham</td>\n",
       "      <td>Fried Chicken Joint</td>\n",
       "      <td>Bus Stop</td>\n",
       "      <td>Shop</td>\n",
       "      <td>Breakfast Spot</td>\n",
       "      <td>Store</td>\n",
       "      <td>Restaurant</td>\n",
       "      <td>Café</td>\n",
       "      <td>Bus Station</td>\n",
       "      <td>Food Truck</td>\n",
       "      <td>Forest</td>\n",
       "      <td>396687</td>\n",
       "      <td>cheap</td>\n",
       "    </tr>\n",
       "    <tr>\n",
       "      <th>70</th>\n",
       "      <td>Westminster North</td>\n",
       "      <td>Westminster North</td>\n",
       "      <td>Restaurant</td>\n",
       "      <td>Café</td>\n",
       "      <td>Pub</td>\n",
       "      <td>Shop</td>\n",
       "      <td>Bar</td>\n",
       "      <td>Deli / Bodega</td>\n",
       "      <td>Store</td>\n",
       "      <td>Garden Center</td>\n",
       "      <td>Pharmacy</td>\n",
       "      <td>Park</td>\n",
       "      <td>1868221</td>\n",
       "      <td>expensive</td>\n",
       "    </tr>\n",
       "  </tbody>\n",
       "</table>\n",
       "</div>"
      ],
      "text/plain": [
       "                         Constituency                              layer  \\\n",
       "0                             Barking                            Barking   \n",
       "4               Bethnal Green and Bow              Bethnal Green and Bow   \n",
       "5            Bexleyheath and Crayford           Bexleyheath and Crayford   \n",
       "6                       Brent Central                      Brent Central   \n",
       "10             Camberwell and Peckham             Camberwell and Peckham   \n",
       "11          Carshalton and Wallington          Carshalton and Wallington   \n",
       "12                 Chelsea and Fulham                 Chelsea and Fulham   \n",
       "15   Cities of London and Westminster   Cities of London and Westminster   \n",
       "17                      Croydon North                      Croydon North   \n",
       "23                   Ealing, Southall                   Ealing, Southall   \n",
       "24                           East Ham                           East Ham   \n",
       "25                           Edmonton                           Edmonton   \n",
       "26                             Eltham                             Eltham   \n",
       "32             Greenwich and Woolwich             Greenwich and Woolwich   \n",
       "33  Hackney North and Stoke Newington  Hackney North and Stoke Newington   \n",
       "34       Hackney South and Shoreditch       Hackney South and Shoreditch   \n",
       "38                        Harrow West                        Harrow West   \n",
       "41             Holborn and St Pancras             Holborn and St Pancras   \n",
       "44                       Ilford South                       Ilford South   \n",
       "45                    Islington North                    Islington North   \n",
       "46       Islington South and Finsbury       Islington South and Finsbury   \n",
       "47                         Kensington                         Kensington   \n",
       "50            Lewisham West and Penge            Lewisham West and Penge   \n",
       "52                Leyton and Wanstead                Leyton and Wanstead   \n",
       "55                          Orpington                          Orpington   \n",
       "59                            Romford                            Romford   \n",
       "61                          Streatham                          Streatham   \n",
       "64                          Tottenham                          Tottenham   \n",
       "65                         Twickenham                         Twickenham   \n",
       "67                           Vauxhall                           Vauxhall   \n",
       "68                        Walthamstow                        Walthamstow   \n",
       "69                           West Ham                           West Ham   \n",
       "70                  Westminster North                  Westminster North   \n",
       "\n",
       "         1st Most Common Venue       2nd Most Common Venue  \\\n",
       "0                   Restaurant                       River   \n",
       "4                   Restaurant                         Bar   \n",
       "5                   Restaurant                         Pub   \n",
       "6                       Bakery                  Restaurant   \n",
       "10                       Store                  Restaurant   \n",
       "11                       Store                         Pub   \n",
       "12                  Restaurant                       Place   \n",
       "15                        Shop                       Store   \n",
       "17                       Plaza                  Restaurant   \n",
       "23                       Store  Construction & Landscaping   \n",
       "24                  Restaurant                       Store   \n",
       "25                        Shop                       Store   \n",
       "26                  Restaurant                    Bus Stop   \n",
       "32                       Store                  Restaurant   \n",
       "33                  Restaurant                        Café   \n",
       "34                  Restaurant                        Café   \n",
       "38                       Store                        Shop   \n",
       "41                  Restaurant                         Bar   \n",
       "44                         Gym                 Supermarket   \n",
       "45                  Restaurant                       Store   \n",
       "46                  Restaurant                        Shop   \n",
       "47                  Restaurant                       Store   \n",
       "50                  Restaurant                       Place   \n",
       "52                  Restaurant                       Store   \n",
       "55  Construction & Landscaping                         Pub   \n",
       "59                       Store                        Shop   \n",
       "61                  Restaurant                       Store   \n",
       "64                        Café                       Store   \n",
       "65                         Pub               Train Station   \n",
       "67                       Store                  Restaurant   \n",
       "68                       Store                  Restaurant   \n",
       "69         Fried Chicken Joint                    Bus Stop   \n",
       "70                  Restaurant                        Café   \n",
       "\n",
       "   3rd Most Common Venue 4th Most Common Venue 5th Most Common Venue  \\\n",
       "0                  Store                   Pub           Yoga Studio   \n",
       "4                   Shop                  Café                 Store   \n",
       "5                  Place           Supermarket           Post Office   \n",
       "6                  Store                  Park           Yoga Studio   \n",
       "10              Bus Stop                  Park           Supermarket   \n",
       "11                   Gym                  Shop    Physical Therapist   \n",
       "12                  Shop                   Pub                 Store   \n",
       "15            Restaurant               Theater                   Bar   \n",
       "17                 Place                   Gym              Pharmacy   \n",
       "23         Train Station            Restaurant                  Park   \n",
       "24                  Park                   Pub           Yoga Studio   \n",
       "25            Restaurant                   Gym         Train Station   \n",
       "26                 Store              Platform                 Place   \n",
       "32              Bus Stop            Food Truck              Platform   \n",
       "33                   Pub                   Bar                 Store   \n",
       "34                  Shop                   Pub             Bookstore   \n",
       "38            Restaurant                 Place                   Gym   \n",
       "41                  Shop                Museum                 Hotel   \n",
       "44                 Place                   Bar            Restaurant   \n",
       "45                  Café                  Shop                   Gym   \n",
       "46                   Pub                 Store                  Café   \n",
       "47                   Pub                   Bar               Exhibit   \n",
       "50                  Shop           Supermarket                   Pub   \n",
       "52                  Café                   Pub                 Place   \n",
       "55                Bakery            Restaurant                 Store   \n",
       "59            Restaurant                  Café                   Pub   \n",
       "61              Bus Stop                  Shop                 Place   \n",
       "64            Restaurant              Bus Stop                   Gym   \n",
       "65              Bus Stop                 Store            Restaurant   \n",
       "67                  Shop                  Park                   Pub   \n",
       "68                  Shop                 Place                  Café   \n",
       "69                  Shop        Breakfast Spot                 Store   \n",
       "70                   Pub                  Shop                   Bar   \n",
       "\n",
       "   6th Most Common Venue 7th Most Common Venue 8th Most Common Venue  \\\n",
       "0             Food Truck        Cricket Ground          Dance Studio   \n",
       "4                    Gym                   Pub                 Place   \n",
       "5          Train Station           Bus Station          Dance Studio   \n",
       "6    Fried Chicken Joint         Deli / Bodega                 Diner   \n",
       "10           Art Gallery                   Gym                 Diner   \n",
       "11            Restaurant          Veterinarian                 Diner   \n",
       "12        Soccer Stadium                   Bar             Gastropub   \n",
       "15                 Hotel                Bakery                Museum   \n",
       "17                  Shop           Yoga Studio            Food Truck   \n",
       "23                Forest          Dance Studio         Deli / Bodega   \n",
       "24                Forest          Dance Studio         Deli / Bodega   \n",
       "25                 Place           Bus Station        Breakfast Spot   \n",
       "26                Garden           Rugby Pitch           Yoga Studio   \n",
       "32                  Café           Supermarket        Soccer Stadium   \n",
       "33                 Place                  Park           Bus Station   \n",
       "34                 Place                   Bar               Butcher   \n",
       "38              Pharmacy             Bookstore         Movie Theater   \n",
       "41                 Store                   Pub                 Place   \n",
       "44                 Store            Food Court           Fish Market   \n",
       "45                   Pub              Pharmacy           Supermarket   \n",
       "46                   Gym            Food Truck                 Place   \n",
       "47                 Hotel                   Gym                Palace   \n",
       "50              Pharmacy                   Gym                Bistro   \n",
       "52                Bakery                 Trail              Pharmacy   \n",
       "55        Farmers Market            Food Truck            Food Court   \n",
       "59                 Place              Pharmacy             Bookstore   \n",
       "61                   Bar              Platform                  Café   \n",
       "64        Breakfast Spot         Deli / Bodega         Indie Theater   \n",
       "65                  Café        Farmers Market            Food Court   \n",
       "67                   Gym              Platform             Gastropub   \n",
       "68                   Pub             Bookstore                Bakery   \n",
       "69            Restaurant                  Café           Bus Station   \n",
       "70         Deli / Bodega                 Store         Garden Center   \n",
       "\n",
       "   9th Most Common Venue 10th Most Common Venue  avg_price price_band  \n",
       "0          Deli / Bodega                  Diner     309774      cheap  \n",
       "4                   Park            Supermarket     653344    premium  \n",
       "5         Cricket Ground          Deli / Bodega     492016  mid range  \n",
       "6             Distillery            Event Space     742616    premium  \n",
       "10                 Place                    Pub     620234    premium  \n",
       "11         Deli / Bodega             Food Court     471743      cheap  \n",
       "12             Nightclub                   Café    1635522  expensive  \n",
       "15                   Gym                  Plaza    3493501  expensive  \n",
       "17         Deli / Bodega                  Diner     383984      cheap  \n",
       "23                 Diner             Distillery     663924    premium  \n",
       "24                 Diner             Distillery     816680  expensive  \n",
       "25          Noodle House                  Hotel     423343      cheap  \n",
       "26        Farmers Market            Fish Market     460496      cheap  \n",
       "32         Train Station                   Shop     522073  mid range  \n",
       "33       Organic Grocery         Breakfast Spot     635196    premium  \n",
       "34         Deli / Bodega         Farmers Market     734220    premium  \n",
       "38           Supermarket                 Bakery     530884  mid range  \n",
       "41         Deli / Bodega                   Café    1434127  expensive  \n",
       "44        Farmers Market                Exhibit     374473      cheap  \n",
       "45              Bus Stop                  Plaza     702117    premium  \n",
       "46                 Hotel                    Bar    1572070  expensive  \n",
       "47           Art Gallery                 Garden    2178726  expensive  \n",
       "50           Auto Garage                  Store     452258      cheap  \n",
       "52              Bus Stop           Burger Joint     536391  mid range  \n",
       "55           Fish Market            Event Space     488370  mid range  \n",
       "59                Bakery                    Bar     414543      cheap  \n",
       "61         Deli / Bodega                  Diner     715769    premium  \n",
       "64                   Pub                  Place     507522  mid range  \n",
       "65           Fish Market            Event Space     874194  expensive  \n",
       "67           Supermarket                 Bistro     930675  expensive  \n",
       "68              Pharmacy         Farmers Market     780652    premium  \n",
       "69            Food Truck                 Forest     396687      cheap  \n",
       "70              Pharmacy                   Park    1868221  expensive  "
      ]
     },
     "execution_count": 77,
     "metadata": {},
     "output_type": "execute_result"
    }
   ],
   "source": [
    "view_df(borough_cluster_prices,8)"
   ]
  },
  {
   "cell_type": "code",
   "execution_count": 80,
   "metadata": {},
   "outputs": [
    {
     "data": {
      "text/html": [
       "<div>\n",
       "<style scoped>\n",
       "    .dataframe tbody tr th:only-of-type {\n",
       "        vertical-align: middle;\n",
       "    }\n",
       "\n",
       "    .dataframe tbody tr th {\n",
       "        vertical-align: top;\n",
       "    }\n",
       "\n",
       "    .dataframe thead th {\n",
       "        text-align: right;\n",
       "    }\n",
       "</style>\n",
       "<table border=\"1\" class=\"dataframe\">\n",
       "  <thead>\n",
       "    <tr style=\"text-align: right;\">\n",
       "      <th></th>\n",
       "      <th>Constituency</th>\n",
       "      <th>layer</th>\n",
       "      <th>1st Most Common Venue</th>\n",
       "      <th>2nd Most Common Venue</th>\n",
       "      <th>3rd Most Common Venue</th>\n",
       "      <th>4th Most Common Venue</th>\n",
       "      <th>5th Most Common Venue</th>\n",
       "      <th>6th Most Common Venue</th>\n",
       "      <th>7th Most Common Venue</th>\n",
       "      <th>8th Most Common Venue</th>\n",
       "      <th>9th Most Common Venue</th>\n",
       "      <th>10th Most Common Venue</th>\n",
       "    </tr>\n",
       "  </thead>\n",
       "  <tbody>\n",
       "    <tr>\n",
       "      <th>20</th>\n",
       "      <td>Dulwich and West Norwood</td>\n",
       "      <td>Dulwich and West Norwood</td>\n",
       "      <td>Athletics &amp; Sports</td>\n",
       "      <td>Garden Center</td>\n",
       "      <td>Restaurant</td>\n",
       "      <td>Gastropub</td>\n",
       "      <td>Cricket Ground</td>\n",
       "      <td>Fried Chicken Joint</td>\n",
       "      <td>Deli / Bodega</td>\n",
       "      <td>Diner</td>\n",
       "      <td>Distillery</td>\n",
       "      <td>Event Space</td>\n",
       "    </tr>\n",
       "    <tr>\n",
       "      <th>27</th>\n",
       "      <td>Enfield North</td>\n",
       "      <td>Enfield North</td>\n",
       "      <td>Soccer Stadium</td>\n",
       "      <td>Gym</td>\n",
       "      <td>Sports Club</td>\n",
       "      <td>Soccer Field</td>\n",
       "      <td>Yoga Studio</td>\n",
       "      <td>Dance Studio</td>\n",
       "      <td>Deli / Bodega</td>\n",
       "      <td>Diner</td>\n",
       "      <td>Distillery</td>\n",
       "      <td>Event Space</td>\n",
       "    </tr>\n",
       "    <tr>\n",
       "      <th>49</th>\n",
       "      <td>Lewisham East</td>\n",
       "      <td>Lewisham East</td>\n",
       "      <td>Restaurant</td>\n",
       "      <td>Gym</td>\n",
       "      <td>Nature Preserve</td>\n",
       "      <td>Park</td>\n",
       "      <td>Yoga Studio</td>\n",
       "      <td>Fried Chicken Joint</td>\n",
       "      <td>Deli / Bodega</td>\n",
       "      <td>Diner</td>\n",
       "      <td>Distillery</td>\n",
       "      <td>Event Space</td>\n",
       "    </tr>\n",
       "    <tr>\n",
       "      <th>51</th>\n",
       "      <td>Lewisham, Deptford</td>\n",
       "      <td>Lewisham, Deptford</td>\n",
       "      <td>Restaurant</td>\n",
       "      <td>Food Truck</td>\n",
       "      <td>Library</td>\n",
       "      <td>Farmers Market</td>\n",
       "      <td>Pub</td>\n",
       "      <td>Deli / Bodega</td>\n",
       "      <td>Bakery</td>\n",
       "      <td>Store</td>\n",
       "      <td>Food Court</td>\n",
       "      <td>Fish Market</td>\n",
       "    </tr>\n",
       "    <tr>\n",
       "      <th>56</th>\n",
       "      <td>Poplar and Limehouse</td>\n",
       "      <td>Poplar and Limehouse</td>\n",
       "      <td>Restaurant</td>\n",
       "      <td>Gym</td>\n",
       "      <td>Hotel</td>\n",
       "      <td>Gastropub</td>\n",
       "      <td>Pub</td>\n",
       "      <td>Place</td>\n",
       "      <td>Canal Lock</td>\n",
       "      <td>Park</td>\n",
       "      <td>Breakfast Spot</td>\n",
       "      <td>Store</td>\n",
       "    </tr>\n",
       "    <tr>\n",
       "      <th>66</th>\n",
       "      <td>Uxbridge and South Ruislip</td>\n",
       "      <td>Uxbridge and South Ruislip</td>\n",
       "      <td>Restaurant</td>\n",
       "      <td>Pub</td>\n",
       "      <td>Plaza</td>\n",
       "      <td>Park</td>\n",
       "      <td>Cricket Ground</td>\n",
       "      <td>Dance Studio</td>\n",
       "      <td>Deli / Bodega</td>\n",
       "      <td>Diner</td>\n",
       "      <td>Distillery</td>\n",
       "      <td>Event Space</td>\n",
       "    </tr>\n",
       "    <tr>\n",
       "      <th>71</th>\n",
       "      <td>Wimbledon</td>\n",
       "      <td>Wimbledon</td>\n",
       "      <td>Tram Station</td>\n",
       "      <td>Restaurant</td>\n",
       "      <td>Gym</td>\n",
       "      <td>Park</td>\n",
       "      <td>Yoga Studio</td>\n",
       "      <td>Fried Chicken Joint</td>\n",
       "      <td>Deli / Bodega</td>\n",
       "      <td>Diner</td>\n",
       "      <td>Distillery</td>\n",
       "      <td>Event Space</td>\n",
       "    </tr>\n",
       "  </tbody>\n",
       "</table>\n",
       "</div>"
      ],
      "text/plain": [
       "                  Constituency                       layer  \\\n",
       "20    Dulwich and West Norwood    Dulwich and West Norwood   \n",
       "27               Enfield North               Enfield North   \n",
       "49               Lewisham East               Lewisham East   \n",
       "51          Lewisham, Deptford          Lewisham, Deptford   \n",
       "56        Poplar and Limehouse        Poplar and Limehouse   \n",
       "66  Uxbridge and South Ruislip  Uxbridge and South Ruislip   \n",
       "71                   Wimbledon                   Wimbledon   \n",
       "\n",
       "   1st Most Common Venue 2nd Most Common Venue 3rd Most Common Venue  \\\n",
       "20    Athletics & Sports         Garden Center            Restaurant   \n",
       "27        Soccer Stadium                   Gym           Sports Club   \n",
       "49            Restaurant                   Gym       Nature Preserve   \n",
       "51            Restaurant            Food Truck               Library   \n",
       "56            Restaurant                   Gym                 Hotel   \n",
       "66            Restaurant                   Pub                 Plaza   \n",
       "71          Tram Station            Restaurant                   Gym   \n",
       "\n",
       "   4th Most Common Venue 5th Most Common Venue 6th Most Common Venue  \\\n",
       "20             Gastropub        Cricket Ground   Fried Chicken Joint   \n",
       "27          Soccer Field           Yoga Studio          Dance Studio   \n",
       "49                  Park           Yoga Studio   Fried Chicken Joint   \n",
       "51        Farmers Market                   Pub         Deli / Bodega   \n",
       "56             Gastropub                   Pub                 Place   \n",
       "66                  Park        Cricket Ground          Dance Studio   \n",
       "71                  Park           Yoga Studio   Fried Chicken Joint   \n",
       "\n",
       "   7th Most Common Venue 8th Most Common Venue 9th Most Common Venue  \\\n",
       "20         Deli / Bodega                 Diner            Distillery   \n",
       "27         Deli / Bodega                 Diner            Distillery   \n",
       "49         Deli / Bodega                 Diner            Distillery   \n",
       "51                Bakery                 Store            Food Court   \n",
       "56            Canal Lock                  Park        Breakfast Spot   \n",
       "66         Deli / Bodega                 Diner            Distillery   \n",
       "71         Deli / Bodega                 Diner            Distillery   \n",
       "\n",
       "   10th Most Common Venue  \n",
       "20            Event Space  \n",
       "27            Event Space  \n",
       "49            Event Space  \n",
       "51            Fish Market  \n",
       "56                  Store  \n",
       "66            Event Space  \n",
       "71            Event Space  "
      ]
     },
     "execution_count": 80,
     "metadata": {},
     "output_type": "execute_result"
    }
   ],
   "source": [
    "view_df(boroughs_map_df,12)"
   ]
  },
  {
   "cell_type": "code",
   "execution_count": 81,
   "metadata": {},
   "outputs": [
    {
     "data": {
      "text/html": [
       "<div>\n",
       "<style scoped>\n",
       "    .dataframe tbody tr th:only-of-type {\n",
       "        vertical-align: middle;\n",
       "    }\n",
       "\n",
       "    .dataframe tbody tr th {\n",
       "        vertical-align: top;\n",
       "    }\n",
       "\n",
       "    .dataframe thead th {\n",
       "        text-align: right;\n",
       "    }\n",
       "</style>\n",
       "<table border=\"1\" class=\"dataframe\">\n",
       "  <thead>\n",
       "    <tr style=\"text-align: right;\">\n",
       "      <th></th>\n",
       "      <th>Constituency</th>\n",
       "      <th>layer</th>\n",
       "      <th>1st Most Common Venue</th>\n",
       "      <th>2nd Most Common Venue</th>\n",
       "      <th>3rd Most Common Venue</th>\n",
       "      <th>4th Most Common Venue</th>\n",
       "      <th>5th Most Common Venue</th>\n",
       "      <th>6th Most Common Venue</th>\n",
       "      <th>7th Most Common Venue</th>\n",
       "      <th>8th Most Common Venue</th>\n",
       "      <th>9th Most Common Venue</th>\n",
       "      <th>10th Most Common Venue</th>\n",
       "    </tr>\n",
       "  </thead>\n",
       "  <tbody>\n",
       "    <tr>\n",
       "      <th>9</th>\n",
       "      <td>Bromley and Chislehurst</td>\n",
       "      <td>Bromley and Chislehurst</td>\n",
       "      <td>Bar</td>\n",
       "      <td>Photography Studio</td>\n",
       "      <td>Bus Stop</td>\n",
       "      <td>Park</td>\n",
       "      <td>Yoga Studio</td>\n",
       "      <td>Fried Chicken Joint</td>\n",
       "      <td>Diner</td>\n",
       "      <td>Distillery</td>\n",
       "      <td>Event Space</td>\n",
       "      <td>Exhibit</td>\n",
       "    </tr>\n",
       "    <tr>\n",
       "      <th>13</th>\n",
       "      <td>Chingford and Woodford Green</td>\n",
       "      <td>Chingford and Woodford Green</td>\n",
       "      <td>Park</td>\n",
       "      <td>Lake</td>\n",
       "      <td>Yoga Studio</td>\n",
       "      <td>Garden</td>\n",
       "      <td>Deli / Bodega</td>\n",
       "      <td>Diner</td>\n",
       "      <td>Distillery</td>\n",
       "      <td>Event Space</td>\n",
       "      <td>Exhibit</td>\n",
       "      <td>Farmers Market</td>\n",
       "    </tr>\n",
       "    <tr>\n",
       "      <th>40</th>\n",
       "      <td>Hendon</td>\n",
       "      <td>Hendon</td>\n",
       "      <td>Park</td>\n",
       "      <td>Diner</td>\n",
       "      <td>Bar</td>\n",
       "      <td>Yoga Studio</td>\n",
       "      <td>Garden Center</td>\n",
       "      <td>Distillery</td>\n",
       "      <td>Event Space</td>\n",
       "      <td>Exhibit</td>\n",
       "      <td>Farmers Market</td>\n",
       "      <td>Fish Market</td>\n",
       "    </tr>\n",
       "  </tbody>\n",
       "</table>\n",
       "</div>"
      ],
      "text/plain": [
       "                    Constituency                         layer  \\\n",
       "9        Bromley and Chislehurst       Bromley and Chislehurst   \n",
       "13  Chingford and Woodford Green  Chingford and Woodford Green   \n",
       "40                        Hendon                        Hendon   \n",
       "\n",
       "   1st Most Common Venue 2nd Most Common Venue 3rd Most Common Venue  \\\n",
       "9                    Bar    Photography Studio              Bus Stop   \n",
       "13                  Park                  Lake           Yoga Studio   \n",
       "40                  Park                 Diner                   Bar   \n",
       "\n",
       "   4th Most Common Venue 5th Most Common Venue 6th Most Common Venue  \\\n",
       "9                   Park           Yoga Studio   Fried Chicken Joint   \n",
       "13                Garden         Deli / Bodega                 Diner   \n",
       "40           Yoga Studio         Garden Center            Distillery   \n",
       "\n",
       "   7th Most Common Venue 8th Most Common Venue 9th Most Common Venue  \\\n",
       "9                  Diner            Distillery           Event Space   \n",
       "13            Distillery           Event Space               Exhibit   \n",
       "40           Event Space               Exhibit        Farmers Market   \n",
       "\n",
       "   10th Most Common Venue  \n",
       "9                 Exhibit  \n",
       "13         Farmers Market  \n",
       "40            Fish Market  "
      ]
     },
     "execution_count": 81,
     "metadata": {},
     "output_type": "execute_result"
    }
   ],
   "source": [
    "view_df(boroughs_map_df,14)"
   ]
  },
  {
   "cell_type": "markdown",
   "metadata": {},
   "source": [
    "The analysis above shows that using a higher level geography does not provide us with good separation of clusters. There are two reasons for this, 1) the foursquare API extract less feature data due to the broader geographies 2) the higher level geography covers such a diverse range of features that the algorithm is unable to distinguish features amongst them. "
   ]
  },
  {
   "cell_type": "markdown",
   "metadata": {},
   "source": [
    "### Kmeans at consituency level with zonal data"
   ]
  },
  {
   "cell_type": "code",
   "execution_count": null,
   "metadata": {},
   "outputs": [],
   "source": [
    "def pre_processing(frame):\n",
    "    x1 = pd.get_dummies(frame['London zone'])\n",
    "    x2 = pd.get_dummies(frame['Venue Category'])\n",
    "    london_one_hot = pd.concat([x1,x2], axis=1)\n",
    "    london_one_hot['layer'] = frame['Neighborhood']\n",
    "    london_grouped_category = london_one_hot.groupby('layer').mean().reset_index()\n",
    "    return london_grouped_category"
   ]
  },
  {
   "cell_type": "code",
   "execution_count": null,
   "metadata": {},
   "outputs": [],
   "source": [
    "london_relevant_columns = london_codes_all[['District','Ward', 'Constituency', 'Postcode district', 'Postcode', 'London zone', 'Latitude', 'Longitude']]"
   ]
  },
  {
   "cell_type": "code",
   "execution_count": null,
   "metadata": {},
   "outputs": [],
   "source": [
    "consituencies = london_relevant_columns.groupby('Constituency').agg({'Latitude':'mean','Longitude':'mean', 'London zone':'median'}).reset_index()\n",
    "consituencies.head()"
   ]
  },
  {
   "cell_type": "code",
   "execution_count": null,
   "metadata": {},
   "outputs": [],
   "source": [
    "# constits = consitutency_venues_raw.copy()\n",
    "constits = pd.read_csv('constituency_venues.csv')\n",
    "constits = constits.merge(consituencies[['Constituency','London zone']], how='left', left_on='Neighborhood', right_on='Constituency')\n",
    "constits = constits.drop('Constituency', 1)\n",
    "constits_one_hot = pre_processing(constits)\n",
    "elbow_method(constits_one_hot)"
   ]
  },
  {
   "cell_type": "code",
   "execution_count": null,
   "metadata": {},
   "outputs": [],
   "source": [
    "constit_venues_sorted = get_top_venues(constits_one_hot)"
   ]
  },
  {
   "cell_type": "code",
   "execution_count": null,
   "metadata": {},
   "outputs": [],
   "source": [
    "kmeans_plot(constits_one_hot,6)"
   ]
  },
  {
   "cell_type": "code",
   "execution_count": null,
   "metadata": {},
   "outputs": [],
   "source": [
    "k = 6\n",
    "constits_one_hot = constits_one_hot.drop('layer', 1)\n",
    "kmeans = KMeans(n_clusters=k, random_state=0).fit(constits_one_hot)\n",
    "labels = kmeans.labels_\n",
    "constit_venues_sorted.insert(0, 'Cluster Labels', labels)"
   ]
  },
  {
   "cell_type": "code",
   "execution_count": null,
   "metadata": {},
   "outputs": [],
   "source": [
    "boroughs_map_df = consituencies.merge(constit_venues_sorted, left_on='Constituency', right_on='layer')"
   ]
  },
  {
   "cell_type": "code",
   "execution_count": null,
   "metadata": {},
   "outputs": [],
   "source": [
    "cluster_map(boroughs_map_df,k)"
   ]
  },
  {
   "cell_type": "code",
   "execution_count": null,
   "metadata": {},
   "outputs": [],
   "source": [
    "view_df(boroughs_map_df,0)"
   ]
  },
  {
   "cell_type": "code",
   "execution_count": null,
   "metadata": {},
   "outputs": [],
   "source": [
    "view_df(boroughs_map_df,1)"
   ]
  },
  {
   "cell_type": "code",
   "execution_count": null,
   "metadata": {},
   "outputs": [],
   "source": [
    "view_df(boroughs_map_df,2)"
   ]
  },
  {
   "cell_type": "code",
   "execution_count": null,
   "metadata": {},
   "outputs": [],
   "source": [
    "view_df(boroughs_map_df,3)"
   ]
  },
  {
   "cell_type": "code",
   "execution_count": null,
   "metadata": {},
   "outputs": [],
   "source": [
    "view_df(boroughs_map_df,4)"
   ]
  },
  {
   "cell_type": "code",
   "execution_count": null,
   "metadata": {},
   "outputs": [],
   "source": [
    "view_df(boroughs_map_df,5)"
   ]
  },
  {
   "cell_type": "markdown",
   "metadata": {},
   "source": [
    "### Kmeans at constituency level with price data"
   ]
  },
  {
   "cell_type": "code",
   "execution_count": null,
   "metadata": {},
   "outputs": [],
   "source": [
    "def pre_processing(frame):\n",
    "    london_one_hot = pd.get_dummies(frame[['Venue Category']], prefix=\"\", prefix_sep=\"\")\n",
    "    london_one_hot['layer'] = frame['Neighborhood']\n",
    "    london_grouped_category = london_one_hot.groupby('layer').sum().reset_index()\n",
    "    return london_grouped_category"
   ]
  },
  {
   "cell_type": "code",
   "execution_count": null,
   "metadata": {},
   "outputs": [],
   "source": [
    "def pre_processing_price(frame):\n",
    "    london_one_hot = pd.get_dummies(frame[['price_band']], prefix=\"\", prefix_sep=\"\")\n",
    "    london_one_hot['layer'] = frame['Constituency']\n",
    "    return london_one_hot"
   ]
  },
  {
   "cell_type": "code",
   "execution_count": null,
   "metadata": {},
   "outputs": [],
   "source": [
    "constituency_prices = price_classificaton(group_transactions(transactions_geo, 'Constituency'))"
   ]
  },
  {
   "cell_type": "code",
   "execution_count": null,
   "metadata": {},
   "outputs": [],
   "source": [
    "constits = consitutency_venues_raw.copy()\n",
    "constits_one_hot = pre_processing(constits)\n",
    "price_one_hot = pre_processing_price(constituency_prices)\n",
    "\n",
    "factor = 1\n",
    "columns = price_one_hot['layer']\n",
    "price_one_hot = price_one_hot[['cheap', 'expensive', 'mid range', 'premium']]/factor\n",
    "price_one_hot['layer'] = columns\n",
    "price_one_hot.shape"
   ]
  },
  {
   "cell_type": "code",
   "execution_count": null,
   "metadata": {},
   "outputs": [],
   "source": [
    "price_one_hot.head()"
   ]
  },
  {
   "cell_type": "code",
   "execution_count": null,
   "metadata": {},
   "outputs": [],
   "source": [
    "price_cluster = price_one_hot.merge(constits_one_hot, how='inner', on='layer')\n",
    "constit_venues_sorted = get_top_venues(constits_one_hot)"
   ]
  },
  {
   "cell_type": "code",
   "execution_count": null,
   "metadata": {},
   "outputs": [],
   "source": [
    "price_cluster = price_cluster.drop('layer', 1)\n",
    "elbow_method(price_cluster)"
   ]
  },
  {
   "cell_type": "code",
   "execution_count": null,
   "metadata": {},
   "outputs": [],
   "source": [
    "kmeans_plot(price_cluster,6)"
   ]
  },
  {
   "cell_type": "code",
   "execution_count": null,
   "metadata": {},
   "outputs": [],
   "source": [
    "k = 5\n",
    "kmeans = KMeans(n_clusters=k, random_state=0).fit(price_cluster)"
   ]
  },
  {
   "cell_type": "code",
   "execution_count": null,
   "metadata": {},
   "outputs": [],
   "source": [
    "labels = kmeans.labels_\n",
    "len(labels)\n",
    "constit_venues_sorted.insert(0, 'Cluster Labels', labels)"
   ]
  },
  {
   "cell_type": "code",
   "execution_count": null,
   "metadata": {},
   "outputs": [],
   "source": [
    "constit_venues_sorted.head()"
   ]
  },
  {
   "cell_type": "code",
   "execution_count": null,
   "metadata": {},
   "outputs": [],
   "source": [
    "x = rejoin_clusters(consituencies,constit_venues_sorted)\n",
    "constituency_prices.rename(columns={'Constituency':'layer'}, inplace=True)\n",
    "final_df = x.merge(constituency_prices, on='layer')"
   ]
  },
  {
   "cell_type": "code",
   "execution_count": null,
   "metadata": {},
   "outputs": [],
   "source": [
    "final_df.head()"
   ]
  },
  {
   "cell_type": "code",
   "execution_count": null,
   "metadata": {},
   "outputs": [],
   "source": [
    "# create map\n",
    "map_clusters = folium.Map(location=[latitude, longitude], zoom_start=10)\n",
    "\n",
    "# set color scheme for the clusters\n",
    "x = np.arange(kcluster_price)\n",
    "ys = [i + x + (i*x)**2 for i in range(kcluster_price)]\n",
    "colors_array = cm.rainbow(np.linspace(0, 1, len(ys)))\n",
    "rainbow = [colors.rgb2hex(i) for i in colors_array]\n",
    "\n",
    "# add markers to the map\n",
    "markers_colors = []\n",
    "for lat, lon, poi, band, cluster in zip(final_df['Latitude'], final_df['Longitude'], final_df['layer'], final_df['price_band'], final_df['Cluster Labels']):\n",
    "    label = folium.Popup(str(poi) +'-' + str(band) + ' ' + ' Cluster ' + str(cluster), parse_html=True)\n",
    "    folium.CircleMarker(\n",
    "        [lat, lon],\n",
    "        radius=5,\n",
    "        popup=label,\n",
    "        color=rainbow[cluster-1],\n",
    "        fill=True,\n",
    "        fill_color=rainbow[cluster-1],\n",
    "        fill_opacity=0.7).add_to(map_clusters)\n",
    "       \n",
    "map_clusters"
   ]
  },
  {
   "cell_type": "code",
   "execution_count": null,
   "metadata": {},
   "outputs": [],
   "source": [
    "final_df.loc[final_df['Cluster Labels'] == 0, final_df.columns[[0] + list(range(4, final_df.shape[1]))]]"
   ]
  },
  {
   "cell_type": "code",
   "execution_count": null,
   "metadata": {},
   "outputs": [],
   "source": [
    "final_df.loc[final_df['Cluster Labels'] == 1, final_df.columns[[0] + list(range(4, final_df.shape[1]))]]"
   ]
  },
  {
   "cell_type": "code",
   "execution_count": null,
   "metadata": {},
   "outputs": [],
   "source": [
    "final_df.loc[final_df['Cluster Labels'] == 2, final_df.columns[[0] + list(range(4, final_df.shape[1]))]]"
   ]
  },
  {
   "cell_type": "code",
   "execution_count": null,
   "metadata": {},
   "outputs": [],
   "source": [
    "final_df.loc[final_df['Cluster Labels'] == 3, final_df.columns[[0] + list(range(4, final_df.shape[1]))]]"
   ]
  },
  {
   "cell_type": "code",
   "execution_count": null,
   "metadata": {},
   "outputs": [],
   "source": [
    "final_df.loc[final_df['Cluster Labels'] == 4, final_df.columns[[0] + list(range(4, final_df.shape[1]))]]"
   ]
  },
  {
   "cell_type": "code",
   "execution_count": null,
   "metadata": {},
   "outputs": [],
   "source": [
    "final_df.loc[final_df['Cluster Labels'] == 5, final_df.columns[[0] + list(range(4, final_df.shape[1]))]]"
   ]
  },
  {
   "cell_type": "markdown",
   "metadata": {},
   "source": [
    "In order to evaluate how local venues may affect house prices I need to merge the prices data (numerical) with venue data (categorical) and evaluate this together in a classification model. The data must be pre processed and normalised, however there is a step of normalisatoin already in place for the categorical data where i have grouped by the mean of frequency of each occurence"
   ]
  },
  {
   "cell_type": "code",
   "execution_count": null,
   "metadata": {},
   "outputs": [],
   "source": [
    "from sklearn import preprocessing"
   ]
  },
  {
   "cell_type": "code",
   "execution_count": null,
   "metadata": {},
   "outputs": [],
   "source": [
    "london_grouped.shape"
   ]
  },
  {
   "cell_type": "code",
   "execution_count": null,
   "metadata": {},
   "outputs": [],
   "source": [
    "# london_grouped_for_price = london_grouped.copy()"
   ]
  },
  {
   "cell_type": "markdown",
   "metadata": {},
   "source": [
    "Aggregating the feature data set by summing the total to obtain the frequency of occurence, so this can be used with the preprocessing libraries"
   ]
  },
  {
   "cell_type": "code",
   "execution_count": null,
   "metadata": {},
   "outputs": [],
   "source": [
    "london_grouped_for_price = london_one_hot.groupby('Postcode district').sum().reset_index()"
   ]
  },
  {
   "cell_type": "markdown",
   "metadata": {},
   "source": [
    "obtaining target prediction variable for the feature set"
   ]
  },
  {
   "cell_type": "code",
   "execution_count": null,
   "metadata": {},
   "outputs": [],
   "source": [
    "from sklearn import metrics\n",
    "from sklearn.cluster import KMeans\n",
    "from sklearn.datasets import load_digits\n",
    "from sklearn.decomposition import PCA\n",
    "from sklearn.preprocessing import scale"
   ]
  },
  {
   "cell_type": "code",
   "execution_count": null,
   "metadata": {},
   "outputs": [],
   "source": [
    "prices_venue = avg_prices.merge(london_grouped_for_price[['Postcode district']], how='right', on='Postcode district')\n",
    "y = prices_venue['avg_price']\n",
    "y.shape"
   ]
  },
  {
   "cell_type": "code",
   "execution_count": null,
   "metadata": {},
   "outputs": [],
   "source": [
    "X = london_grouped_for_price.copy().drop('Postcode district', 1)"
   ]
  },
  {
   "cell_type": "code",
   "execution_count": null,
   "metadata": {},
   "outputs": [],
   "source": [
    "# X = X.replace([np.inf, -np.inf], np.nan)\n",
    "# X[X.isna().any(axis=1)]\n",
    "# X.shape"
   ]
  },
  {
   "cell_type": "markdown",
   "metadata": {},
   "source": [
    "using PCA to reduce elements"
   ]
  },
  {
   "cell_type": "code",
   "execution_count": null,
   "metadata": {},
   "outputs": [],
   "source": [
    "# X = PCA(n_components=2).fit_transform(X)"
   ]
  },
  {
   "cell_type": "code",
   "execution_count": null,
   "metadata": {},
   "outputs": [],
   "source": [
    "# y = np.array(y)"
   ]
  },
  {
   "cell_type": "code",
   "execution_count": null,
   "metadata": {},
   "outputs": [],
   "source": [
    "# X = preprocessing.StandardScaler().fit(X).transform(X)\n",
    "# y = y.reshape(-1, 1)\n",
    "# y = preprocessing.StandardScaler().fit(y).transform(y)"
   ]
  },
  {
   "cell_type": "code",
   "execution_count": null,
   "metadata": {},
   "outputs": [],
   "source": [
    "X_train, X_test, y_train, y_test = train_test_split(X, y, test_size=0.2, random_state=4)"
   ]
  },
  {
   "cell_type": "code",
   "execution_count": null,
   "metadata": {},
   "outputs": [],
   "source": [
    "# plt.hist(X, bins='auto')"
   ]
  },
  {
   "cell_type": "code",
   "execution_count": null,
   "metadata": {},
   "outputs": [],
   "source": [
    "# k = 4\n",
    "# neigh = KNeighborsClassifier(n_neighbors = k).fit(X_train,y_train)\n",
    "# yhat = neigh.predict(X_test)\n",
    "# print(\"Train set Accuracy: \", metrics.accuracy_score(y_train, neigh.predict(X_train)))\n",
    "# print(\"Test set Accuracy: \", metrics.accuracy_score(y_test, yhat))"
   ]
  },
  {
   "cell_type": "code",
   "execution_count": null,
   "metadata": {},
   "outputs": [],
   "source": [
    "# k = 4\n",
    "# neigh = KMeans(k).fit_transform(X_train)\n",
    "# yhat = neigh.predict(X_test)\n",
    "# print(\"Train set Accuracy: \", metrics.accuracy_score(y_train, neigh.predict(X_train)))\n",
    "# print(\"Test set Accuracy: \", metrics.accuracy_score(y_test, yhat))"
   ]
  },
  {
   "cell_type": "code",
   "execution_count": null,
   "metadata": {},
   "outputs": [],
   "source": [
    "# Ks = 20\n",
    "# mean_acc = np.zeros((Ks-1))\n",
    "# std_acc = np.zeros((Ks-1))\n",
    "# ConfustionMx = [];\n",
    "# for n in range(1,Ks):\n",
    "    \n",
    "#     #Train Model and Predict  \n",
    "#     neigh = KNeighborsClassifier(n_neighbors = n).fit(X_train,y_train)\n",
    "#     yhat=neigh.predict(X_test)\n",
    "#     mean_acc[n-1] = metrics.accuracy_score(y_test, yhat)\n",
    "\n",
    "    \n",
    "#     std_acc[n-1]=np.std(yhat==y_test)/np.sqrt(yhat.shape[0])\n",
    "\n",
    "# plt.plot(range(1,Ks),mean_acc,'g')\n",
    "# plt.fill_between(range(1,Ks),mean_acc - 1 * std_acc,mean_acc + 1 * std_acc, alpha=0.10)\n",
    "# plt.legend(('Accuracy ', '+/- 3xstd'))\n",
    "# plt.ylabel('Accuracy ')\n",
    "# plt.xlabel('(K)')\n",
    "# plt.tight_layout()\n",
    "# plt.show()\n",
    "# print( \"The best accuracy was with\", mean_acc.max(), \"with k=\", mean_acc.argmax()+1) "
   ]
  },
  {
   "cell_type": "code",
   "execution_count": null,
   "metadata": {},
   "outputs": [],
   "source": []
  },
  {
   "cell_type": "markdown",
   "metadata": {},
   "source": [
    "## Regression analysis"
   ]
  },
  {
   "cell_type": "code",
   "execution_count": null,
   "metadata": {},
   "outputs": [],
   "source": [
    "X = london_grouped_for_price.copy().drop('Postcode district', 1)\n",
    "prices_venue = avg_prices.merge(london_grouped_for_price[['Postcode district']], how='right', on='Postcode district')\n",
    "y = prices_venue['avg_price']\n",
    "y.shape"
   ]
  },
  {
   "cell_type": "code",
   "execution_count": null,
   "metadata": {},
   "outputs": [],
   "source": [
    "# from sklearn import linear_model\n",
    "# regr = linear_model.LinearRegression()\n",
    "# x = np.asanyarray(X)\n",
    "# y = np.asanyarray(y)\n",
    "# regr.fit (x, y)\n",
    "# # The coefficients\n",
    "# print ('Coefficients: ', regr.coef_)"
   ]
  },
  {
   "cell_type": "markdown",
   "metadata": {},
   "source": [
    "rejoining clusters with price data to see if this has any indication of value"
   ]
  },
  {
   "cell_type": "code",
   "execution_count": null,
   "metadata": {},
   "outputs": [],
   "source": [
    "#Find correlation for numeric variables\n",
    "\n",
    "target = prices_venue['avg_price']\n",
    "\n",
    "corr = train.corr()\n",
    "corr_abs = corr.abs()\n",
    "\n",
    "nr_num_cols = len(num_feat)\n",
    "\n",
    "ser_corr = corr_abs.nlargest(nr_num_cols, target)[target]\n",
    "print(ser_corr)"
   ]
  },
  {
   "cell_type": "code",
   "execution_count": null,
   "metadata": {},
   "outputs": [],
   "source": [
    "# Highest value Frequency percentage in categorical variables \n",
    "for i in list(cat_feat):\n",
    "    pct = df[i].value_counts()[0] / 2919\n",
    "    print('Highest value Percentage of {}: {:3f}'.format(i, pct))"
   ]
  },
  {
   "cell_type": "code",
   "execution_count": null,
   "metadata": {},
   "outputs": [],
   "source": [
    "# Highest value Frequency percentage in categorical variables \n",
    "for i in list(cat_feat):\n",
    "    pct = df[i].value_counts()[0] / 2919\n",
    "    print('Highest value Percentage of {}: {:3f}'.format(i, pct))"
   ]
  },
  {
   "cell_type": "code",
   "execution_count": null,
   "metadata": {},
   "outputs": [],
   "source": []
  }
 ],
 "metadata": {
  "kernelspec": {
   "display_name": "Python 3",
   "language": "python",
   "name": "python3"
  },
  "language_info": {
   "codemirror_mode": {
    "name": "ipython",
    "version": 3
   },
   "file_extension": ".py",
   "mimetype": "text/x-python",
   "name": "python",
   "nbconvert_exporter": "python",
   "pygments_lexer": "ipython3",
   "version": "3.7.1"
  }
 },
 "nbformat": 4,
 "nbformat_minor": 2
}
